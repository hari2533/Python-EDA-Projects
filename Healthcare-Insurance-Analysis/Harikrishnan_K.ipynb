{
 "cells": [
  {
   "cell_type": "markdown",
   "id": "0066fcff",
   "metadata": {},
   "source": [
    "## Healthcare Insurance Analysis\n"
   ]
  },
  {
   "cell_type": "code",
   "execution_count": 162,
   "id": "13597b55",
   "metadata": {},
   "outputs": [],
   "source": [
    "# Let's import the necessary library.\n",
    "import numpy as np \n",
    "import pandas as pd \n",
    "import matplotlib.pyplot as plt \n",
    "import seaborn as sns \n",
    "from datetime import datetime\n",
    "%matplotlib inline"
   ]
  },
  {
   "cell_type": "code",
   "execution_count": 163,
   "id": "fa4818fe",
   "metadata": {},
   "outputs": [],
   "source": [
    "# let's remove the unnecessary warnings.\n",
    "import warnings\n",
    "warnings.filterwarnings(\"ignore\")"
   ]
  },
  {
   "cell_type": "code",
   "execution_count": 164,
   "id": "5bbd4bfd",
   "metadata": {},
   "outputs": [],
   "source": [
    "# Now importing the dataset for the further operation.\n",
    "cust_details = pd.read_csv(\"Hospitalisation details.csv\")\n",
    "medical_details = pd.read_csv(\"Medical Examinations.csv\")\n",
    "cust_name = pd.read_excel(\"Names.xlsx\")"
   ]
  },
  {
   "cell_type": "code",
   "execution_count": 165,
   "id": "1b4a40a6",
   "metadata": {},
   "outputs": [
    {
     "data": {
      "text/html": [
       "<div>\n",
       "<style scoped>\n",
       "    .dataframe tbody tr th:only-of-type {\n",
       "        vertical-align: middle;\n",
       "    }\n",
       "\n",
       "    .dataframe tbody tr th {\n",
       "        vertical-align: top;\n",
       "    }\n",
       "\n",
       "    .dataframe thead th {\n",
       "        text-align: right;\n",
       "    }\n",
       "</style>\n",
       "<table border=\"1\" class=\"dataframe\">\n",
       "  <thead>\n",
       "    <tr style=\"text-align: right;\">\n",
       "      <th></th>\n",
       "      <th>Customer ID</th>\n",
       "      <th>year</th>\n",
       "      <th>month</th>\n",
       "      <th>date</th>\n",
       "      <th>children</th>\n",
       "      <th>charges</th>\n",
       "      <th>Hospital tier</th>\n",
       "      <th>City tier</th>\n",
       "      <th>State ID</th>\n",
       "    </tr>\n",
       "  </thead>\n",
       "  <tbody>\n",
       "    <tr>\n",
       "      <th>0</th>\n",
       "      <td>Id1</td>\n",
       "      <td>1968</td>\n",
       "      <td>Oct</td>\n",
       "      <td>12</td>\n",
       "      <td>0</td>\n",
       "      <td>63770.43</td>\n",
       "      <td>tier - 1</td>\n",
       "      <td>tier - 3</td>\n",
       "      <td>R1013</td>\n",
       "    </tr>\n",
       "    <tr>\n",
       "      <th>1</th>\n",
       "      <td>Id2</td>\n",
       "      <td>1977</td>\n",
       "      <td>Jun</td>\n",
       "      <td>8</td>\n",
       "      <td>0</td>\n",
       "      <td>62592.87</td>\n",
       "      <td>tier - 2</td>\n",
       "      <td>tier - 3</td>\n",
       "      <td>R1013</td>\n",
       "    </tr>\n",
       "    <tr>\n",
       "      <th>2</th>\n",
       "      <td>Id3</td>\n",
       "      <td>1970</td>\n",
       "      <td>?</td>\n",
       "      <td>11</td>\n",
       "      <td>3</td>\n",
       "      <td>60021.40</td>\n",
       "      <td>tier - 1</td>\n",
       "      <td>tier - 1</td>\n",
       "      <td>R1012</td>\n",
       "    </tr>\n",
       "    <tr>\n",
       "      <th>3</th>\n",
       "      <td>Id4</td>\n",
       "      <td>1991</td>\n",
       "      <td>Jun</td>\n",
       "      <td>6</td>\n",
       "      <td>1</td>\n",
       "      <td>58571.07</td>\n",
       "      <td>tier - 1</td>\n",
       "      <td>tier - 3</td>\n",
       "      <td>R1024</td>\n",
       "    </tr>\n",
       "    <tr>\n",
       "      <th>4</th>\n",
       "      <td>Id5</td>\n",
       "      <td>1989</td>\n",
       "      <td>Jun</td>\n",
       "      <td>19</td>\n",
       "      <td>0</td>\n",
       "      <td>55135.40</td>\n",
       "      <td>tier - 1</td>\n",
       "      <td>tier - 2</td>\n",
       "      <td>R1012</td>\n",
       "    </tr>\n",
       "  </tbody>\n",
       "</table>\n",
       "</div>"
      ],
      "text/plain": [
       "  Customer ID  year month  date  children   charges Hospital tier City tier  \\\n",
       "0         Id1  1968   Oct    12         0  63770.43      tier - 1  tier - 3   \n",
       "1         Id2  1977   Jun     8         0  62592.87      tier - 2  tier - 3   \n",
       "2         Id3  1970     ?    11         3  60021.40      tier - 1  tier - 1   \n",
       "3         Id4  1991   Jun     6         1  58571.07      tier - 1  tier - 3   \n",
       "4         Id5  1989   Jun    19         0  55135.40      tier - 1  tier - 2   \n",
       "\n",
       "  State ID  \n",
       "0    R1013  \n",
       "1    R1013  \n",
       "2    R1012  \n",
       "3    R1024  \n",
       "4    R1012  "
      ]
     },
     "execution_count": 165,
     "metadata": {},
     "output_type": "execute_result"
    }
   ],
   "source": [
    "cust_details.head()"
   ]
  },
  {
   "cell_type": "code",
   "execution_count": 166,
   "id": "7c5b3e78",
   "metadata": {},
   "outputs": [
    {
     "data": {
      "text/plain": [
       "(2335, 9)"
      ]
     },
     "execution_count": 166,
     "metadata": {},
     "output_type": "execute_result"
    }
   ],
   "source": [
    "cust_details.shape"
   ]
  },
  {
   "cell_type": "code",
   "execution_count": 167,
   "id": "0bab7f59",
   "metadata": {},
   "outputs": [
    {
     "data": {
      "text/html": [
       "<div>\n",
       "<style scoped>\n",
       "    .dataframe tbody tr th:only-of-type {\n",
       "        vertical-align: middle;\n",
       "    }\n",
       "\n",
       "    .dataframe tbody tr th {\n",
       "        vertical-align: top;\n",
       "    }\n",
       "\n",
       "    .dataframe thead th {\n",
       "        text-align: right;\n",
       "    }\n",
       "</style>\n",
       "<table border=\"1\" class=\"dataframe\">\n",
       "  <thead>\n",
       "    <tr style=\"text-align: right;\">\n",
       "      <th></th>\n",
       "      <th>Customer ID</th>\n",
       "      <th>BMI</th>\n",
       "      <th>HBA1C</th>\n",
       "      <th>Heart Issues</th>\n",
       "      <th>Any Transplants</th>\n",
       "      <th>Cancer history</th>\n",
       "      <th>NumberOfMajorSurgeries</th>\n",
       "      <th>smoker</th>\n",
       "    </tr>\n",
       "  </thead>\n",
       "  <tbody>\n",
       "    <tr>\n",
       "      <th>0</th>\n",
       "      <td>Id1</td>\n",
       "      <td>47.410</td>\n",
       "      <td>7.47</td>\n",
       "      <td>No</td>\n",
       "      <td>No</td>\n",
       "      <td>No</td>\n",
       "      <td>No major surgery</td>\n",
       "      <td>yes</td>\n",
       "    </tr>\n",
       "    <tr>\n",
       "      <th>1</th>\n",
       "      <td>Id2</td>\n",
       "      <td>30.360</td>\n",
       "      <td>5.77</td>\n",
       "      <td>No</td>\n",
       "      <td>No</td>\n",
       "      <td>No</td>\n",
       "      <td>No major surgery</td>\n",
       "      <td>yes</td>\n",
       "    </tr>\n",
       "    <tr>\n",
       "      <th>2</th>\n",
       "      <td>Id3</td>\n",
       "      <td>34.485</td>\n",
       "      <td>11.87</td>\n",
       "      <td>yes</td>\n",
       "      <td>No</td>\n",
       "      <td>No</td>\n",
       "      <td>2</td>\n",
       "      <td>yes</td>\n",
       "    </tr>\n",
       "    <tr>\n",
       "      <th>3</th>\n",
       "      <td>Id4</td>\n",
       "      <td>38.095</td>\n",
       "      <td>6.05</td>\n",
       "      <td>No</td>\n",
       "      <td>No</td>\n",
       "      <td>No</td>\n",
       "      <td>No major surgery</td>\n",
       "      <td>yes</td>\n",
       "    </tr>\n",
       "    <tr>\n",
       "      <th>4</th>\n",
       "      <td>Id5</td>\n",
       "      <td>35.530</td>\n",
       "      <td>5.45</td>\n",
       "      <td>No</td>\n",
       "      <td>No</td>\n",
       "      <td>No</td>\n",
       "      <td>No major surgery</td>\n",
       "      <td>yes</td>\n",
       "    </tr>\n",
       "  </tbody>\n",
       "</table>\n",
       "</div>"
      ],
      "text/plain": [
       "  Customer ID     BMI  HBA1C Heart Issues Any Transplants Cancer history  \\\n",
       "0         Id1  47.410   7.47           No              No             No   \n",
       "1         Id2  30.360   5.77           No              No             No   \n",
       "2         Id3  34.485  11.87          yes              No             No   \n",
       "3         Id4  38.095   6.05           No              No             No   \n",
       "4         Id5  35.530   5.45           No              No             No   \n",
       "\n",
       "  NumberOfMajorSurgeries smoker  \n",
       "0       No major surgery    yes  \n",
       "1       No major surgery    yes  \n",
       "2                      2    yes  \n",
       "3       No major surgery    yes  \n",
       "4       No major surgery    yes  "
      ]
     },
     "execution_count": 167,
     "metadata": {},
     "output_type": "execute_result"
    }
   ],
   "source": [
    "medical_details.head()"
   ]
  },
  {
   "cell_type": "code",
   "execution_count": 168,
   "id": "85cdd9db",
   "metadata": {},
   "outputs": [
    {
     "data": {
      "text/plain": [
       "(2335, 8)"
      ]
     },
     "execution_count": 168,
     "metadata": {},
     "output_type": "execute_result"
    }
   ],
   "source": [
    "medical_details.shape"
   ]
  },
  {
   "cell_type": "code",
   "execution_count": 169,
   "id": "e0de0405",
   "metadata": {},
   "outputs": [
    {
     "data": {
      "text/html": [
       "<div>\n",
       "<style scoped>\n",
       "    .dataframe tbody tr th:only-of-type {\n",
       "        vertical-align: middle;\n",
       "    }\n",
       "\n",
       "    .dataframe tbody tr th {\n",
       "        vertical-align: top;\n",
       "    }\n",
       "\n",
       "    .dataframe thead th {\n",
       "        text-align: right;\n",
       "    }\n",
       "</style>\n",
       "<table border=\"1\" class=\"dataframe\">\n",
       "  <thead>\n",
       "    <tr style=\"text-align: right;\">\n",
       "      <th></th>\n",
       "      <th>Customer ID</th>\n",
       "      <th>name</th>\n",
       "    </tr>\n",
       "  </thead>\n",
       "  <tbody>\n",
       "    <tr>\n",
       "      <th>0</th>\n",
       "      <td>Id1</td>\n",
       "      <td>Hawks, Ms.  Kelly</td>\n",
       "    </tr>\n",
       "    <tr>\n",
       "      <th>1</th>\n",
       "      <td>Id2</td>\n",
       "      <td>Lehner, Mr.  Matthew D</td>\n",
       "    </tr>\n",
       "    <tr>\n",
       "      <th>2</th>\n",
       "      <td>Id3</td>\n",
       "      <td>Lu, Mr.  Phil</td>\n",
       "    </tr>\n",
       "    <tr>\n",
       "      <th>3</th>\n",
       "      <td>Id4</td>\n",
       "      <td>Osborne, Ms.  Kelsey</td>\n",
       "    </tr>\n",
       "    <tr>\n",
       "      <th>4</th>\n",
       "      <td>Id5</td>\n",
       "      <td>Kadala, Ms.  Kristyn</td>\n",
       "    </tr>\n",
       "  </tbody>\n",
       "</table>\n",
       "</div>"
      ],
      "text/plain": [
       "  Customer ID                    name\n",
       "0         Id1       Hawks, Ms.  Kelly\n",
       "1         Id2  Lehner, Mr.  Matthew D\n",
       "2         Id3           Lu, Mr.  Phil\n",
       "3         Id4    Osborne, Ms.  Kelsey\n",
       "4         Id5    Kadala, Ms.  Kristyn"
      ]
     },
     "execution_count": 169,
     "metadata": {},
     "output_type": "execute_result"
    }
   ],
   "source": [
    "cust_name.head()"
   ]
  },
  {
   "cell_type": "code",
   "execution_count": 170,
   "id": "3dd45a2f",
   "metadata": {},
   "outputs": [
    {
     "data": {
      "text/plain": [
       "(2335, 2)"
      ]
     },
     "execution_count": 170,
     "metadata": {},
     "output_type": "execute_result"
    }
   ],
   "source": [
    "cust_name.shape"
   ]
  },
  {
   "cell_type": "markdown",
   "id": "93206a7b",
   "metadata": {},
   "source": [
    "## Project Task: Week 1"
   ]
  },
  {
   "cell_type": "markdown",
   "id": "e83a58a5",
   "metadata": {},
   "source": [
    "### 1. Collate the files so that all the information is in one place"
   ]
  },
  {
   "cell_type": "code",
   "execution_count": 171,
   "id": "6c3ad527",
   "metadata": {},
   "outputs": [
    {
     "data": {
      "text/html": [
       "<div>\n",
       "<style scoped>\n",
       "    .dataframe tbody tr th:only-of-type {\n",
       "        vertical-align: middle;\n",
       "    }\n",
       "\n",
       "    .dataframe tbody tr th {\n",
       "        vertical-align: top;\n",
       "    }\n",
       "\n",
       "    .dataframe thead th {\n",
       "        text-align: right;\n",
       "    }\n",
       "</style>\n",
       "<table border=\"1\" class=\"dataframe\">\n",
       "  <thead>\n",
       "    <tr style=\"text-align: right;\">\n",
       "      <th></th>\n",
       "      <th>Customer ID</th>\n",
       "      <th>name</th>\n",
       "      <th>year</th>\n",
       "      <th>month</th>\n",
       "      <th>date</th>\n",
       "      <th>children</th>\n",
       "      <th>charges</th>\n",
       "      <th>Hospital tier</th>\n",
       "      <th>City tier</th>\n",
       "      <th>State ID</th>\n",
       "    </tr>\n",
       "  </thead>\n",
       "  <tbody>\n",
       "    <tr>\n",
       "      <th>0</th>\n",
       "      <td>Id1</td>\n",
       "      <td>Hawks, Ms.  Kelly</td>\n",
       "      <td>1968</td>\n",
       "      <td>Oct</td>\n",
       "      <td>12</td>\n",
       "      <td>0</td>\n",
       "      <td>63770.43</td>\n",
       "      <td>tier - 1</td>\n",
       "      <td>tier - 3</td>\n",
       "      <td>R1013</td>\n",
       "    </tr>\n",
       "    <tr>\n",
       "      <th>1</th>\n",
       "      <td>Id2</td>\n",
       "      <td>Lehner, Mr.  Matthew D</td>\n",
       "      <td>1977</td>\n",
       "      <td>Jun</td>\n",
       "      <td>8</td>\n",
       "      <td>0</td>\n",
       "      <td>62592.87</td>\n",
       "      <td>tier - 2</td>\n",
       "      <td>tier - 3</td>\n",
       "      <td>R1013</td>\n",
       "    </tr>\n",
       "    <tr>\n",
       "      <th>2</th>\n",
       "      <td>Id3</td>\n",
       "      <td>Lu, Mr.  Phil</td>\n",
       "      <td>1970</td>\n",
       "      <td>?</td>\n",
       "      <td>11</td>\n",
       "      <td>3</td>\n",
       "      <td>60021.40</td>\n",
       "      <td>tier - 1</td>\n",
       "      <td>tier - 1</td>\n",
       "      <td>R1012</td>\n",
       "    </tr>\n",
       "    <tr>\n",
       "      <th>3</th>\n",
       "      <td>Id4</td>\n",
       "      <td>Osborne, Ms.  Kelsey</td>\n",
       "      <td>1991</td>\n",
       "      <td>Jun</td>\n",
       "      <td>6</td>\n",
       "      <td>1</td>\n",
       "      <td>58571.07</td>\n",
       "      <td>tier - 1</td>\n",
       "      <td>tier - 3</td>\n",
       "      <td>R1024</td>\n",
       "    </tr>\n",
       "    <tr>\n",
       "      <th>4</th>\n",
       "      <td>Id5</td>\n",
       "      <td>Kadala, Ms.  Kristyn</td>\n",
       "      <td>1989</td>\n",
       "      <td>Jun</td>\n",
       "      <td>19</td>\n",
       "      <td>0</td>\n",
       "      <td>55135.40</td>\n",
       "      <td>tier - 1</td>\n",
       "      <td>tier - 2</td>\n",
       "      <td>R1012</td>\n",
       "    </tr>\n",
       "  </tbody>\n",
       "</table>\n",
       "</div>"
      ],
      "text/plain": [
       "  Customer ID                    name  year month  date  children   charges  \\\n",
       "0         Id1       Hawks, Ms.  Kelly  1968   Oct    12         0  63770.43   \n",
       "1         Id2  Lehner, Mr.  Matthew D  1977   Jun     8         0  62592.87   \n",
       "2         Id3           Lu, Mr.  Phil  1970     ?    11         3  60021.40   \n",
       "3         Id4    Osborne, Ms.  Kelsey  1991   Jun     6         1  58571.07   \n",
       "4         Id5    Kadala, Ms.  Kristyn  1989   Jun    19         0  55135.40   \n",
       "\n",
       "  Hospital tier City tier State ID  \n",
       "0      tier - 1  tier - 3    R1013  \n",
       "1      tier - 2  tier - 3    R1013  \n",
       "2      tier - 1  tier - 1    R1012  \n",
       "3      tier - 1  tier - 3    R1024  \n",
       "4      tier - 1  tier - 2    R1012  "
      ]
     },
     "execution_count": 171,
     "metadata": {},
     "output_type": "execute_result"
    }
   ],
   "source": [
    "# Now combining the data so that all information could be examine in once go through.\n",
    "cust_df1 = pd.merge(cust_name, cust_details, on = \"Customer ID\")\n",
    "cust_df1.head()"
   ]
  },
  {
   "cell_type": "code",
   "execution_count": 172,
   "id": "3b871604",
   "metadata": {},
   "outputs": [
    {
     "data": {
      "text/html": [
       "<div>\n",
       "<style scoped>\n",
       "    .dataframe tbody tr th:only-of-type {\n",
       "        vertical-align: middle;\n",
       "    }\n",
       "\n",
       "    .dataframe tbody tr th {\n",
       "        vertical-align: top;\n",
       "    }\n",
       "\n",
       "    .dataframe thead th {\n",
       "        text-align: right;\n",
       "    }\n",
       "</style>\n",
       "<table border=\"1\" class=\"dataframe\">\n",
       "  <thead>\n",
       "    <tr style=\"text-align: right;\">\n",
       "      <th></th>\n",
       "      <th>Customer ID</th>\n",
       "      <th>name</th>\n",
       "      <th>year</th>\n",
       "      <th>month</th>\n",
       "      <th>date</th>\n",
       "      <th>children</th>\n",
       "      <th>charges</th>\n",
       "      <th>Hospital tier</th>\n",
       "      <th>City tier</th>\n",
       "      <th>State ID</th>\n",
       "      <th>BMI</th>\n",
       "      <th>HBA1C</th>\n",
       "      <th>Heart Issues</th>\n",
       "      <th>Any Transplants</th>\n",
       "      <th>Cancer history</th>\n",
       "      <th>NumberOfMajorSurgeries</th>\n",
       "      <th>smoker</th>\n",
       "    </tr>\n",
       "  </thead>\n",
       "  <tbody>\n",
       "    <tr>\n",
       "      <th>0</th>\n",
       "      <td>Id1</td>\n",
       "      <td>Hawks, Ms.  Kelly</td>\n",
       "      <td>1968</td>\n",
       "      <td>Oct</td>\n",
       "      <td>12</td>\n",
       "      <td>0</td>\n",
       "      <td>63770.43</td>\n",
       "      <td>tier - 1</td>\n",
       "      <td>tier - 3</td>\n",
       "      <td>R1013</td>\n",
       "      <td>47.410</td>\n",
       "      <td>7.47</td>\n",
       "      <td>No</td>\n",
       "      <td>No</td>\n",
       "      <td>No</td>\n",
       "      <td>No major surgery</td>\n",
       "      <td>yes</td>\n",
       "    </tr>\n",
       "    <tr>\n",
       "      <th>1</th>\n",
       "      <td>Id2</td>\n",
       "      <td>Lehner, Mr.  Matthew D</td>\n",
       "      <td>1977</td>\n",
       "      <td>Jun</td>\n",
       "      <td>8</td>\n",
       "      <td>0</td>\n",
       "      <td>62592.87</td>\n",
       "      <td>tier - 2</td>\n",
       "      <td>tier - 3</td>\n",
       "      <td>R1013</td>\n",
       "      <td>30.360</td>\n",
       "      <td>5.77</td>\n",
       "      <td>No</td>\n",
       "      <td>No</td>\n",
       "      <td>No</td>\n",
       "      <td>No major surgery</td>\n",
       "      <td>yes</td>\n",
       "    </tr>\n",
       "    <tr>\n",
       "      <th>2</th>\n",
       "      <td>Id3</td>\n",
       "      <td>Lu, Mr.  Phil</td>\n",
       "      <td>1970</td>\n",
       "      <td>?</td>\n",
       "      <td>11</td>\n",
       "      <td>3</td>\n",
       "      <td>60021.40</td>\n",
       "      <td>tier - 1</td>\n",
       "      <td>tier - 1</td>\n",
       "      <td>R1012</td>\n",
       "      <td>34.485</td>\n",
       "      <td>11.87</td>\n",
       "      <td>yes</td>\n",
       "      <td>No</td>\n",
       "      <td>No</td>\n",
       "      <td>2</td>\n",
       "      <td>yes</td>\n",
       "    </tr>\n",
       "    <tr>\n",
       "      <th>3</th>\n",
       "      <td>Id4</td>\n",
       "      <td>Osborne, Ms.  Kelsey</td>\n",
       "      <td>1991</td>\n",
       "      <td>Jun</td>\n",
       "      <td>6</td>\n",
       "      <td>1</td>\n",
       "      <td>58571.07</td>\n",
       "      <td>tier - 1</td>\n",
       "      <td>tier - 3</td>\n",
       "      <td>R1024</td>\n",
       "      <td>38.095</td>\n",
       "      <td>6.05</td>\n",
       "      <td>No</td>\n",
       "      <td>No</td>\n",
       "      <td>No</td>\n",
       "      <td>No major surgery</td>\n",
       "      <td>yes</td>\n",
       "    </tr>\n",
       "    <tr>\n",
       "      <th>4</th>\n",
       "      <td>Id5</td>\n",
       "      <td>Kadala, Ms.  Kristyn</td>\n",
       "      <td>1989</td>\n",
       "      <td>Jun</td>\n",
       "      <td>19</td>\n",
       "      <td>0</td>\n",
       "      <td>55135.40</td>\n",
       "      <td>tier - 1</td>\n",
       "      <td>tier - 2</td>\n",
       "      <td>R1012</td>\n",
       "      <td>35.530</td>\n",
       "      <td>5.45</td>\n",
       "      <td>No</td>\n",
       "      <td>No</td>\n",
       "      <td>No</td>\n",
       "      <td>No major surgery</td>\n",
       "      <td>yes</td>\n",
       "    </tr>\n",
       "  </tbody>\n",
       "</table>\n",
       "</div>"
      ],
      "text/plain": [
       "  Customer ID                    name  year month  date  children   charges  \\\n",
       "0         Id1       Hawks, Ms.  Kelly  1968   Oct    12         0  63770.43   \n",
       "1         Id2  Lehner, Mr.  Matthew D  1977   Jun     8         0  62592.87   \n",
       "2         Id3           Lu, Mr.  Phil  1970     ?    11         3  60021.40   \n",
       "3         Id4    Osborne, Ms.  Kelsey  1991   Jun     6         1  58571.07   \n",
       "4         Id5    Kadala, Ms.  Kristyn  1989   Jun    19         0  55135.40   \n",
       "\n",
       "  Hospital tier City tier State ID     BMI  HBA1C Heart Issues  \\\n",
       "0      tier - 1  tier - 3    R1013  47.410   7.47           No   \n",
       "1      tier - 2  tier - 3    R1013  30.360   5.77           No   \n",
       "2      tier - 1  tier - 1    R1012  34.485  11.87          yes   \n",
       "3      tier - 1  tier - 3    R1024  38.095   6.05           No   \n",
       "4      tier - 1  tier - 2    R1012  35.530   5.45           No   \n",
       "\n",
       "  Any Transplants Cancer history NumberOfMajorSurgeries smoker  \n",
       "0              No             No       No major surgery    yes  \n",
       "1              No             No       No major surgery    yes  \n",
       "2              No             No                      2    yes  \n",
       "3              No             No       No major surgery    yes  \n",
       "4              No             No       No major surgery    yes  "
      ]
     },
     "execution_count": 172,
     "metadata": {},
     "output_type": "execute_result"
    }
   ],
   "source": [
    "# Now lets combine the last data set and Complete the all information.\n",
    "final_df = pd.merge(cust_df1, medical_details, on = \"Customer ID\")\n",
    "final_df.head()"
   ]
  },
  {
   "cell_type": "code",
   "execution_count": 173,
   "id": "ba78dce0",
   "metadata": {},
   "outputs": [
    {
     "data": {
      "text/plain": [
       "(2335, 17)"
      ]
     },
     "execution_count": 173,
     "metadata": {},
     "output_type": "execute_result"
    }
   ],
   "source": [
    "final_df.shape"
   ]
  },
  {
   "cell_type": "markdown",
   "id": "02939149",
   "metadata": {},
   "source": [
    "### 2. Check for missing values in the dataset"
   ]
  },
  {
   "cell_type": "code",
   "execution_count": 174,
   "id": "57a615ae",
   "metadata": {},
   "outputs": [
    {
     "name": "stdout",
     "output_type": "stream",
     "text": [
      "<class 'pandas.core.frame.DataFrame'>\n",
      "Int64Index: 2335 entries, 0 to 2334\n",
      "Data columns (total 17 columns):\n",
      " #   Column                  Non-Null Count  Dtype  \n",
      "---  ------                  --------------  -----  \n",
      " 0   Customer ID             2335 non-null   object \n",
      " 1   name                    2335 non-null   object \n",
      " 2   year                    2335 non-null   object \n",
      " 3   month                   2335 non-null   object \n",
      " 4   date                    2335 non-null   int64  \n",
      " 5   children                2335 non-null   int64  \n",
      " 6   charges                 2335 non-null   float64\n",
      " 7   Hospital tier           2335 non-null   object \n",
      " 8   City tier               2335 non-null   object \n",
      " 9   State ID                2335 non-null   object \n",
      " 10  BMI                     2335 non-null   float64\n",
      " 11  HBA1C                   2335 non-null   float64\n",
      " 12  Heart Issues            2335 non-null   object \n",
      " 13  Any Transplants         2335 non-null   object \n",
      " 14  Cancer history          2335 non-null   object \n",
      " 15  NumberOfMajorSurgeries  2335 non-null   object \n",
      " 16  smoker                  2335 non-null   object \n",
      "dtypes: float64(3), int64(2), object(12)\n",
      "memory usage: 328.4+ KB\n"
     ]
    }
   ],
   "source": [
    "final_df.info()"
   ]
  },
  {
   "cell_type": "code",
   "execution_count": 175,
   "id": "fe7a45f0",
   "metadata": {},
   "outputs": [
    {
     "data": {
      "text/plain": [
       "object     12\n",
       "float64     3\n",
       "int64       2\n",
       "dtype: int64"
      ]
     },
     "execution_count": 175,
     "metadata": {},
     "output_type": "execute_result"
    }
   ],
   "source": [
    "final_df.dtypes.value_counts()"
   ]
  },
  {
   "cell_type": "code",
   "execution_count": 176,
   "id": "8f09295e",
   "metadata": {},
   "outputs": [
    {
     "data": {
      "text/plain": [
       "Customer ID               0\n",
       "name                      0\n",
       "year                      0\n",
       "month                     0\n",
       "date                      0\n",
       "children                  0\n",
       "charges                   0\n",
       "Hospital tier             0\n",
       "City tier                 0\n",
       "State ID                  0\n",
       "BMI                       0\n",
       "HBA1C                     0\n",
       "Heart Issues              0\n",
       "Any Transplants           0\n",
       "Cancer history            0\n",
       "NumberOfMajorSurgeries    0\n",
       "smoker                    0\n",
       "dtype: int64"
      ]
     },
     "execution_count": 176,
     "metadata": {},
     "output_type": "execute_result"
    }
   ],
   "source": [
    "# Lets check the missing values in the data set.\n",
    "final_df.isnull().sum()"
   ]
  },
  {
   "cell_type": "markdown",
   "id": "d1782289",
   "metadata": {},
   "source": [
    "There is no missing value in the dataset it is clear fromt he above code, But there is some unusual value that we have to deal. "
   ]
  },
  {
   "cell_type": "markdown",
   "id": "b83e5662",
   "metadata": {},
   "source": [
    "### 3. Find the percentage of rows that have trivial value (for example, ?), and delete such rows if they do not contain significant information\n"
   ]
  },
  {
   "cell_type": "code",
   "execution_count": 177,
   "id": "bfd07d11",
   "metadata": {},
   "outputs": [
    {
     "data": {
      "text/html": [
       "<div>\n",
       "<style scoped>\n",
       "    .dataframe tbody tr th:only-of-type {\n",
       "        vertical-align: middle;\n",
       "    }\n",
       "\n",
       "    .dataframe tbody tr th {\n",
       "        vertical-align: top;\n",
       "    }\n",
       "\n",
       "    .dataframe thead th {\n",
       "        text-align: right;\n",
       "    }\n",
       "</style>\n",
       "<table border=\"1\" class=\"dataframe\">\n",
       "  <thead>\n",
       "    <tr style=\"text-align: right;\">\n",
       "      <th></th>\n",
       "      <th>Customer ID</th>\n",
       "      <th>name</th>\n",
       "      <th>year</th>\n",
       "      <th>month</th>\n",
       "      <th>date</th>\n",
       "      <th>children</th>\n",
       "      <th>charges</th>\n",
       "      <th>Hospital tier</th>\n",
       "      <th>City tier</th>\n",
       "      <th>State ID</th>\n",
       "      <th>BMI</th>\n",
       "      <th>HBA1C</th>\n",
       "      <th>Heart Issues</th>\n",
       "      <th>Any Transplants</th>\n",
       "      <th>Cancer history</th>\n",
       "      <th>NumberOfMajorSurgeries</th>\n",
       "      <th>smoker</th>\n",
       "    </tr>\n",
       "  </thead>\n",
       "  <tbody>\n",
       "    <tr>\n",
       "      <th>2</th>\n",
       "      <td>Id3</td>\n",
       "      <td>Lu, Mr.  Phil</td>\n",
       "      <td>1970</td>\n",
       "      <td>?</td>\n",
       "      <td>11</td>\n",
       "      <td>3</td>\n",
       "      <td>60021.40</td>\n",
       "      <td>tier - 1</td>\n",
       "      <td>tier - 1</td>\n",
       "      <td>R1012</td>\n",
       "      <td>34.485</td>\n",
       "      <td>11.87</td>\n",
       "      <td>yes</td>\n",
       "      <td>No</td>\n",
       "      <td>No</td>\n",
       "      <td>2</td>\n",
       "      <td>yes</td>\n",
       "    </tr>\n",
       "    <tr>\n",
       "      <th>169</th>\n",
       "      <td>Id170</td>\n",
       "      <td>Torphy, Mr.  Bobby</td>\n",
       "      <td>2000</td>\n",
       "      <td>Sep</td>\n",
       "      <td>5</td>\n",
       "      <td>1</td>\n",
       "      <td>37165.16</td>\n",
       "      <td>tier - 1</td>\n",
       "      <td>tier - 3</td>\n",
       "      <td>?</td>\n",
       "      <td>37.620</td>\n",
       "      <td>6.32</td>\n",
       "      <td>yes</td>\n",
       "      <td>yes</td>\n",
       "      <td>No</td>\n",
       "      <td>2</td>\n",
       "      <td>yes</td>\n",
       "    </tr>\n",
       "    <tr>\n",
       "      <th>559</th>\n",
       "      <td>Id560</td>\n",
       "      <td>Pearlman, Mr.  Oz</td>\n",
       "      <td>1994</td>\n",
       "      <td>Jul</td>\n",
       "      <td>1</td>\n",
       "      <td>3</td>\n",
       "      <td>17663.14</td>\n",
       "      <td>tier - 1</td>\n",
       "      <td>tier - 3</td>\n",
       "      <td>R1013</td>\n",
       "      <td>23.980</td>\n",
       "      <td>4.90</td>\n",
       "      <td>No</td>\n",
       "      <td>No</td>\n",
       "      <td>No</td>\n",
       "      <td>No major surgery</td>\n",
       "      <td>?</td>\n",
       "    </tr>\n",
       "    <tr>\n",
       "      <th>634</th>\n",
       "      <td>Id635</td>\n",
       "      <td>Bruns, Mr.  Zachary T</td>\n",
       "      <td>2004</td>\n",
       "      <td>Jul</td>\n",
       "      <td>17</td>\n",
       "      <td>0</td>\n",
       "      <td>15518.18</td>\n",
       "      <td>tier - 2</td>\n",
       "      <td>tier - 3</td>\n",
       "      <td>R1015</td>\n",
       "      <td>25.175</td>\n",
       "      <td>4.96</td>\n",
       "      <td>No</td>\n",
       "      <td>yes</td>\n",
       "      <td>No</td>\n",
       "      <td>1</td>\n",
       "      <td>?</td>\n",
       "    </tr>\n",
       "    <tr>\n",
       "      <th>1285</th>\n",
       "      <td>Id1286</td>\n",
       "      <td>Ainsley, Ms.  Katie M.</td>\n",
       "      <td>?</td>\n",
       "      <td>Dec</td>\n",
       "      <td>12</td>\n",
       "      <td>1</td>\n",
       "      <td>8547.69</td>\n",
       "      <td>tier - 2</td>\n",
       "      <td>tier - 1</td>\n",
       "      <td>R1013</td>\n",
       "      <td>29.370</td>\n",
       "      <td>8.01</td>\n",
       "      <td>yes</td>\n",
       "      <td>No</td>\n",
       "      <td>No</td>\n",
       "      <td>1</td>\n",
       "      <td>No</td>\n",
       "    </tr>\n",
       "    <tr>\n",
       "      <th>1288</th>\n",
       "      <td>Id1289</td>\n",
       "      <td>Levine, Ms.  Annie J.</td>\n",
       "      <td>?</td>\n",
       "      <td>Jul</td>\n",
       "      <td>24</td>\n",
       "      <td>0</td>\n",
       "      <td>8534.67</td>\n",
       "      <td>tier - 2</td>\n",
       "      <td>tier - 3</td>\n",
       "      <td>R1024</td>\n",
       "      <td>24.320</td>\n",
       "      <td>11.56</td>\n",
       "      <td>yes</td>\n",
       "      <td>No</td>\n",
       "      <td>No</td>\n",
       "      <td>1</td>\n",
       "      <td>No</td>\n",
       "    </tr>\n",
       "    <tr>\n",
       "      <th>1792</th>\n",
       "      <td>Id1793</td>\n",
       "      <td>Capriolo, Mr.  Michael</td>\n",
       "      <td>1995</td>\n",
       "      <td>Dec</td>\n",
       "      <td>1</td>\n",
       "      <td>3</td>\n",
       "      <td>4827.90</td>\n",
       "      <td>tier - 1</td>\n",
       "      <td>tier - 2</td>\n",
       "      <td>?</td>\n",
       "      <td>18.905</td>\n",
       "      <td>4.91</td>\n",
       "      <td>yes</td>\n",
       "      <td>No</td>\n",
       "      <td>No</td>\n",
       "      <td>1</td>\n",
       "      <td>No</td>\n",
       "    </tr>\n",
       "    <tr>\n",
       "      <th>2317</th>\n",
       "      <td>Id2318</td>\n",
       "      <td>Gagnon, Ms.  Candice M</td>\n",
       "      <td>1996</td>\n",
       "      <td>?</td>\n",
       "      <td>18</td>\n",
       "      <td>0</td>\n",
       "      <td>770.38</td>\n",
       "      <td>tier - 3</td>\n",
       "      <td>?</td>\n",
       "      <td>R1012</td>\n",
       "      <td>18.820</td>\n",
       "      <td>5.51</td>\n",
       "      <td>yes</td>\n",
       "      <td>No</td>\n",
       "      <td>No</td>\n",
       "      <td>No major surgery</td>\n",
       "      <td>No</td>\n",
       "    </tr>\n",
       "    <tr>\n",
       "      <th>2321</th>\n",
       "      <td>Id2322</td>\n",
       "      <td>Street, Ms.  Holly</td>\n",
       "      <td>2002</td>\n",
       "      <td>?</td>\n",
       "      <td>19</td>\n",
       "      <td>0</td>\n",
       "      <td>750.00</td>\n",
       "      <td>tier - 3</td>\n",
       "      <td>tier - 1</td>\n",
       "      <td>R1012</td>\n",
       "      <td>21.380</td>\n",
       "      <td>8.01</td>\n",
       "      <td>No</td>\n",
       "      <td>No</td>\n",
       "      <td>No</td>\n",
       "      <td>No major surgery</td>\n",
       "      <td>No</td>\n",
       "    </tr>\n",
       "    <tr>\n",
       "      <th>2323</th>\n",
       "      <td>Id2324</td>\n",
       "      <td>Duffy, Ms.  Meghan K</td>\n",
       "      <td>1999</td>\n",
       "      <td>Dec</td>\n",
       "      <td>26</td>\n",
       "      <td>0</td>\n",
       "      <td>700.00</td>\n",
       "      <td>?</td>\n",
       "      <td>tier - 3</td>\n",
       "      <td>R1013</td>\n",
       "      <td>22.240</td>\n",
       "      <td>5.04</td>\n",
       "      <td>No</td>\n",
       "      <td>No</td>\n",
       "      <td>No</td>\n",
       "      <td>No major surgery</td>\n",
       "      <td>No</td>\n",
       "    </tr>\n",
       "  </tbody>\n",
       "</table>\n",
       "</div>"
      ],
      "text/plain": [
       "     Customer ID                    name  year month  date  children  \\\n",
       "2            Id3           Lu, Mr.  Phil  1970     ?    11         3   \n",
       "169        Id170      Torphy, Mr.  Bobby  2000   Sep     5         1   \n",
       "559        Id560       Pearlman, Mr.  Oz  1994   Jul     1         3   \n",
       "634        Id635   Bruns, Mr.  Zachary T  2004   Jul    17         0   \n",
       "1285      Id1286  Ainsley, Ms.  Katie M.     ?   Dec    12         1   \n",
       "1288      Id1289   Levine, Ms.  Annie J.     ?   Jul    24         0   \n",
       "1792      Id1793  Capriolo, Mr.  Michael  1995   Dec     1         3   \n",
       "2317      Id2318  Gagnon, Ms.  Candice M  1996     ?    18         0   \n",
       "2321      Id2322      Street, Ms.  Holly  2002     ?    19         0   \n",
       "2323      Id2324    Duffy, Ms.  Meghan K  1999   Dec    26         0   \n",
       "\n",
       "       charges Hospital tier City tier State ID     BMI  HBA1C Heart Issues  \\\n",
       "2     60021.40      tier - 1  tier - 1    R1012  34.485  11.87          yes   \n",
       "169   37165.16      tier - 1  tier - 3        ?  37.620   6.32          yes   \n",
       "559   17663.14      tier - 1  tier - 3    R1013  23.980   4.90           No   \n",
       "634   15518.18      tier - 2  tier - 3    R1015  25.175   4.96           No   \n",
       "1285   8547.69      tier - 2  tier - 1    R1013  29.370   8.01          yes   \n",
       "1288   8534.67      tier - 2  tier - 3    R1024  24.320  11.56          yes   \n",
       "1792   4827.90      tier - 1  tier - 2        ?  18.905   4.91          yes   \n",
       "2317    770.38      tier - 3         ?    R1012  18.820   5.51          yes   \n",
       "2321    750.00      tier - 3  tier - 1    R1012  21.380   8.01           No   \n",
       "2323    700.00             ?  tier - 3    R1013  22.240   5.04           No   \n",
       "\n",
       "     Any Transplants Cancer history NumberOfMajorSurgeries smoker  \n",
       "2                 No             No                      2    yes  \n",
       "169              yes             No                      2    yes  \n",
       "559               No             No       No major surgery      ?  \n",
       "634              yes             No                      1      ?  \n",
       "1285              No             No                      1     No  \n",
       "1288              No             No                      1     No  \n",
       "1792              No             No                      1     No  \n",
       "2317              No             No       No major surgery     No  \n",
       "2321              No             No       No major surgery     No  \n",
       "2323              No             No       No major surgery     No  "
      ]
     },
     "execution_count": 177,
     "metadata": {},
     "output_type": "execute_result"
    }
   ],
   "source": [
    "trivial_value = final_df[final_df.eq(\"?\").any(1)]\n",
    "trivial_value"
   ]
  },
  {
   "cell_type": "code",
   "execution_count": 178,
   "id": "f59d9c7b",
   "metadata": {},
   "outputs": [
    {
     "data": {
      "text/plain": [
       "(10, 17)"
      ]
     },
     "execution_count": 178,
     "metadata": {},
     "output_type": "execute_result"
    }
   ],
   "source": [
    "trivial_value.shape"
   ]
  },
  {
   "cell_type": "code",
   "execution_count": 179,
   "id": "41307565",
   "metadata": {},
   "outputs": [
    {
     "data": {
      "text/plain": [
       "0.43"
      ]
     },
     "execution_count": 179,
     "metadata": {},
     "output_type": "execute_result"
    }
   ],
   "source": [
    "# Percentage of row that have the trivial values\n",
    "round(trivial_value.shape[0]/final_df.shape[0]*100, 2)"
   ]
  },
  {
   "cell_type": "markdown",
   "id": "187a1eca",
   "metadata": {},
   "source": [
    "There is total 0.43% of rows contain the trivial values."
   ]
  },
  {
   "cell_type": "code",
   "execution_count": 180,
   "id": "28532edf",
   "metadata": {},
   "outputs": [],
   "source": [
    "# Now lets drop the all row that contain the trivial values in the data set.\n",
    "final_df.drop(final_df[final_df.eq(\"?\").any(1)].index, axis=0, inplace=True)"
   ]
  },
  {
   "cell_type": "code",
   "execution_count": 181,
   "id": "b30a2ce7",
   "metadata": {},
   "outputs": [
    {
     "data": {
      "text/plain": [
       "(2325, 17)"
      ]
     },
     "execution_count": 181,
     "metadata": {},
     "output_type": "execute_result"
    }
   ],
   "source": [
    "final_df.shape"
   ]
  },
  {
   "cell_type": "markdown",
   "id": "34ef1783",
   "metadata": {},
   "source": [
    "### 4. Use the necessary transformation methods to deal with the nominal and ordinal categorical variables in the dataset"
   ]
  },
  {
   "cell_type": "code",
   "execution_count": 182,
   "id": "b13322f6",
   "metadata": {},
   "outputs": [],
   "source": [
    "# First we will deal with the nominal categorical variable."
   ]
  },
  {
   "cell_type": "code",
   "execution_count": 183,
   "id": "9c26fb3b",
   "metadata": {
    "scrolled": true
   },
   "outputs": [
    {
     "data": {
      "text/plain": [
       "No     1405\n",
       "yes     920\n",
       "Name: Heart Issues, dtype: int64"
      ]
     },
     "execution_count": 183,
     "metadata": {},
     "output_type": "execute_result"
    }
   ],
   "source": [
    "final_df[\"Heart Issues\"].value_counts()"
   ]
  },
  {
   "cell_type": "code",
   "execution_count": 184,
   "id": "d57e9e47",
   "metadata": {},
   "outputs": [
    {
     "data": {
      "text/plain": [
       "No     2183\n",
       "yes     142\n",
       "Name: Any Transplants, dtype: int64"
      ]
     },
     "execution_count": 184,
     "metadata": {},
     "output_type": "execute_result"
    }
   ],
   "source": [
    "final_df[\"Any Transplants\"].value_counts()"
   ]
  },
  {
   "cell_type": "code",
   "execution_count": 185,
   "id": "15fc93e1",
   "metadata": {},
   "outputs": [
    {
     "data": {
      "text/plain": [
       "No     1934\n",
       "Yes     391\n",
       "Name: Cancer history, dtype: int64"
      ]
     },
     "execution_count": 185,
     "metadata": {},
     "output_type": "execute_result"
    }
   ],
   "source": [
    "final_df[\"Cancer history\"].value_counts()"
   ]
  },
  {
   "cell_type": "code",
   "execution_count": 186,
   "id": "102a1a21",
   "metadata": {},
   "outputs": [
    {
     "data": {
      "text/plain": [
       "No     1839\n",
       "yes     486\n",
       "Name: smoker, dtype: int64"
      ]
     },
     "execution_count": 186,
     "metadata": {},
     "output_type": "execute_result"
    }
   ],
   "source": [
    "final_df[\"smoker\"].value_counts()"
   ]
  },
  {
   "cell_type": "code",
   "execution_count": 187,
   "id": "e97f5e65",
   "metadata": {},
   "outputs": [],
   "source": [
    "# We have some categorical values so first of all we have to transform then by using the label encoder.\n",
    "from sklearn.preprocessing import LabelEncoder"
   ]
  },
  {
   "cell_type": "code",
   "execution_count": 188,
   "id": "89be5fb7",
   "metadata": {},
   "outputs": [],
   "source": [
    "le = LabelEncoder()"
   ]
  },
  {
   "cell_type": "code",
   "execution_count": 189,
   "id": "758717b1",
   "metadata": {},
   "outputs": [],
   "source": [
    "final_df[\"Heart Issues\"] = le.fit_transform(final_df[\"Heart Issues\"])\n",
    "final_df[\"Any Transplants\"] = le.fit_transform(final_df[\"Any Transplants\"])\n",
    "final_df[\"Cancer history\"] = le.fit_transform(final_df[\"Cancer history\"])\n",
    "final_df[\"smoker\"] = le.fit_transform(final_df[\"smoker\"])"
   ]
  },
  {
   "cell_type": "code",
   "execution_count": 190,
   "id": "d7afa4aa",
   "metadata": {},
   "outputs": [
    {
     "data": {
      "text/plain": [
       "0    1405\n",
       "1     920\n",
       "Name: Heart Issues, dtype: int64"
      ]
     },
     "execution_count": 190,
     "metadata": {},
     "output_type": "execute_result"
    }
   ],
   "source": [
    "final_df[\"Heart Issues\"].value_counts()"
   ]
  },
  {
   "cell_type": "code",
   "execution_count": 191,
   "id": "8768e3d9",
   "metadata": {},
   "outputs": [
    {
     "data": {
      "text/html": [
       "<div>\n",
       "<style scoped>\n",
       "    .dataframe tbody tr th:only-of-type {\n",
       "        vertical-align: middle;\n",
       "    }\n",
       "\n",
       "    .dataframe tbody tr th {\n",
       "        vertical-align: top;\n",
       "    }\n",
       "\n",
       "    .dataframe thead th {\n",
       "        text-align: right;\n",
       "    }\n",
       "</style>\n",
       "<table border=\"1\" class=\"dataframe\">\n",
       "  <thead>\n",
       "    <tr style=\"text-align: right;\">\n",
       "      <th></th>\n",
       "      <th>Customer ID</th>\n",
       "      <th>name</th>\n",
       "      <th>year</th>\n",
       "      <th>month</th>\n",
       "      <th>date</th>\n",
       "      <th>children</th>\n",
       "      <th>charges</th>\n",
       "      <th>Hospital tier</th>\n",
       "      <th>City tier</th>\n",
       "      <th>State ID</th>\n",
       "      <th>BMI</th>\n",
       "      <th>HBA1C</th>\n",
       "      <th>Heart Issues</th>\n",
       "      <th>Any Transplants</th>\n",
       "      <th>Cancer history</th>\n",
       "      <th>NumberOfMajorSurgeries</th>\n",
       "      <th>smoker</th>\n",
       "    </tr>\n",
       "  </thead>\n",
       "  <tbody>\n",
       "    <tr>\n",
       "      <th>0</th>\n",
       "      <td>Id1</td>\n",
       "      <td>Hawks, Ms.  Kelly</td>\n",
       "      <td>1968</td>\n",
       "      <td>Oct</td>\n",
       "      <td>12</td>\n",
       "      <td>0</td>\n",
       "      <td>63770.43</td>\n",
       "      <td>tier - 1</td>\n",
       "      <td>tier - 3</td>\n",
       "      <td>R1013</td>\n",
       "      <td>47.410</td>\n",
       "      <td>7.47</td>\n",
       "      <td>0</td>\n",
       "      <td>0</td>\n",
       "      <td>0</td>\n",
       "      <td>No major surgery</td>\n",
       "      <td>1</td>\n",
       "    </tr>\n",
       "    <tr>\n",
       "      <th>1</th>\n",
       "      <td>Id2</td>\n",
       "      <td>Lehner, Mr.  Matthew D</td>\n",
       "      <td>1977</td>\n",
       "      <td>Jun</td>\n",
       "      <td>8</td>\n",
       "      <td>0</td>\n",
       "      <td>62592.87</td>\n",
       "      <td>tier - 2</td>\n",
       "      <td>tier - 3</td>\n",
       "      <td>R1013</td>\n",
       "      <td>30.360</td>\n",
       "      <td>5.77</td>\n",
       "      <td>0</td>\n",
       "      <td>0</td>\n",
       "      <td>0</td>\n",
       "      <td>No major surgery</td>\n",
       "      <td>1</td>\n",
       "    </tr>\n",
       "    <tr>\n",
       "      <th>3</th>\n",
       "      <td>Id4</td>\n",
       "      <td>Osborne, Ms.  Kelsey</td>\n",
       "      <td>1991</td>\n",
       "      <td>Jun</td>\n",
       "      <td>6</td>\n",
       "      <td>1</td>\n",
       "      <td>58571.07</td>\n",
       "      <td>tier - 1</td>\n",
       "      <td>tier - 3</td>\n",
       "      <td>R1024</td>\n",
       "      <td>38.095</td>\n",
       "      <td>6.05</td>\n",
       "      <td>0</td>\n",
       "      <td>0</td>\n",
       "      <td>0</td>\n",
       "      <td>No major surgery</td>\n",
       "      <td>1</td>\n",
       "    </tr>\n",
       "    <tr>\n",
       "      <th>4</th>\n",
       "      <td>Id5</td>\n",
       "      <td>Kadala, Ms.  Kristyn</td>\n",
       "      <td>1989</td>\n",
       "      <td>Jun</td>\n",
       "      <td>19</td>\n",
       "      <td>0</td>\n",
       "      <td>55135.40</td>\n",
       "      <td>tier - 1</td>\n",
       "      <td>tier - 2</td>\n",
       "      <td>R1012</td>\n",
       "      <td>35.530</td>\n",
       "      <td>5.45</td>\n",
       "      <td>0</td>\n",
       "      <td>0</td>\n",
       "      <td>0</td>\n",
       "      <td>No major surgery</td>\n",
       "      <td>1</td>\n",
       "    </tr>\n",
       "    <tr>\n",
       "      <th>5</th>\n",
       "      <td>Id6</td>\n",
       "      <td>Baker, Mr.  Russell B.</td>\n",
       "      <td>1962</td>\n",
       "      <td>Aug</td>\n",
       "      <td>4</td>\n",
       "      <td>0</td>\n",
       "      <td>52590.83</td>\n",
       "      <td>tier - 1</td>\n",
       "      <td>tier - 3</td>\n",
       "      <td>R1011</td>\n",
       "      <td>32.800</td>\n",
       "      <td>6.59</td>\n",
       "      <td>0</td>\n",
       "      <td>0</td>\n",
       "      <td>0</td>\n",
       "      <td>No major surgery</td>\n",
       "      <td>1</td>\n",
       "    </tr>\n",
       "  </tbody>\n",
       "</table>\n",
       "</div>"
      ],
      "text/plain": [
       "  Customer ID                    name  year month  date  children   charges  \\\n",
       "0         Id1       Hawks, Ms.  Kelly  1968   Oct    12         0  63770.43   \n",
       "1         Id2  Lehner, Mr.  Matthew D  1977   Jun     8         0  62592.87   \n",
       "3         Id4    Osborne, Ms.  Kelsey  1991   Jun     6         1  58571.07   \n",
       "4         Id5    Kadala, Ms.  Kristyn  1989   Jun    19         0  55135.40   \n",
       "5         Id6  Baker, Mr.  Russell B.  1962   Aug     4         0  52590.83   \n",
       "\n",
       "  Hospital tier City tier State ID     BMI  HBA1C  Heart Issues  \\\n",
       "0      tier - 1  tier - 3    R1013  47.410   7.47             0   \n",
       "1      tier - 2  tier - 3    R1013  30.360   5.77             0   \n",
       "3      tier - 1  tier - 3    R1024  38.095   6.05             0   \n",
       "4      tier - 1  tier - 2    R1012  35.530   5.45             0   \n",
       "5      tier - 1  tier - 3    R1011  32.800   6.59             0   \n",
       "\n",
       "   Any Transplants  Cancer history NumberOfMajorSurgeries  smoker  \n",
       "0                0               0       No major surgery       1  \n",
       "1                0               0       No major surgery       1  \n",
       "3                0               0       No major surgery       1  \n",
       "4                0               0       No major surgery       1  \n",
       "5                0               0       No major surgery       1  "
      ]
     },
     "execution_count": 191,
     "metadata": {},
     "output_type": "execute_result"
    }
   ],
   "source": [
    "final_df.head()"
   ]
  },
  {
   "cell_type": "code",
   "execution_count": 192,
   "id": "781e3bce",
   "metadata": {},
   "outputs": [],
   "source": [
    "# Now we will deal with the ordinal categorical variable."
   ]
  },
  {
   "cell_type": "code",
   "execution_count": 193,
   "id": "bf339af1",
   "metadata": {},
   "outputs": [],
   "source": [
    "def clean_ordinal_variable(val):\n",
    "    return int(val.replace(\"tier\", \"\").replace(\" \", \"\").replace(\"-\", \"\"))"
   ]
  },
  {
   "cell_type": "code",
   "execution_count": 194,
   "id": "4a1b2542",
   "metadata": {},
   "outputs": [],
   "source": [
    "final_df[\"Hospital tier\"] = final_df[\"Hospital tier\"].map(clean_ordinal_variable)\n",
    "final_df[\"City tier\"] = final_df[\"City tier\"].map(clean_ordinal_variable)"
   ]
  },
  {
   "cell_type": "code",
   "execution_count": 195,
   "id": "a8b82bf5",
   "metadata": {},
   "outputs": [
    {
     "data": {
      "text/plain": [
       "2    807\n",
       "3    789\n",
       "1    729\n",
       "Name: City tier, dtype: int64"
      ]
     },
     "execution_count": 195,
     "metadata": {},
     "output_type": "execute_result"
    }
   ],
   "source": [
    "final_df[\"City tier\"].value_counts()"
   ]
  },
  {
   "cell_type": "code",
   "execution_count": 196,
   "id": "98c6d0f9",
   "metadata": {},
   "outputs": [
    {
     "data": {
      "text/html": [
       "<div>\n",
       "<style scoped>\n",
       "    .dataframe tbody tr th:only-of-type {\n",
       "        vertical-align: middle;\n",
       "    }\n",
       "\n",
       "    .dataframe tbody tr th {\n",
       "        vertical-align: top;\n",
       "    }\n",
       "\n",
       "    .dataframe thead th {\n",
       "        text-align: right;\n",
       "    }\n",
       "</style>\n",
       "<table border=\"1\" class=\"dataframe\">\n",
       "  <thead>\n",
       "    <tr style=\"text-align: right;\">\n",
       "      <th></th>\n",
       "      <th>Customer ID</th>\n",
       "      <th>name</th>\n",
       "      <th>year</th>\n",
       "      <th>month</th>\n",
       "      <th>date</th>\n",
       "      <th>children</th>\n",
       "      <th>charges</th>\n",
       "      <th>Hospital tier</th>\n",
       "      <th>City tier</th>\n",
       "      <th>State ID</th>\n",
       "      <th>BMI</th>\n",
       "      <th>HBA1C</th>\n",
       "      <th>Heart Issues</th>\n",
       "      <th>Any Transplants</th>\n",
       "      <th>Cancer history</th>\n",
       "      <th>NumberOfMajorSurgeries</th>\n",
       "      <th>smoker</th>\n",
       "    </tr>\n",
       "  </thead>\n",
       "  <tbody>\n",
       "    <tr>\n",
       "      <th>0</th>\n",
       "      <td>Id1</td>\n",
       "      <td>Hawks, Ms.  Kelly</td>\n",
       "      <td>1968</td>\n",
       "      <td>Oct</td>\n",
       "      <td>12</td>\n",
       "      <td>0</td>\n",
       "      <td>63770.43</td>\n",
       "      <td>1</td>\n",
       "      <td>3</td>\n",
       "      <td>R1013</td>\n",
       "      <td>47.410</td>\n",
       "      <td>7.47</td>\n",
       "      <td>0</td>\n",
       "      <td>0</td>\n",
       "      <td>0</td>\n",
       "      <td>No major surgery</td>\n",
       "      <td>1</td>\n",
       "    </tr>\n",
       "    <tr>\n",
       "      <th>1</th>\n",
       "      <td>Id2</td>\n",
       "      <td>Lehner, Mr.  Matthew D</td>\n",
       "      <td>1977</td>\n",
       "      <td>Jun</td>\n",
       "      <td>8</td>\n",
       "      <td>0</td>\n",
       "      <td>62592.87</td>\n",
       "      <td>2</td>\n",
       "      <td>3</td>\n",
       "      <td>R1013</td>\n",
       "      <td>30.360</td>\n",
       "      <td>5.77</td>\n",
       "      <td>0</td>\n",
       "      <td>0</td>\n",
       "      <td>0</td>\n",
       "      <td>No major surgery</td>\n",
       "      <td>1</td>\n",
       "    </tr>\n",
       "    <tr>\n",
       "      <th>3</th>\n",
       "      <td>Id4</td>\n",
       "      <td>Osborne, Ms.  Kelsey</td>\n",
       "      <td>1991</td>\n",
       "      <td>Jun</td>\n",
       "      <td>6</td>\n",
       "      <td>1</td>\n",
       "      <td>58571.07</td>\n",
       "      <td>1</td>\n",
       "      <td>3</td>\n",
       "      <td>R1024</td>\n",
       "      <td>38.095</td>\n",
       "      <td>6.05</td>\n",
       "      <td>0</td>\n",
       "      <td>0</td>\n",
       "      <td>0</td>\n",
       "      <td>No major surgery</td>\n",
       "      <td>1</td>\n",
       "    </tr>\n",
       "    <tr>\n",
       "      <th>4</th>\n",
       "      <td>Id5</td>\n",
       "      <td>Kadala, Ms.  Kristyn</td>\n",
       "      <td>1989</td>\n",
       "      <td>Jun</td>\n",
       "      <td>19</td>\n",
       "      <td>0</td>\n",
       "      <td>55135.40</td>\n",
       "      <td>1</td>\n",
       "      <td>2</td>\n",
       "      <td>R1012</td>\n",
       "      <td>35.530</td>\n",
       "      <td>5.45</td>\n",
       "      <td>0</td>\n",
       "      <td>0</td>\n",
       "      <td>0</td>\n",
       "      <td>No major surgery</td>\n",
       "      <td>1</td>\n",
       "    </tr>\n",
       "    <tr>\n",
       "      <th>5</th>\n",
       "      <td>Id6</td>\n",
       "      <td>Baker, Mr.  Russell B.</td>\n",
       "      <td>1962</td>\n",
       "      <td>Aug</td>\n",
       "      <td>4</td>\n",
       "      <td>0</td>\n",
       "      <td>52590.83</td>\n",
       "      <td>1</td>\n",
       "      <td>3</td>\n",
       "      <td>R1011</td>\n",
       "      <td>32.800</td>\n",
       "      <td>6.59</td>\n",
       "      <td>0</td>\n",
       "      <td>0</td>\n",
       "      <td>0</td>\n",
       "      <td>No major surgery</td>\n",
       "      <td>1</td>\n",
       "    </tr>\n",
       "  </tbody>\n",
       "</table>\n",
       "</div>"
      ],
      "text/plain": [
       "  Customer ID                    name  year month  date  children   charges  \\\n",
       "0         Id1       Hawks, Ms.  Kelly  1968   Oct    12         0  63770.43   \n",
       "1         Id2  Lehner, Mr.  Matthew D  1977   Jun     8         0  62592.87   \n",
       "3         Id4    Osborne, Ms.  Kelsey  1991   Jun     6         1  58571.07   \n",
       "4         Id5    Kadala, Ms.  Kristyn  1989   Jun    19         0  55135.40   \n",
       "5         Id6  Baker, Mr.  Russell B.  1962   Aug     4         0  52590.83   \n",
       "\n",
       "   Hospital tier  City tier State ID     BMI  HBA1C  Heart Issues  \\\n",
       "0              1          3    R1013  47.410   7.47             0   \n",
       "1              2          3    R1013  30.360   5.77             0   \n",
       "3              1          3    R1024  38.095   6.05             0   \n",
       "4              1          2    R1012  35.530   5.45             0   \n",
       "5              1          3    R1011  32.800   6.59             0   \n",
       "\n",
       "   Any Transplants  Cancer history NumberOfMajorSurgeries  smoker  \n",
       "0                0               0       No major surgery       1  \n",
       "1                0               0       No major surgery       1  \n",
       "3                0               0       No major surgery       1  \n",
       "4                0               0       No major surgery       1  \n",
       "5                0               0       No major surgery       1  "
      ]
     },
     "execution_count": 196,
     "metadata": {},
     "output_type": "execute_result"
    }
   ],
   "source": [
    "final_df.head()"
   ]
  },
  {
   "cell_type": "markdown",
   "id": "3de6ef7f",
   "metadata": {},
   "source": [
    "### 5. The dataset has State ID, which has around 16 states. All states are not represented in equal proportions in the data. Creating dummy variables for all regions may also result in too many insignificant predictors. Nevertheless, only R1011, R1012, and R1013 are worth investigating further. Create a suitable strategy to create dummy variables with these restraints."
   ]
  },
  {
   "cell_type": "code",
   "execution_count": 197,
   "id": "907cda3a",
   "metadata": {},
   "outputs": [
    {
     "data": {
      "text/plain": [
       "R1013    609\n",
       "R1011    574\n",
       "R1012    572\n",
       "R1024    159\n",
       "R1026     84\n",
       "R1021     70\n",
       "R1016     64\n",
       "R1025     40\n",
       "R1023     38\n",
       "R1017     36\n",
       "R1019     26\n",
       "R1022     14\n",
       "R1014     13\n",
       "R1015     11\n",
       "R1018      9\n",
       "R1020      6\n",
       "Name: State ID, dtype: int64"
      ]
     },
     "execution_count": 197,
     "metadata": {},
     "output_type": "execute_result"
    }
   ],
   "source": [
    "final_df[\"State ID\"].value_counts()"
   ]
  },
  {
   "cell_type": "markdown",
   "id": "627e77ad",
   "metadata": {},
   "source": [
    "It is clear from the above code some of the state is worth investigator like R1013, R1012, R1011 and R1024."
   ]
  },
  {
   "cell_type": "code",
   "execution_count": 198,
   "id": "0d1eeff2",
   "metadata": {},
   "outputs": [],
   "source": [
    "Dummies = pd.get_dummies(final_df[\"State ID\"], prefix= \"State_ID\")"
   ]
  },
  {
   "cell_type": "code",
   "execution_count": 199,
   "id": "7353b847",
   "metadata": {},
   "outputs": [
    {
     "data": {
      "text/html": [
       "<div>\n",
       "<style scoped>\n",
       "    .dataframe tbody tr th:only-of-type {\n",
       "        vertical-align: middle;\n",
       "    }\n",
       "\n",
       "    .dataframe tbody tr th {\n",
       "        vertical-align: top;\n",
       "    }\n",
       "\n",
       "    .dataframe thead th {\n",
       "        text-align: right;\n",
       "    }\n",
       "</style>\n",
       "<table border=\"1\" class=\"dataframe\">\n",
       "  <thead>\n",
       "    <tr style=\"text-align: right;\">\n",
       "      <th></th>\n",
       "      <th>State_ID_R1011</th>\n",
       "      <th>State_ID_R1012</th>\n",
       "      <th>State_ID_R1013</th>\n",
       "      <th>State_ID_R1014</th>\n",
       "      <th>State_ID_R1015</th>\n",
       "      <th>State_ID_R1016</th>\n",
       "      <th>State_ID_R1017</th>\n",
       "      <th>State_ID_R1018</th>\n",
       "      <th>State_ID_R1019</th>\n",
       "      <th>State_ID_R1020</th>\n",
       "      <th>State_ID_R1021</th>\n",
       "      <th>State_ID_R1022</th>\n",
       "      <th>State_ID_R1023</th>\n",
       "      <th>State_ID_R1024</th>\n",
       "      <th>State_ID_R1025</th>\n",
       "      <th>State_ID_R1026</th>\n",
       "    </tr>\n",
       "  </thead>\n",
       "  <tbody>\n",
       "    <tr>\n",
       "      <th>0</th>\n",
       "      <td>0</td>\n",
       "      <td>0</td>\n",
       "      <td>1</td>\n",
       "      <td>0</td>\n",
       "      <td>0</td>\n",
       "      <td>0</td>\n",
       "      <td>0</td>\n",
       "      <td>0</td>\n",
       "      <td>0</td>\n",
       "      <td>0</td>\n",
       "      <td>0</td>\n",
       "      <td>0</td>\n",
       "      <td>0</td>\n",
       "      <td>0</td>\n",
       "      <td>0</td>\n",
       "      <td>0</td>\n",
       "    </tr>\n",
       "    <tr>\n",
       "      <th>1</th>\n",
       "      <td>0</td>\n",
       "      <td>0</td>\n",
       "      <td>1</td>\n",
       "      <td>0</td>\n",
       "      <td>0</td>\n",
       "      <td>0</td>\n",
       "      <td>0</td>\n",
       "      <td>0</td>\n",
       "      <td>0</td>\n",
       "      <td>0</td>\n",
       "      <td>0</td>\n",
       "      <td>0</td>\n",
       "      <td>0</td>\n",
       "      <td>0</td>\n",
       "      <td>0</td>\n",
       "      <td>0</td>\n",
       "    </tr>\n",
       "    <tr>\n",
       "      <th>3</th>\n",
       "      <td>0</td>\n",
       "      <td>0</td>\n",
       "      <td>0</td>\n",
       "      <td>0</td>\n",
       "      <td>0</td>\n",
       "      <td>0</td>\n",
       "      <td>0</td>\n",
       "      <td>0</td>\n",
       "      <td>0</td>\n",
       "      <td>0</td>\n",
       "      <td>0</td>\n",
       "      <td>0</td>\n",
       "      <td>0</td>\n",
       "      <td>1</td>\n",
       "      <td>0</td>\n",
       "      <td>0</td>\n",
       "    </tr>\n",
       "    <tr>\n",
       "      <th>4</th>\n",
       "      <td>0</td>\n",
       "      <td>1</td>\n",
       "      <td>0</td>\n",
       "      <td>0</td>\n",
       "      <td>0</td>\n",
       "      <td>0</td>\n",
       "      <td>0</td>\n",
       "      <td>0</td>\n",
       "      <td>0</td>\n",
       "      <td>0</td>\n",
       "      <td>0</td>\n",
       "      <td>0</td>\n",
       "      <td>0</td>\n",
       "      <td>0</td>\n",
       "      <td>0</td>\n",
       "      <td>0</td>\n",
       "    </tr>\n",
       "    <tr>\n",
       "      <th>5</th>\n",
       "      <td>1</td>\n",
       "      <td>0</td>\n",
       "      <td>0</td>\n",
       "      <td>0</td>\n",
       "      <td>0</td>\n",
       "      <td>0</td>\n",
       "      <td>0</td>\n",
       "      <td>0</td>\n",
       "      <td>0</td>\n",
       "      <td>0</td>\n",
       "      <td>0</td>\n",
       "      <td>0</td>\n",
       "      <td>0</td>\n",
       "      <td>0</td>\n",
       "      <td>0</td>\n",
       "      <td>0</td>\n",
       "    </tr>\n",
       "    <tr>\n",
       "      <th>...</th>\n",
       "      <td>...</td>\n",
       "      <td>...</td>\n",
       "      <td>...</td>\n",
       "      <td>...</td>\n",
       "      <td>...</td>\n",
       "      <td>...</td>\n",
       "      <td>...</td>\n",
       "      <td>...</td>\n",
       "      <td>...</td>\n",
       "      <td>...</td>\n",
       "      <td>...</td>\n",
       "      <td>...</td>\n",
       "      <td>...</td>\n",
       "      <td>...</td>\n",
       "      <td>...</td>\n",
       "      <td>...</td>\n",
       "    </tr>\n",
       "    <tr>\n",
       "      <th>2330</th>\n",
       "      <td>0</td>\n",
       "      <td>0</td>\n",
       "      <td>1</td>\n",
       "      <td>0</td>\n",
       "      <td>0</td>\n",
       "      <td>0</td>\n",
       "      <td>0</td>\n",
       "      <td>0</td>\n",
       "      <td>0</td>\n",
       "      <td>0</td>\n",
       "      <td>0</td>\n",
       "      <td>0</td>\n",
       "      <td>0</td>\n",
       "      <td>0</td>\n",
       "      <td>0</td>\n",
       "      <td>0</td>\n",
       "    </tr>\n",
       "    <tr>\n",
       "      <th>2331</th>\n",
       "      <td>0</td>\n",
       "      <td>0</td>\n",
       "      <td>1</td>\n",
       "      <td>0</td>\n",
       "      <td>0</td>\n",
       "      <td>0</td>\n",
       "      <td>0</td>\n",
       "      <td>0</td>\n",
       "      <td>0</td>\n",
       "      <td>0</td>\n",
       "      <td>0</td>\n",
       "      <td>0</td>\n",
       "      <td>0</td>\n",
       "      <td>0</td>\n",
       "      <td>0</td>\n",
       "      <td>0</td>\n",
       "    </tr>\n",
       "    <tr>\n",
       "      <th>2332</th>\n",
       "      <td>0</td>\n",
       "      <td>0</td>\n",
       "      <td>1</td>\n",
       "      <td>0</td>\n",
       "      <td>0</td>\n",
       "      <td>0</td>\n",
       "      <td>0</td>\n",
       "      <td>0</td>\n",
       "      <td>0</td>\n",
       "      <td>0</td>\n",
       "      <td>0</td>\n",
       "      <td>0</td>\n",
       "      <td>0</td>\n",
       "      <td>0</td>\n",
       "      <td>0</td>\n",
       "      <td>0</td>\n",
       "    </tr>\n",
       "    <tr>\n",
       "      <th>2333</th>\n",
       "      <td>0</td>\n",
       "      <td>0</td>\n",
       "      <td>1</td>\n",
       "      <td>0</td>\n",
       "      <td>0</td>\n",
       "      <td>0</td>\n",
       "      <td>0</td>\n",
       "      <td>0</td>\n",
       "      <td>0</td>\n",
       "      <td>0</td>\n",
       "      <td>0</td>\n",
       "      <td>0</td>\n",
       "      <td>0</td>\n",
       "      <td>0</td>\n",
       "      <td>0</td>\n",
       "      <td>0</td>\n",
       "    </tr>\n",
       "    <tr>\n",
       "      <th>2334</th>\n",
       "      <td>0</td>\n",
       "      <td>0</td>\n",
       "      <td>1</td>\n",
       "      <td>0</td>\n",
       "      <td>0</td>\n",
       "      <td>0</td>\n",
       "      <td>0</td>\n",
       "      <td>0</td>\n",
       "      <td>0</td>\n",
       "      <td>0</td>\n",
       "      <td>0</td>\n",
       "      <td>0</td>\n",
       "      <td>0</td>\n",
       "      <td>0</td>\n",
       "      <td>0</td>\n",
       "      <td>0</td>\n",
       "    </tr>\n",
       "  </tbody>\n",
       "</table>\n",
       "<p>2325 rows × 16 columns</p>\n",
       "</div>"
      ],
      "text/plain": [
       "      State_ID_R1011  State_ID_R1012  State_ID_R1013  State_ID_R1014  \\\n",
       "0                  0               0               1               0   \n",
       "1                  0               0               1               0   \n",
       "3                  0               0               0               0   \n",
       "4                  0               1               0               0   \n",
       "5                  1               0               0               0   \n",
       "...              ...             ...             ...             ...   \n",
       "2330               0               0               1               0   \n",
       "2331               0               0               1               0   \n",
       "2332               0               0               1               0   \n",
       "2333               0               0               1               0   \n",
       "2334               0               0               1               0   \n",
       "\n",
       "      State_ID_R1015  State_ID_R1016  State_ID_R1017  State_ID_R1018  \\\n",
       "0                  0               0               0               0   \n",
       "1                  0               0               0               0   \n",
       "3                  0               0               0               0   \n",
       "4                  0               0               0               0   \n",
       "5                  0               0               0               0   \n",
       "...              ...             ...             ...             ...   \n",
       "2330               0               0               0               0   \n",
       "2331               0               0               0               0   \n",
       "2332               0               0               0               0   \n",
       "2333               0               0               0               0   \n",
       "2334               0               0               0               0   \n",
       "\n",
       "      State_ID_R1019  State_ID_R1020  State_ID_R1021  State_ID_R1022  \\\n",
       "0                  0               0               0               0   \n",
       "1                  0               0               0               0   \n",
       "3                  0               0               0               0   \n",
       "4                  0               0               0               0   \n",
       "5                  0               0               0               0   \n",
       "...              ...             ...             ...             ...   \n",
       "2330               0               0               0               0   \n",
       "2331               0               0               0               0   \n",
       "2332               0               0               0               0   \n",
       "2333               0               0               0               0   \n",
       "2334               0               0               0               0   \n",
       "\n",
       "      State_ID_R1023  State_ID_R1024  State_ID_R1025  State_ID_R1026  \n",
       "0                  0               0               0               0  \n",
       "1                  0               0               0               0  \n",
       "3                  0               1               0               0  \n",
       "4                  0               0               0               0  \n",
       "5                  0               0               0               0  \n",
       "...              ...             ...             ...             ...  \n",
       "2330               0               0               0               0  \n",
       "2331               0               0               0               0  \n",
       "2332               0               0               0               0  \n",
       "2333               0               0               0               0  \n",
       "2334               0               0               0               0  \n",
       "\n",
       "[2325 rows x 16 columns]"
      ]
     },
     "execution_count": 199,
     "metadata": {},
     "output_type": "execute_result"
    }
   ],
   "source": [
    "Dummies"
   ]
  },
  {
   "cell_type": "code",
   "execution_count": 200,
   "id": "3188f6ef",
   "metadata": {},
   "outputs": [
    {
     "data": {
      "text/html": [
       "<div>\n",
       "<style scoped>\n",
       "    .dataframe tbody tr th:only-of-type {\n",
       "        vertical-align: middle;\n",
       "    }\n",
       "\n",
       "    .dataframe tbody tr th {\n",
       "        vertical-align: top;\n",
       "    }\n",
       "\n",
       "    .dataframe thead th {\n",
       "        text-align: right;\n",
       "    }\n",
       "</style>\n",
       "<table border=\"1\" class=\"dataframe\">\n",
       "  <thead>\n",
       "    <tr style=\"text-align: right;\">\n",
       "      <th></th>\n",
       "      <th>State_ID_R1011</th>\n",
       "      <th>State_ID_R1012</th>\n",
       "      <th>State_ID_R1013</th>\n",
       "    </tr>\n",
       "  </thead>\n",
       "  <tbody>\n",
       "    <tr>\n",
       "      <th>0</th>\n",
       "      <td>0</td>\n",
       "      <td>0</td>\n",
       "      <td>1</td>\n",
       "    </tr>\n",
       "    <tr>\n",
       "      <th>1</th>\n",
       "      <td>0</td>\n",
       "      <td>0</td>\n",
       "      <td>1</td>\n",
       "    </tr>\n",
       "    <tr>\n",
       "      <th>3</th>\n",
       "      <td>0</td>\n",
       "      <td>0</td>\n",
       "      <td>0</td>\n",
       "    </tr>\n",
       "    <tr>\n",
       "      <th>4</th>\n",
       "      <td>0</td>\n",
       "      <td>1</td>\n",
       "      <td>0</td>\n",
       "    </tr>\n",
       "    <tr>\n",
       "      <th>5</th>\n",
       "      <td>1</td>\n",
       "      <td>0</td>\n",
       "      <td>0</td>\n",
       "    </tr>\n",
       "    <tr>\n",
       "      <th>...</th>\n",
       "      <td>...</td>\n",
       "      <td>...</td>\n",
       "      <td>...</td>\n",
       "    </tr>\n",
       "    <tr>\n",
       "      <th>2330</th>\n",
       "      <td>0</td>\n",
       "      <td>0</td>\n",
       "      <td>1</td>\n",
       "    </tr>\n",
       "    <tr>\n",
       "      <th>2331</th>\n",
       "      <td>0</td>\n",
       "      <td>0</td>\n",
       "      <td>1</td>\n",
       "    </tr>\n",
       "    <tr>\n",
       "      <th>2332</th>\n",
       "      <td>0</td>\n",
       "      <td>0</td>\n",
       "      <td>1</td>\n",
       "    </tr>\n",
       "    <tr>\n",
       "      <th>2333</th>\n",
       "      <td>0</td>\n",
       "      <td>0</td>\n",
       "      <td>1</td>\n",
       "    </tr>\n",
       "    <tr>\n",
       "      <th>2334</th>\n",
       "      <td>0</td>\n",
       "      <td>0</td>\n",
       "      <td>1</td>\n",
       "    </tr>\n",
       "  </tbody>\n",
       "</table>\n",
       "<p>2325 rows × 3 columns</p>\n",
       "</div>"
      ],
      "text/plain": [
       "      State_ID_R1011  State_ID_R1012  State_ID_R1013\n",
       "0                  0               0               1\n",
       "1                  0               0               1\n",
       "3                  0               0               0\n",
       "4                  0               1               0\n",
       "5                  1               0               0\n",
       "...              ...             ...             ...\n",
       "2330               0               0               1\n",
       "2331               0               0               1\n",
       "2332               0               0               1\n",
       "2333               0               0               1\n",
       "2334               0               0               1\n",
       "\n",
       "[2325 rows x 3 columns]"
      ]
     },
     "execution_count": 200,
     "metadata": {},
     "output_type": "execute_result"
    }
   ],
   "source": [
    "# lets take only those state id which play significant role in the data set.\n",
    "Dummy = Dummies[['State_ID_R1011','State_ID_R1012', 'State_ID_R1013']]\n",
    "Dummy"
   ]
  },
  {
   "cell_type": "code",
   "execution_count": 201,
   "id": "18516bd3",
   "metadata": {},
   "outputs": [],
   "source": [
    "final_df = pd.concat([final_df, Dummy], axis=1)"
   ]
  },
  {
   "cell_type": "code",
   "execution_count": 202,
   "id": "93dcfd11",
   "metadata": {},
   "outputs": [],
   "source": [
    "final_df.drop(['State ID'], inplace=True, axis=1)"
   ]
  },
  {
   "cell_type": "code",
   "execution_count": 203,
   "id": "539e15a6",
   "metadata": {},
   "outputs": [
    {
     "data": {
      "text/html": [
       "<div>\n",
       "<style scoped>\n",
       "    .dataframe tbody tr th:only-of-type {\n",
       "        vertical-align: middle;\n",
       "    }\n",
       "\n",
       "    .dataframe tbody tr th {\n",
       "        vertical-align: top;\n",
       "    }\n",
       "\n",
       "    .dataframe thead th {\n",
       "        text-align: right;\n",
       "    }\n",
       "</style>\n",
       "<table border=\"1\" class=\"dataframe\">\n",
       "  <thead>\n",
       "    <tr style=\"text-align: right;\">\n",
       "      <th></th>\n",
       "      <th>Customer ID</th>\n",
       "      <th>name</th>\n",
       "      <th>year</th>\n",
       "      <th>month</th>\n",
       "      <th>date</th>\n",
       "      <th>children</th>\n",
       "      <th>charges</th>\n",
       "      <th>Hospital tier</th>\n",
       "      <th>City tier</th>\n",
       "      <th>BMI</th>\n",
       "      <th>HBA1C</th>\n",
       "      <th>Heart Issues</th>\n",
       "      <th>Any Transplants</th>\n",
       "      <th>Cancer history</th>\n",
       "      <th>NumberOfMajorSurgeries</th>\n",
       "      <th>smoker</th>\n",
       "      <th>State_ID_R1011</th>\n",
       "      <th>State_ID_R1012</th>\n",
       "      <th>State_ID_R1013</th>\n",
       "    </tr>\n",
       "  </thead>\n",
       "  <tbody>\n",
       "    <tr>\n",
       "      <th>0</th>\n",
       "      <td>Id1</td>\n",
       "      <td>Hawks, Ms.  Kelly</td>\n",
       "      <td>1968</td>\n",
       "      <td>Oct</td>\n",
       "      <td>12</td>\n",
       "      <td>0</td>\n",
       "      <td>63770.43</td>\n",
       "      <td>1</td>\n",
       "      <td>3</td>\n",
       "      <td>47.410</td>\n",
       "      <td>7.47</td>\n",
       "      <td>0</td>\n",
       "      <td>0</td>\n",
       "      <td>0</td>\n",
       "      <td>No major surgery</td>\n",
       "      <td>1</td>\n",
       "      <td>0</td>\n",
       "      <td>0</td>\n",
       "      <td>1</td>\n",
       "    </tr>\n",
       "    <tr>\n",
       "      <th>1</th>\n",
       "      <td>Id2</td>\n",
       "      <td>Lehner, Mr.  Matthew D</td>\n",
       "      <td>1977</td>\n",
       "      <td>Jun</td>\n",
       "      <td>8</td>\n",
       "      <td>0</td>\n",
       "      <td>62592.87</td>\n",
       "      <td>2</td>\n",
       "      <td>3</td>\n",
       "      <td>30.360</td>\n",
       "      <td>5.77</td>\n",
       "      <td>0</td>\n",
       "      <td>0</td>\n",
       "      <td>0</td>\n",
       "      <td>No major surgery</td>\n",
       "      <td>1</td>\n",
       "      <td>0</td>\n",
       "      <td>0</td>\n",
       "      <td>1</td>\n",
       "    </tr>\n",
       "    <tr>\n",
       "      <th>3</th>\n",
       "      <td>Id4</td>\n",
       "      <td>Osborne, Ms.  Kelsey</td>\n",
       "      <td>1991</td>\n",
       "      <td>Jun</td>\n",
       "      <td>6</td>\n",
       "      <td>1</td>\n",
       "      <td>58571.07</td>\n",
       "      <td>1</td>\n",
       "      <td>3</td>\n",
       "      <td>38.095</td>\n",
       "      <td>6.05</td>\n",
       "      <td>0</td>\n",
       "      <td>0</td>\n",
       "      <td>0</td>\n",
       "      <td>No major surgery</td>\n",
       "      <td>1</td>\n",
       "      <td>0</td>\n",
       "      <td>0</td>\n",
       "      <td>0</td>\n",
       "    </tr>\n",
       "    <tr>\n",
       "      <th>4</th>\n",
       "      <td>Id5</td>\n",
       "      <td>Kadala, Ms.  Kristyn</td>\n",
       "      <td>1989</td>\n",
       "      <td>Jun</td>\n",
       "      <td>19</td>\n",
       "      <td>0</td>\n",
       "      <td>55135.40</td>\n",
       "      <td>1</td>\n",
       "      <td>2</td>\n",
       "      <td>35.530</td>\n",
       "      <td>5.45</td>\n",
       "      <td>0</td>\n",
       "      <td>0</td>\n",
       "      <td>0</td>\n",
       "      <td>No major surgery</td>\n",
       "      <td>1</td>\n",
       "      <td>0</td>\n",
       "      <td>1</td>\n",
       "      <td>0</td>\n",
       "    </tr>\n",
       "    <tr>\n",
       "      <th>5</th>\n",
       "      <td>Id6</td>\n",
       "      <td>Baker, Mr.  Russell B.</td>\n",
       "      <td>1962</td>\n",
       "      <td>Aug</td>\n",
       "      <td>4</td>\n",
       "      <td>0</td>\n",
       "      <td>52590.83</td>\n",
       "      <td>1</td>\n",
       "      <td>3</td>\n",
       "      <td>32.800</td>\n",
       "      <td>6.59</td>\n",
       "      <td>0</td>\n",
       "      <td>0</td>\n",
       "      <td>0</td>\n",
       "      <td>No major surgery</td>\n",
       "      <td>1</td>\n",
       "      <td>1</td>\n",
       "      <td>0</td>\n",
       "      <td>0</td>\n",
       "    </tr>\n",
       "  </tbody>\n",
       "</table>\n",
       "</div>"
      ],
      "text/plain": [
       "  Customer ID                    name  year month  date  children   charges  \\\n",
       "0         Id1       Hawks, Ms.  Kelly  1968   Oct    12         0  63770.43   \n",
       "1         Id2  Lehner, Mr.  Matthew D  1977   Jun     8         0  62592.87   \n",
       "3         Id4    Osborne, Ms.  Kelsey  1991   Jun     6         1  58571.07   \n",
       "4         Id5    Kadala, Ms.  Kristyn  1989   Jun    19         0  55135.40   \n",
       "5         Id6  Baker, Mr.  Russell B.  1962   Aug     4         0  52590.83   \n",
       "\n",
       "   Hospital tier  City tier     BMI  HBA1C  Heart Issues  Any Transplants  \\\n",
       "0              1          3  47.410   7.47             0                0   \n",
       "1              2          3  30.360   5.77             0                0   \n",
       "3              1          3  38.095   6.05             0                0   \n",
       "4              1          2  35.530   5.45             0                0   \n",
       "5              1          3  32.800   6.59             0                0   \n",
       "\n",
       "   Cancer history NumberOfMajorSurgeries  smoker  State_ID_R1011  \\\n",
       "0               0       No major surgery       1               0   \n",
       "1               0       No major surgery       1               0   \n",
       "3               0       No major surgery       1               0   \n",
       "4               0       No major surgery       1               0   \n",
       "5               0       No major surgery       1               1   \n",
       "\n",
       "   State_ID_R1012  State_ID_R1013  \n",
       "0               0               1  \n",
       "1               0               1  \n",
       "3               0               0  \n",
       "4               1               0  \n",
       "5               0               0  "
      ]
     },
     "execution_count": 203,
     "metadata": {},
     "output_type": "execute_result"
    }
   ],
   "source": [
    "final_df.head()"
   ]
  },
  {
   "cell_type": "markdown",
   "id": "0a700947",
   "metadata": {},
   "source": [
    "### 6. The variable NumberOfMajorSurgeries also appears to have string values. Apply a suitable method to clean up this variable."
   ]
  },
  {
   "cell_type": "code",
   "execution_count": 204,
   "id": "eae7b63c",
   "metadata": {},
   "outputs": [
    {
     "data": {
      "text/plain": [
       "No major surgery    1070\n",
       "1                    961\n",
       "2                    272\n",
       "3                     22\n",
       "Name: NumberOfMajorSurgeries, dtype: int64"
      ]
     },
     "execution_count": 204,
     "metadata": {},
     "output_type": "execute_result"
    }
   ],
   "source": [
    "final_df['NumberOfMajorSurgeries'].value_counts()"
   ]
  },
  {
   "cell_type": "markdown",
   "id": "0ee4a89d",
   "metadata": {},
   "source": [
    "The NumberOfMajorSurgeries variable contain string value no major Surgery that mean simpli is 0 surgery so we will replace this value into int value equal to zero."
   ]
  },
  {
   "cell_type": "code",
   "execution_count": 205,
   "id": "3e5d0bfc",
   "metadata": {},
   "outputs": [],
   "source": [
    "final_df['NumberOfMajorSurgeries'] = final_df['NumberOfMajorSurgeries'].replace('No major surgery', 0)"
   ]
  },
  {
   "cell_type": "code",
   "execution_count": 206,
   "id": "e0ef3ae5",
   "metadata": {},
   "outputs": [],
   "source": [
    "final_df['NumberOfMajorSurgeries'] = final_df[\"NumberOfMajorSurgeries\"].astype(int)"
   ]
  },
  {
   "cell_type": "markdown",
   "id": "033e3fe8",
   "metadata": {},
   "source": [
    "### 7. Age appears to be a significant factor in this analysis. Calculate the patients' ages based on their dates of birth.\n"
   ]
  },
  {
   "cell_type": "code",
   "execution_count": 207,
   "id": "e7b45781",
   "metadata": {},
   "outputs": [
    {
     "data": {
      "text/plain": [
       "0       1968\n",
       "1       1977\n",
       "3       1991\n",
       "4       1989\n",
       "5       1962\n",
       "        ... \n",
       "2330    1998\n",
       "2331    1992\n",
       "2332    1993\n",
       "2333    1992\n",
       "2334    1992\n",
       "Name: year, Length: 2325, dtype: int64"
      ]
     },
     "execution_count": 207,
     "metadata": {},
     "output_type": "execute_result"
    }
   ],
   "source": [
    "final_df[\"year\"] = pd.to_datetime(final_df[\"year\"], format='%Y').dt.year\n",
    "final_df[\"year\"]"
   ]
  },
  {
   "cell_type": "code",
   "execution_count": 208,
   "id": "b9f0ba54",
   "metadata": {},
   "outputs": [
    {
     "data": {
      "text/plain": [
       "0       10\n",
       "1        6\n",
       "3        6\n",
       "4        6\n",
       "5        8\n",
       "        ..\n",
       "2330     7\n",
       "2331     9\n",
       "2332     6\n",
       "2333    11\n",
       "2334     7\n",
       "Name: month, Length: 2325, dtype: int64"
      ]
     },
     "execution_count": 208,
     "metadata": {},
     "output_type": "execute_result"
    }
   ],
   "source": [
    "final_df[\"month\"] = pd.to_datetime(final_df[\"month\"], format='%b').dt.month\n",
    "final_df[\"month\"]"
   ]
  },
  {
   "cell_type": "code",
   "execution_count": 209,
   "id": "926045ca",
   "metadata": {},
   "outputs": [],
   "source": [
    "final_df['DateInt'] = final_df[\"year\"].astype(str) + final_df[\"month\"].astype(str).str.zfill(2) + final_df[\"date\"].astype(str).str.zfill(2)"
   ]
  },
  {
   "cell_type": "code",
   "execution_count": 210,
   "id": "fc8baba7",
   "metadata": {},
   "outputs": [],
   "source": [
    "final_df['DOB'] = pd.to_datetime(final_df.DateInt, format = \"%Y%m%d\")"
   ]
  },
  {
   "cell_type": "code",
   "execution_count": 211,
   "id": "d65d74a9",
   "metadata": {},
   "outputs": [],
   "source": [
    "final_df.drop([\"DateInt\"], inplace = True, axis=1)"
   ]
  },
  {
   "cell_type": "code",
   "execution_count": 212,
   "id": "be808b01",
   "metadata": {},
   "outputs": [
    {
     "data": {
      "text/html": [
       "<div>\n",
       "<style scoped>\n",
       "    .dataframe tbody tr th:only-of-type {\n",
       "        vertical-align: middle;\n",
       "    }\n",
       "\n",
       "    .dataframe tbody tr th {\n",
       "        vertical-align: top;\n",
       "    }\n",
       "\n",
       "    .dataframe thead th {\n",
       "        text-align: right;\n",
       "    }\n",
       "</style>\n",
       "<table border=\"1\" class=\"dataframe\">\n",
       "  <thead>\n",
       "    <tr style=\"text-align: right;\">\n",
       "      <th></th>\n",
       "      <th>Customer ID</th>\n",
       "      <th>name</th>\n",
       "      <th>year</th>\n",
       "      <th>month</th>\n",
       "      <th>date</th>\n",
       "      <th>children</th>\n",
       "      <th>charges</th>\n",
       "      <th>Hospital tier</th>\n",
       "      <th>City tier</th>\n",
       "      <th>BMI</th>\n",
       "      <th>HBA1C</th>\n",
       "      <th>Heart Issues</th>\n",
       "      <th>Any Transplants</th>\n",
       "      <th>Cancer history</th>\n",
       "      <th>NumberOfMajorSurgeries</th>\n",
       "      <th>smoker</th>\n",
       "      <th>State_ID_R1011</th>\n",
       "      <th>State_ID_R1012</th>\n",
       "      <th>State_ID_R1013</th>\n",
       "      <th>DOB</th>\n",
       "    </tr>\n",
       "  </thead>\n",
       "  <tbody>\n",
       "    <tr>\n",
       "      <th>0</th>\n",
       "      <td>Id1</td>\n",
       "      <td>Hawks, Ms.  Kelly</td>\n",
       "      <td>1968</td>\n",
       "      <td>10</td>\n",
       "      <td>12</td>\n",
       "      <td>0</td>\n",
       "      <td>63770.43</td>\n",
       "      <td>1</td>\n",
       "      <td>3</td>\n",
       "      <td>47.410</td>\n",
       "      <td>7.47</td>\n",
       "      <td>0</td>\n",
       "      <td>0</td>\n",
       "      <td>0</td>\n",
       "      <td>0</td>\n",
       "      <td>1</td>\n",
       "      <td>0</td>\n",
       "      <td>0</td>\n",
       "      <td>1</td>\n",
       "      <td>1968-10-12</td>\n",
       "    </tr>\n",
       "    <tr>\n",
       "      <th>1</th>\n",
       "      <td>Id2</td>\n",
       "      <td>Lehner, Mr.  Matthew D</td>\n",
       "      <td>1977</td>\n",
       "      <td>6</td>\n",
       "      <td>8</td>\n",
       "      <td>0</td>\n",
       "      <td>62592.87</td>\n",
       "      <td>2</td>\n",
       "      <td>3</td>\n",
       "      <td>30.360</td>\n",
       "      <td>5.77</td>\n",
       "      <td>0</td>\n",
       "      <td>0</td>\n",
       "      <td>0</td>\n",
       "      <td>0</td>\n",
       "      <td>1</td>\n",
       "      <td>0</td>\n",
       "      <td>0</td>\n",
       "      <td>1</td>\n",
       "      <td>1977-06-08</td>\n",
       "    </tr>\n",
       "    <tr>\n",
       "      <th>3</th>\n",
       "      <td>Id4</td>\n",
       "      <td>Osborne, Ms.  Kelsey</td>\n",
       "      <td>1991</td>\n",
       "      <td>6</td>\n",
       "      <td>6</td>\n",
       "      <td>1</td>\n",
       "      <td>58571.07</td>\n",
       "      <td>1</td>\n",
       "      <td>3</td>\n",
       "      <td>38.095</td>\n",
       "      <td>6.05</td>\n",
       "      <td>0</td>\n",
       "      <td>0</td>\n",
       "      <td>0</td>\n",
       "      <td>0</td>\n",
       "      <td>1</td>\n",
       "      <td>0</td>\n",
       "      <td>0</td>\n",
       "      <td>0</td>\n",
       "      <td>1991-06-06</td>\n",
       "    </tr>\n",
       "    <tr>\n",
       "      <th>4</th>\n",
       "      <td>Id5</td>\n",
       "      <td>Kadala, Ms.  Kristyn</td>\n",
       "      <td>1989</td>\n",
       "      <td>6</td>\n",
       "      <td>19</td>\n",
       "      <td>0</td>\n",
       "      <td>55135.40</td>\n",
       "      <td>1</td>\n",
       "      <td>2</td>\n",
       "      <td>35.530</td>\n",
       "      <td>5.45</td>\n",
       "      <td>0</td>\n",
       "      <td>0</td>\n",
       "      <td>0</td>\n",
       "      <td>0</td>\n",
       "      <td>1</td>\n",
       "      <td>0</td>\n",
       "      <td>1</td>\n",
       "      <td>0</td>\n",
       "      <td>1989-06-19</td>\n",
       "    </tr>\n",
       "    <tr>\n",
       "      <th>5</th>\n",
       "      <td>Id6</td>\n",
       "      <td>Baker, Mr.  Russell B.</td>\n",
       "      <td>1962</td>\n",
       "      <td>8</td>\n",
       "      <td>4</td>\n",
       "      <td>0</td>\n",
       "      <td>52590.83</td>\n",
       "      <td>1</td>\n",
       "      <td>3</td>\n",
       "      <td>32.800</td>\n",
       "      <td>6.59</td>\n",
       "      <td>0</td>\n",
       "      <td>0</td>\n",
       "      <td>0</td>\n",
       "      <td>0</td>\n",
       "      <td>1</td>\n",
       "      <td>1</td>\n",
       "      <td>0</td>\n",
       "      <td>0</td>\n",
       "      <td>1962-08-04</td>\n",
       "    </tr>\n",
       "  </tbody>\n",
       "</table>\n",
       "</div>"
      ],
      "text/plain": [
       "  Customer ID                    name  year  month  date  children   charges  \\\n",
       "0         Id1       Hawks, Ms.  Kelly  1968     10    12         0  63770.43   \n",
       "1         Id2  Lehner, Mr.  Matthew D  1977      6     8         0  62592.87   \n",
       "3         Id4    Osborne, Ms.  Kelsey  1991      6     6         1  58571.07   \n",
       "4         Id5    Kadala, Ms.  Kristyn  1989      6    19         0  55135.40   \n",
       "5         Id6  Baker, Mr.  Russell B.  1962      8     4         0  52590.83   \n",
       "\n",
       "   Hospital tier  City tier     BMI  HBA1C  Heart Issues  Any Transplants  \\\n",
       "0              1          3  47.410   7.47             0                0   \n",
       "1              2          3  30.360   5.77             0                0   \n",
       "3              1          3  38.095   6.05             0                0   \n",
       "4              1          2  35.530   5.45             0                0   \n",
       "5              1          3  32.800   6.59             0                0   \n",
       "\n",
       "   Cancer history  NumberOfMajorSurgeries  smoker  State_ID_R1011  \\\n",
       "0               0                       0       1               0   \n",
       "1               0                       0       1               0   \n",
       "3               0                       0       1               0   \n",
       "4               0                       0       1               0   \n",
       "5               0                       0       1               1   \n",
       "\n",
       "   State_ID_R1012  State_ID_R1013        DOB  \n",
       "0               0               1 1968-10-12  \n",
       "1               0               1 1977-06-08  \n",
       "3               0               0 1991-06-06  \n",
       "4               1               0 1989-06-19  \n",
       "5               0               0 1962-08-04  "
      ]
     },
     "execution_count": 212,
     "metadata": {},
     "output_type": "execute_result"
    }
   ],
   "source": [
    "final_df.head()"
   ]
  },
  {
   "cell_type": "code",
   "execution_count": 213,
   "id": "54f04a3e",
   "metadata": {},
   "outputs": [],
   "source": [
    "import datetime as dt\n",
    "current_date = dt.datetime.now()"
   ]
  },
  {
   "cell_type": "code",
   "execution_count": 214,
   "id": "d5e3ee6e",
   "metadata": {},
   "outputs": [],
   "source": [
    "final_df['age'] = (((current_date - final_df.DOB).dt.days)/365).astype(int)"
   ]
  },
  {
   "cell_type": "code",
   "execution_count": 215,
   "id": "5d0ebf4e",
   "metadata": {},
   "outputs": [
    {
     "data": {
      "text/html": [
       "<div>\n",
       "<style scoped>\n",
       "    .dataframe tbody tr th:only-of-type {\n",
       "        vertical-align: middle;\n",
       "    }\n",
       "\n",
       "    .dataframe tbody tr th {\n",
       "        vertical-align: top;\n",
       "    }\n",
       "\n",
       "    .dataframe thead th {\n",
       "        text-align: right;\n",
       "    }\n",
       "</style>\n",
       "<table border=\"1\" class=\"dataframe\">\n",
       "  <thead>\n",
       "    <tr style=\"text-align: right;\">\n",
       "      <th></th>\n",
       "      <th>Customer ID</th>\n",
       "      <th>name</th>\n",
       "      <th>year</th>\n",
       "      <th>month</th>\n",
       "      <th>date</th>\n",
       "      <th>children</th>\n",
       "      <th>charges</th>\n",
       "      <th>Hospital tier</th>\n",
       "      <th>City tier</th>\n",
       "      <th>BMI</th>\n",
       "      <th>...</th>\n",
       "      <th>Heart Issues</th>\n",
       "      <th>Any Transplants</th>\n",
       "      <th>Cancer history</th>\n",
       "      <th>NumberOfMajorSurgeries</th>\n",
       "      <th>smoker</th>\n",
       "      <th>State_ID_R1011</th>\n",
       "      <th>State_ID_R1012</th>\n",
       "      <th>State_ID_R1013</th>\n",
       "      <th>DOB</th>\n",
       "      <th>age</th>\n",
       "    </tr>\n",
       "  </thead>\n",
       "  <tbody>\n",
       "    <tr>\n",
       "      <th>0</th>\n",
       "      <td>Id1</td>\n",
       "      <td>Hawks, Ms.  Kelly</td>\n",
       "      <td>1968</td>\n",
       "      <td>10</td>\n",
       "      <td>12</td>\n",
       "      <td>0</td>\n",
       "      <td>63770.43</td>\n",
       "      <td>1</td>\n",
       "      <td>3</td>\n",
       "      <td>47.410</td>\n",
       "      <td>...</td>\n",
       "      <td>0</td>\n",
       "      <td>0</td>\n",
       "      <td>0</td>\n",
       "      <td>0</td>\n",
       "      <td>1</td>\n",
       "      <td>0</td>\n",
       "      <td>0</td>\n",
       "      <td>1</td>\n",
       "      <td>1968-10-12</td>\n",
       "      <td>54</td>\n",
       "    </tr>\n",
       "    <tr>\n",
       "      <th>1</th>\n",
       "      <td>Id2</td>\n",
       "      <td>Lehner, Mr.  Matthew D</td>\n",
       "      <td>1977</td>\n",
       "      <td>6</td>\n",
       "      <td>8</td>\n",
       "      <td>0</td>\n",
       "      <td>62592.87</td>\n",
       "      <td>2</td>\n",
       "      <td>3</td>\n",
       "      <td>30.360</td>\n",
       "      <td>...</td>\n",
       "      <td>0</td>\n",
       "      <td>0</td>\n",
       "      <td>0</td>\n",
       "      <td>0</td>\n",
       "      <td>1</td>\n",
       "      <td>0</td>\n",
       "      <td>0</td>\n",
       "      <td>1</td>\n",
       "      <td>1977-06-08</td>\n",
       "      <td>45</td>\n",
       "    </tr>\n",
       "    <tr>\n",
       "      <th>3</th>\n",
       "      <td>Id4</td>\n",
       "      <td>Osborne, Ms.  Kelsey</td>\n",
       "      <td>1991</td>\n",
       "      <td>6</td>\n",
       "      <td>6</td>\n",
       "      <td>1</td>\n",
       "      <td>58571.07</td>\n",
       "      <td>1</td>\n",
       "      <td>3</td>\n",
       "      <td>38.095</td>\n",
       "      <td>...</td>\n",
       "      <td>0</td>\n",
       "      <td>0</td>\n",
       "      <td>0</td>\n",
       "      <td>0</td>\n",
       "      <td>1</td>\n",
       "      <td>0</td>\n",
       "      <td>0</td>\n",
       "      <td>0</td>\n",
       "      <td>1991-06-06</td>\n",
       "      <td>31</td>\n",
       "    </tr>\n",
       "    <tr>\n",
       "      <th>4</th>\n",
       "      <td>Id5</td>\n",
       "      <td>Kadala, Ms.  Kristyn</td>\n",
       "      <td>1989</td>\n",
       "      <td>6</td>\n",
       "      <td>19</td>\n",
       "      <td>0</td>\n",
       "      <td>55135.40</td>\n",
       "      <td>1</td>\n",
       "      <td>2</td>\n",
       "      <td>35.530</td>\n",
       "      <td>...</td>\n",
       "      <td>0</td>\n",
       "      <td>0</td>\n",
       "      <td>0</td>\n",
       "      <td>0</td>\n",
       "      <td>1</td>\n",
       "      <td>0</td>\n",
       "      <td>1</td>\n",
       "      <td>0</td>\n",
       "      <td>1989-06-19</td>\n",
       "      <td>33</td>\n",
       "    </tr>\n",
       "    <tr>\n",
       "      <th>5</th>\n",
       "      <td>Id6</td>\n",
       "      <td>Baker, Mr.  Russell B.</td>\n",
       "      <td>1962</td>\n",
       "      <td>8</td>\n",
       "      <td>4</td>\n",
       "      <td>0</td>\n",
       "      <td>52590.83</td>\n",
       "      <td>1</td>\n",
       "      <td>3</td>\n",
       "      <td>32.800</td>\n",
       "      <td>...</td>\n",
       "      <td>0</td>\n",
       "      <td>0</td>\n",
       "      <td>0</td>\n",
       "      <td>0</td>\n",
       "      <td>1</td>\n",
       "      <td>1</td>\n",
       "      <td>0</td>\n",
       "      <td>0</td>\n",
       "      <td>1962-08-04</td>\n",
       "      <td>60</td>\n",
       "    </tr>\n",
       "  </tbody>\n",
       "</table>\n",
       "<p>5 rows × 21 columns</p>\n",
       "</div>"
      ],
      "text/plain": [
       "  Customer ID                    name  year  month  date  children   charges  \\\n",
       "0         Id1       Hawks, Ms.  Kelly  1968     10    12         0  63770.43   \n",
       "1         Id2  Lehner, Mr.  Matthew D  1977      6     8         0  62592.87   \n",
       "3         Id4    Osborne, Ms.  Kelsey  1991      6     6         1  58571.07   \n",
       "4         Id5    Kadala, Ms.  Kristyn  1989      6    19         0  55135.40   \n",
       "5         Id6  Baker, Mr.  Russell B.  1962      8     4         0  52590.83   \n",
       "\n",
       "   Hospital tier  City tier     BMI  ...  Heart Issues  Any Transplants  \\\n",
       "0              1          3  47.410  ...             0                0   \n",
       "1              2          3  30.360  ...             0                0   \n",
       "3              1          3  38.095  ...             0                0   \n",
       "4              1          2  35.530  ...             0                0   \n",
       "5              1          3  32.800  ...             0                0   \n",
       "\n",
       "   Cancer history  NumberOfMajorSurgeries  smoker  State_ID_R1011  \\\n",
       "0               0                       0       1               0   \n",
       "1               0                       0       1               0   \n",
       "3               0                       0       1               0   \n",
       "4               0                       0       1               0   \n",
       "5               0                       0       1               1   \n",
       "\n",
       "   State_ID_R1012  State_ID_R1013        DOB age  \n",
       "0               0               1 1968-10-12  54  \n",
       "1               0               1 1977-06-08  45  \n",
       "3               0               0 1991-06-06  31  \n",
       "4               1               0 1989-06-19  33  \n",
       "5               0               0 1962-08-04  60  \n",
       "\n",
       "[5 rows x 21 columns]"
      ]
     },
     "execution_count": 215,
     "metadata": {},
     "output_type": "execute_result"
    }
   ],
   "source": [
    "final_df.head()"
   ]
  },
  {
   "cell_type": "markdown",
   "id": "110f0bda",
   "metadata": {},
   "source": [
    "### 8. The gender of the patient may be an important factor in determining the cost of hospitalization. The salutations in a beneficiary's name can be used to determine their gender. Make a new field for the beneficiary's gender.\n"
   ]
  },
  {
   "cell_type": "code",
   "execution_count": 216,
   "id": "19598ad7",
   "metadata": {},
   "outputs": [],
   "source": [
    "def gender(val):\n",
    "    if \"Ms.\" in val:\n",
    "        return 0\n",
    "    else:\n",
    "        return 1"
   ]
  },
  {
   "cell_type": "markdown",
   "id": "fdcb9991",
   "metadata": {},
   "source": [
    "the salutation (Ms.) denote the female and (Mr.) denote the male.\n",
    "> The gender will play the inportant role to predict the hospitalization cost so for model building we directly denote the gender by int.\n",
    "\n",
    ">>Male = 1\n",
    "&\n",
    "Female = 0"
   ]
  },
  {
   "cell_type": "code",
   "execution_count": 217,
   "id": "e87e62d8",
   "metadata": {},
   "outputs": [],
   "source": [
    "final_df[\"gender\"] = final_df[\"name\"].map(gender)"
   ]
  },
  {
   "cell_type": "code",
   "execution_count": 218,
   "id": "837805fc",
   "metadata": {},
   "outputs": [
    {
     "data": {
      "text/html": [
       "<div>\n",
       "<style scoped>\n",
       "    .dataframe tbody tr th:only-of-type {\n",
       "        vertical-align: middle;\n",
       "    }\n",
       "\n",
       "    .dataframe tbody tr th {\n",
       "        vertical-align: top;\n",
       "    }\n",
       "\n",
       "    .dataframe thead th {\n",
       "        text-align: right;\n",
       "    }\n",
       "</style>\n",
       "<table border=\"1\" class=\"dataframe\">\n",
       "  <thead>\n",
       "    <tr style=\"text-align: right;\">\n",
       "      <th></th>\n",
       "      <th>Customer ID</th>\n",
       "      <th>name</th>\n",
       "      <th>year</th>\n",
       "      <th>month</th>\n",
       "      <th>date</th>\n",
       "      <th>children</th>\n",
       "      <th>charges</th>\n",
       "      <th>Hospital tier</th>\n",
       "      <th>City tier</th>\n",
       "      <th>BMI</th>\n",
       "      <th>...</th>\n",
       "      <th>Any Transplants</th>\n",
       "      <th>Cancer history</th>\n",
       "      <th>NumberOfMajorSurgeries</th>\n",
       "      <th>smoker</th>\n",
       "      <th>State_ID_R1011</th>\n",
       "      <th>State_ID_R1012</th>\n",
       "      <th>State_ID_R1013</th>\n",
       "      <th>DOB</th>\n",
       "      <th>age</th>\n",
       "      <th>gender</th>\n",
       "    </tr>\n",
       "  </thead>\n",
       "  <tbody>\n",
       "    <tr>\n",
       "      <th>0</th>\n",
       "      <td>Id1</td>\n",
       "      <td>Hawks, Ms.  Kelly</td>\n",
       "      <td>1968</td>\n",
       "      <td>10</td>\n",
       "      <td>12</td>\n",
       "      <td>0</td>\n",
       "      <td>63770.43</td>\n",
       "      <td>1</td>\n",
       "      <td>3</td>\n",
       "      <td>47.410</td>\n",
       "      <td>...</td>\n",
       "      <td>0</td>\n",
       "      <td>0</td>\n",
       "      <td>0</td>\n",
       "      <td>1</td>\n",
       "      <td>0</td>\n",
       "      <td>0</td>\n",
       "      <td>1</td>\n",
       "      <td>1968-10-12</td>\n",
       "      <td>54</td>\n",
       "      <td>0</td>\n",
       "    </tr>\n",
       "    <tr>\n",
       "      <th>1</th>\n",
       "      <td>Id2</td>\n",
       "      <td>Lehner, Mr.  Matthew D</td>\n",
       "      <td>1977</td>\n",
       "      <td>6</td>\n",
       "      <td>8</td>\n",
       "      <td>0</td>\n",
       "      <td>62592.87</td>\n",
       "      <td>2</td>\n",
       "      <td>3</td>\n",
       "      <td>30.360</td>\n",
       "      <td>...</td>\n",
       "      <td>0</td>\n",
       "      <td>0</td>\n",
       "      <td>0</td>\n",
       "      <td>1</td>\n",
       "      <td>0</td>\n",
       "      <td>0</td>\n",
       "      <td>1</td>\n",
       "      <td>1977-06-08</td>\n",
       "      <td>45</td>\n",
       "      <td>1</td>\n",
       "    </tr>\n",
       "    <tr>\n",
       "      <th>3</th>\n",
       "      <td>Id4</td>\n",
       "      <td>Osborne, Ms.  Kelsey</td>\n",
       "      <td>1991</td>\n",
       "      <td>6</td>\n",
       "      <td>6</td>\n",
       "      <td>1</td>\n",
       "      <td>58571.07</td>\n",
       "      <td>1</td>\n",
       "      <td>3</td>\n",
       "      <td>38.095</td>\n",
       "      <td>...</td>\n",
       "      <td>0</td>\n",
       "      <td>0</td>\n",
       "      <td>0</td>\n",
       "      <td>1</td>\n",
       "      <td>0</td>\n",
       "      <td>0</td>\n",
       "      <td>0</td>\n",
       "      <td>1991-06-06</td>\n",
       "      <td>31</td>\n",
       "      <td>0</td>\n",
       "    </tr>\n",
       "    <tr>\n",
       "      <th>4</th>\n",
       "      <td>Id5</td>\n",
       "      <td>Kadala, Ms.  Kristyn</td>\n",
       "      <td>1989</td>\n",
       "      <td>6</td>\n",
       "      <td>19</td>\n",
       "      <td>0</td>\n",
       "      <td>55135.40</td>\n",
       "      <td>1</td>\n",
       "      <td>2</td>\n",
       "      <td>35.530</td>\n",
       "      <td>...</td>\n",
       "      <td>0</td>\n",
       "      <td>0</td>\n",
       "      <td>0</td>\n",
       "      <td>1</td>\n",
       "      <td>0</td>\n",
       "      <td>1</td>\n",
       "      <td>0</td>\n",
       "      <td>1989-06-19</td>\n",
       "      <td>33</td>\n",
       "      <td>0</td>\n",
       "    </tr>\n",
       "    <tr>\n",
       "      <th>5</th>\n",
       "      <td>Id6</td>\n",
       "      <td>Baker, Mr.  Russell B.</td>\n",
       "      <td>1962</td>\n",
       "      <td>8</td>\n",
       "      <td>4</td>\n",
       "      <td>0</td>\n",
       "      <td>52590.83</td>\n",
       "      <td>1</td>\n",
       "      <td>3</td>\n",
       "      <td>32.800</td>\n",
       "      <td>...</td>\n",
       "      <td>0</td>\n",
       "      <td>0</td>\n",
       "      <td>0</td>\n",
       "      <td>1</td>\n",
       "      <td>1</td>\n",
       "      <td>0</td>\n",
       "      <td>0</td>\n",
       "      <td>1962-08-04</td>\n",
       "      <td>60</td>\n",
       "      <td>1</td>\n",
       "    </tr>\n",
       "  </tbody>\n",
       "</table>\n",
       "<p>5 rows × 22 columns</p>\n",
       "</div>"
      ],
      "text/plain": [
       "  Customer ID                    name  year  month  date  children   charges  \\\n",
       "0         Id1       Hawks, Ms.  Kelly  1968     10    12         0  63770.43   \n",
       "1         Id2  Lehner, Mr.  Matthew D  1977      6     8         0  62592.87   \n",
       "3         Id4    Osborne, Ms.  Kelsey  1991      6     6         1  58571.07   \n",
       "4         Id5    Kadala, Ms.  Kristyn  1989      6    19         0  55135.40   \n",
       "5         Id6  Baker, Mr.  Russell B.  1962      8     4         0  52590.83   \n",
       "\n",
       "   Hospital tier  City tier     BMI  ...  Any Transplants  Cancer history  \\\n",
       "0              1          3  47.410  ...                0               0   \n",
       "1              2          3  30.360  ...                0               0   \n",
       "3              1          3  38.095  ...                0               0   \n",
       "4              1          2  35.530  ...                0               0   \n",
       "5              1          3  32.800  ...                0               0   \n",
       "\n",
       "   NumberOfMajorSurgeries  smoker  State_ID_R1011  State_ID_R1012  \\\n",
       "0                       0       1               0               0   \n",
       "1                       0       1               0               0   \n",
       "3                       0       1               0               0   \n",
       "4                       0       1               0               1   \n",
       "5                       0       1               1               0   \n",
       "\n",
       "   State_ID_R1013        DOB  age gender  \n",
       "0               1 1968-10-12   54      0  \n",
       "1               1 1977-06-08   45      1  \n",
       "3               0 1991-06-06   31      0  \n",
       "4               0 1989-06-19   33      0  \n",
       "5               0 1962-08-04   60      1  \n",
       "\n",
       "[5 rows x 22 columns]"
      ]
     },
     "execution_count": 218,
     "metadata": {},
     "output_type": "execute_result"
    }
   ],
   "source": [
    "final_df.head()"
   ]
  },
  {
   "cell_type": "markdown",
   "id": "52bd3732",
   "metadata": {},
   "source": [
    "### 9. You should also visualize the distribution of costs using a histogram, box and whisker plot, and swarm plot."
   ]
  },
  {
   "cell_type": "code",
   "execution_count": 219,
   "id": "6b5cd81a",
   "metadata": {},
   "outputs": [
    {
     "data": {
      "image/png": "[encoded data removed]",
      "text/plain": [
       "<Figure size 1200x500 with 1 Axes>"
      ]
     },
     "metadata": {},
     "output_type": "display_data"
    }
   ],
   "source": [
    "# Lets make the histogram for the cost distribution.\n",
    "plt.figure(figsize=(12,5))\n",
    "sns.histplot(final_df['charges'])\n",
    "plt.show()"
   ]
  },
  {
   "cell_type": "code",
   "execution_count": 220,
   "id": "23f648a4",
   "metadata": {},
   "outputs": [
    {
     "data": {
      "image/png": "[encoded data removed]",
      "text/plain": [
       "<Figure size 640x480 with 1 Axes>"
      ]
     },
     "metadata": {},
     "output_type": "display_data"
    }
   ],
   "source": [
    "# Now visualize the cost distribution of the hospitals by box or whisker plot.\n",
    "plt.boxplot(final_df['charges'])\n",
    "plt.show()"
   ]
  },
  {
   "cell_type": "code",
   "execution_count": 221,
   "id": "92dccc9f",
   "metadata": {},
   "outputs": [
    {
     "data": {
      "image/png": "[encoded data removed]",
      "text/plain": [
       "<Figure size 1200x500 with 1 Axes>"
      ]
     },
     "metadata": {},
     "output_type": "display_data"
    }
   ],
   "source": [
    "# Now visualize the cost distribution of the hospitals by swarm plot.\n",
    "plt.figure(figsize=(12,5))\n",
    "sns.swarmplot(x='year', y='charges', hue=\"gender\", data=final_df)\n",
    "plt.xticks(rotation=90)\n",
    "plt.show()"
   ]
  },
  {
   "cell_type": "markdown",
   "id": "20f60f8d",
   "metadata": {},
   "source": [
    "### 10. State how the distribution is different across gender and tiers of hospitals"
   ]
  },
  {
   "cell_type": "code",
   "execution_count": 222,
   "id": "b28f8104",
   "metadata": {},
   "outputs": [
    {
     "data": {
      "image/png": "[encoded data removed]",
      "text/plain": [
       "<Figure size 640x480 with 1 Axes>"
      ]
     },
     "metadata": {},
     "output_type": "display_data"
    }
   ],
   "source": [
    "sns.countplot(data = final_df, x='Hospital tier', hue= 'gender')\n",
    "plt.show()"
   ]
  },
  {
   "cell_type": "markdown",
   "id": "7a320090",
   "metadata": {},
   "source": [
    "From the above representation it is clear that the number of female in the tier 1 and 3 is half of the male just in tier 2 hospital female is little bit more as compare to male."
   ]
  },
  {
   "cell_type": "markdown",
   "id": "d6ac07e2",
   "metadata": {},
   "source": [
    "### 11. Create a radar chart to showcase the median hospitalization cost for each tier of hospitals"
   ]
  },
  {
   "cell_type": "code",
   "execution_count": 223,
   "id": "d7aefbde",
   "metadata": {},
   "outputs": [
    {
     "name": "stdout",
     "output_type": "stream",
     "text": [
      "median cost of tier 1 hospitals: 32097.434999999998\n",
      "median cost of tier 2 hospitals: 7168.76\n",
      "median cost of tier 3 hospitals: 10676.83\n"
     ]
    }
   ],
   "source": [
    "print(\"median cost of tier 1 hospitals:\", final_df[final_df[\"Hospital tier\"]==1].charges.median())\n",
    "print(\"median cost of tier 2 hospitals:\", final_df[final_df[\"Hospital tier\"]==2].charges.median())\n",
    "print(\"median cost of tier 3 hospitals:\", final_df[final_df[\"Hospital tier\"]==3].charges.median())"
   ]
  },
  {
   "cell_type": "code",
   "execution_count": 224,
   "id": "57e4195a",
   "metadata": {},
   "outputs": [],
   "source": [
    "df = pd.DataFrame(dict(r=[32097.43, 7168.76, 10676.83],theta=['tier 1 hospital','tier 2 hospital','tier 3 hospital']))"
   ]
  },
  {
   "cell_type": "code",
   "execution_count": 225,
   "id": "11e7bcf6",
   "metadata": {},
   "outputs": [
    {
     "data": {
      "text/html": [
       "<div>\n",
       "<style scoped>\n",
       "    .dataframe tbody tr th:only-of-type {\n",
       "        vertical-align: middle;\n",
       "    }\n",
       "\n",
       "    .dataframe tbody tr th {\n",
       "        vertical-align: top;\n",
       "    }\n",
       "\n",
       "    .dataframe thead th {\n",
       "        text-align: right;\n",
       "    }\n",
       "</style>\n",
       "<table border=\"1\" class=\"dataframe\">\n",
       "  <thead>\n",
       "    <tr style=\"text-align: right;\">\n",
       "      <th></th>\n",
       "      <th>r</th>\n",
       "      <th>theta</th>\n",
       "    </tr>\n",
       "  </thead>\n",
       "  <tbody>\n",
       "    <tr>\n",
       "      <th>0</th>\n",
       "      <td>32097.43</td>\n",
       "      <td>tier 1 hospital</td>\n",
       "    </tr>\n",
       "    <tr>\n",
       "      <th>1</th>\n",
       "      <td>7168.76</td>\n",
       "      <td>tier 2 hospital</td>\n",
       "    </tr>\n",
       "    <tr>\n",
       "      <th>2</th>\n",
       "      <td>10676.83</td>\n",
       "      <td>tier 3 hospital</td>\n",
       "    </tr>\n",
       "  </tbody>\n",
       "</table>\n",
       "</div>"
      ],
      "text/plain": [
       "          r            theta\n",
       "0  32097.43  tier 1 hospital\n",
       "1   7168.76  tier 2 hospital\n",
       "2  10676.83  tier 3 hospital"
      ]
     },
     "execution_count": 225,
     "metadata": {},
     "output_type": "execute_result"
    }
   ],
   "source": [
    "df"
   ]
  },
  {
   "cell_type": "code",
   "execution_count": 226,
   "id": "87912d36",
   "metadata": {},
   "outputs": [
    {
     "data": {
      "application/vnd.plotly.v1+json": {
       "config": {
        "plotlyServerURL": "https://plot.ly"
       },
       "data": [
        {
         "fill": "toself",
         "hovertemplate": "r=%{r}<br>theta=%{theta}<extra></extra>",
         "legendgroup": "",
         "line": {
          "color": "#636efa",
          "dash": "solid"
         },
         "marker": {
          "symbol": "circle"
         },
         "mode": "lines",
         "name": "",
         "r": [
          32097.43,
          7168.76,
          10676.83,
          32097.43
         ],
         "showlegend": false,
         "subplot": "polar",
         "theta": [
          "tier 1 hospital",
          "tier 2 hospital",
          "tier 3 hospital",
          "tier 1 hospital"
         ],
         "type": "scatterpolar"
        }
       ],
       "layout": {
        "autosize": true,
        "legend": {
         "tracegroupgap": 0
        },
        "margin": {
         "t": 60
        },
        "polar": {
         "angularaxis": {
          "direction": "clockwise",
          "rotation": 90,
          "type": "category"
         },
         "domain": {
          "x": [
           0,
           1
          ],
          "y": [
           0,
           1
          ]
         },
         "radialaxis": {
          "autorange": true,
          "range": [
           0,
           32097.43
          ],
          "type": "linear"
         }
        },
        "template": {
         "data": {
          "bar": [
           {
            "error_x": {
             "color": "#2a3f5f"
            },
            "error_y": {
             "color": "#2a3f5f"
            },
            "marker": {
             "line": {
              "color": "#E5ECF6",
              "width": 0.5
             },
             "pattern": {
              "fillmode": "overlay",
              "size": 10,
              "solidity": 0.2
             }
            },
            "type": "bar"
           }
          ],
          "barpolar": [
           {
            "marker": {
             "line": {
              "color": "#E5ECF6",
              "width": 0.5
             },
             "pattern": {
              "fillmode": "overlay",
              "size": 10,
              "solidity": 0.2
             }
            },
            "type": "barpolar"
           }
          ],
          "carpet": [
           {
            "aaxis": {
             "endlinecolor": "#2a3f5f",
             "gridcolor": "white",
             "linecolor": "white",
             "minorgridcolor": "white",
             "startlinecolor": "#2a3f5f"
            },
            "baxis": {
             "endlinecolor": "#2a3f5f",
             "gridcolor": "white",
             "linecolor": "white",
             "minorgridcolor": "white",
             "startlinecolor": "#2a3f5f"
            },
            "type": "carpet"
           }
          ],
          "choropleth": [
           {
            "colorbar": {
             "outlinewidth": 0,
             "ticks": ""
            },
            "type": "choropleth"
           }
          ],
          "contour": [
           {
            "colorbar": {
             "outlinewidth": 0,
             "ticks": ""
            },
            "colorscale": [
             [
              0,
              "#0d0887"
             ],
             [
              0.1111111111111111,
              "#46039f"
             ],
             [
              0.2222222222222222,
              "#7201a8"
             ],
             [
              0.3333333333333333,
              "#9c179e"
             ],
             [
              0.4444444444444444,
              "#bd3786"
             ],
             [
              0.5555555555555556,
              "#d8576b"
             ],
             [
              0.6666666666666666,
              "#ed7953"
             ],
             [
              0.7777777777777778,
              "#fb9f3a"
             ],
             [
              0.8888888888888888,
              "#fdca26"
             ],
             [
              1,
              "#f0f921"
             ]
            ],
            "type": "contour"
           }
          ],
          "contourcarpet": [
           {
            "colorbar": {
             "outlinewidth": 0,
             "ticks": ""
            },
            "type": "contourcarpet"
           }
          ],
          "heatmap": [
           {
            "colorbar": {
             "outlinewidth": 0,
             "ticks": ""
            },
            "colorscale": [
             [
              0,
              "#0d0887"
             ],
             [
              0.1111111111111111,
              "#46039f"
             ],
             [
              0.2222222222222222,
              "#7201a8"
             ],
             [
              0.3333333333333333,
              "#9c179e"
             ],
             [
              0.4444444444444444,
              "#bd3786"
             ],
             [
              0.5555555555555556,
              "#d8576b"
             ],
             [
              0.6666666666666666,
              "#ed7953"
             ],
             [
              0.7777777777777778,
              "#fb9f3a"
             ],
             [
              0.8888888888888888,
              "#fdca26"
             ],
             [
              1,
              "#f0f921"
             ]
            ],
            "type": "heatmap"
           }
          ],
          "heatmapgl": [
           {
            "colorbar": {
             "outlinewidth": 0,
             "ticks": ""
            },
            "colorscale": [
             [
              0,
              "#0d0887"
             ],
             [
              0.1111111111111111,
              "#46039f"
             ],
             [
              0.2222222222222222,
              "#7201a8"
             ],
             [
              0.3333333333333333,
              "#9c179e"
             ],
             [
              0.4444444444444444,
              "#bd3786"
             ],
             [
              0.5555555555555556,
              "#d8576b"
             ],
             [
              0.6666666666666666,
              "#ed7953"
             ],
             [
              0.7777777777777778,
              "#fb9f3a"
             ],
             [
              0.8888888888888888,
              "#fdca26"
             ],
             [
              1,
              "#f0f921"
             ]
            ],
            "type": "heatmapgl"
           }
          ],
          "histogram": [
           {
            "marker": {
             "pattern": {
              "fillmode": "overlay",
              "size": 10,
              "solidity": 0.2
             }
            },
            "type": "histogram"
           }
          ],
          "histogram2d": [
           {
            "colorbar": {
             "outlinewidth": 0,
             "ticks": ""
            },
            "colorscale": [
             [
              0,
              "#0d0887"
             ],
             [
              0.1111111111111111,
              "#46039f"
             ],
             [
              0.2222222222222222,
              "#7201a8"
             ],
             [
              0.3333333333333333,
              "#9c179e"
             ],
             [
              0.4444444444444444,
              "#bd3786"
             ],
             [
              0.5555555555555556,
              "#d8576b"
             ],
             [
              0.6666666666666666,
              "#ed7953"
             ],
             [
              0.7777777777777778,
              "#fb9f3a"
             ],
             [
              0.8888888888888888,
              "#fdca26"
             ],
             [
              1,
              "#f0f921"
             ]
            ],
            "type": "histogram2d"
           }
          ],
          "histogram2dcontour": [
           {
            "colorbar": {
             "outlinewidth": 0,
             "ticks": ""
            },
            "colorscale": [
             [
              0,
              "#0d0887"
             ],
             [
              0.1111111111111111,
              "#46039f"
             ],
             [
              0.2222222222222222,
              "#7201a8"
             ],
             [
              0.3333333333333333,
              "#9c179e"
             ],
             [
              0.4444444444444444,
              "#bd3786"
             ],
             [
              0.5555555555555556,
              "#d8576b"
             ],
             [
              0.6666666666666666,
              "#ed7953"
             ],
             [
              0.7777777777777778,
              "#fb9f3a"
             ],
             [
              0.8888888888888888,
              "#fdca26"
             ],
             [
              1,
              "#f0f921"
             ]
            ],
            "type": "histogram2dcontour"
           }
          ],
          "mesh3d": [
           {
            "colorbar": {
             "outlinewidth": 0,
             "ticks": ""
            },
            "type": "mesh3d"
           }
          ],
          "parcoords": [
           {
            "line": {
             "colorbar": {
              "outlinewidth": 0,
              "ticks": ""
             }
            },
            "type": "parcoords"
           }
          ],
          "pie": [
           {
            "automargin": true,
            "type": "pie"
           }
          ],
          "scatter": [
           {
            "fillpattern": {
             "fillmode": "overlay",
             "size": 10,
             "solidity": 0.2
            },
            "type": "scatter"
           }
          ],
          "scatter3d": [
           {
            "line": {
             "colorbar": {
              "outlinewidth": 0,
              "ticks": ""
             }
            },
            "marker": {
             "colorbar": {
              "outlinewidth": 0,
              "ticks": ""
             }
            },
            "type": "scatter3d"
           }
          ],
          "scattercarpet": [
           {
            "marker": {
             "colorbar": {
              "outlinewidth": 0,
              "ticks": ""
             }
            },
            "type": "scattercarpet"
           }
          ],
          "scattergeo": [
           {
            "marker": {
             "colorbar": {
              "outlinewidth": 0,
              "ticks": ""
             }
            },
            "type": "scattergeo"
           }
          ],
          "scattergl": [
           {
            "marker": {
             "colorbar": {
              "outlinewidth": 0,
              "ticks": ""
             }
            },
            "type": "scattergl"
           }
          ],
          "scattermapbox": [
           {
            "marker": {
             "colorbar": {
              "outlinewidth": 0,
              "ticks": ""
             }
            },
            "type": "scattermapbox"
           }
          ],
          "scatterpolar": [
           {
            "marker": {
             "colorbar": {
              "outlinewidth": 0,
              "ticks": ""
             }
            },
            "type": "scatterpolar"
           }
          ],
          "scatterpolargl": [
           {
            "marker": {
             "colorbar": {
              "outlinewidth": 0,
              "ticks": ""
             }
            },
            "type": "scatterpolargl"
           }
          ],
          "scatterternary": [
           {
            "marker": {
             "colorbar": {
              "outlinewidth": 0,
              "ticks": ""
             }
            },
            "type": "scatterternary"
           }
          ],
          "surface": [
           {
            "colorbar": {
             "outlinewidth": 0,
             "ticks": ""
            },
            "colorscale": [
             [
              0,
              "#0d0887"
             ],
             [
              0.1111111111111111,
              "#46039f"
             ],
             [
              0.2222222222222222,
              "#7201a8"
             ],
             [
              0.3333333333333333,
              "#9c179e"
             ],
             [
              0.4444444444444444,
              "#bd3786"
             ],
             [
              0.5555555555555556,
              "#d8576b"
             ],
             [
              0.6666666666666666,
              "#ed7953"
             ],
             [
              0.7777777777777778,
              "#fb9f3a"
             ],
             [
              0.8888888888888888,
              "#fdca26"
             ],
             [
              1,
              "#f0f921"
             ]
            ],
            "type": "surface"
           }
          ],
          "table": [
           {
            "cells": {
             "fill": {
              "color": "#EBF0F8"
             },
             "line": {
              "color": "white"
             }
            },
            "header": {
             "fill": {
              "color": "#C8D4E3"
             },
             "line": {
              "color": "white"
             }
            },
            "type": "table"
           }
          ]
         },
         "layout": {
          "annotationdefaults": {
           "arrowcolor": "#2a3f5f",
           "arrowhead": 0,
           "arrowwidth": 1
          },
          "autotypenumbers": "strict",
          "coloraxis": {
           "colorbar": {
            "outlinewidth": 0,
            "ticks": ""
           }
          },
          "colorscale": {
           "diverging": [
            [
             0,
             "#8e0152"
            ],
            [
             0.1,
             "#c51b7d"
            ],
            [
             0.2,
             "#de77ae"
            ],
            [
             0.3,
             "#f1b6da"
            ],
            [
             0.4,
             "#fde0ef"
            ],
            [
             0.5,
             "#f7f7f7"
            ],
            [
             0.6,
             "#e6f5d0"
            ],
            [
             0.7,
             "#b8e186"
            ],
            [
             0.8,
             "#7fbc41"
            ],
            [
             0.9,
             "#4d9221"
            ],
            [
             1,
             "#276419"
            ]
           ],
           "sequential": [
            [
             0,
             "#0d0887"
            ],
            [
             0.1111111111111111,
             "#46039f"
            ],
            [
             0.2222222222222222,
             "#7201a8"
            ],
            [
             0.3333333333333333,
             "#9c179e"
            ],
            [
             0.4444444444444444,
             "#bd3786"
            ],
            [
             0.5555555555555556,
             "#d8576b"
            ],
            [
             0.6666666666666666,
             "#ed7953"
            ],
            [
             0.7777777777777778,
             "#fb9f3a"
            ],
            [
             0.8888888888888888,
             "#fdca26"
            ],
            [
             1,
             "#f0f921"
            ]
           ],
           "sequentialminus": [
            [
             0,
             "#0d0887"
            ],
            [
             0.1111111111111111,
             "#46039f"
            ],
            [
             0.2222222222222222,
             "#7201a8"
            ],
            [
             0.3333333333333333,
             "#9c179e"
            ],
            [
             0.4444444444444444,
             "#bd3786"
            ],
            [
             0.5555555555555556,
             "#d8576b"
            ],
            [
             0.6666666666666666,
             "#ed7953"
            ],
            [
             0.7777777777777778,
             "#fb9f3a"
            ],
            [
             0.8888888888888888,
             "#fdca26"
            ],
            [
             1,
             "#f0f921"
            ]
           ]
          },
          "colorway": [
           "#636efa",
           "#EF553B",
           "#00cc96",
           "#ab63fa",
           "#FFA15A",
           "#19d3f3",
           "#FF6692",
           "#B6E880",
           "#FF97FF",
           "#FECB52"
          ],
          "font": {
           "color": "#2a3f5f"
          },
          "geo": {
           "bgcolor": "white",
           "lakecolor": "white",
           "landcolor": "#E5ECF6",
           "showlakes": true,
           "showland": true,
           "subunitcolor": "white"
          },
          "hoverlabel": {
           "align": "left"
          },
          "hovermode": "closest",
          "mapbox": {
           "style": "light"
          },
          "paper_bgcolor": "white",
          "plot_bgcolor": "#E5ECF6",
          "polar": {
           "angularaxis": {
            "gridcolor": "white",
            "linecolor": "white",
            "ticks": ""
           },
           "bgcolor": "#E5ECF6",
           "radialaxis": {
            "gridcolor": "white",
            "linecolor": "white",
            "ticks": ""
           }
          },
          "scene": {
           "xaxis": {
            "backgroundcolor": "#E5ECF6",
            "gridcolor": "white",
            "gridwidth": 2,
            "linecolor": "white",
            "showbackground": true,
            "ticks": "",
            "zerolinecolor": "white"
           },
           "yaxis": {
            "backgroundcolor": "#E5ECF6",
            "gridcolor": "white",
            "gridwidth": 2,
            "linecolor": "white",
            "showbackground": true,
            "ticks": "",
            "zerolinecolor": "white"
           },
           "zaxis": {
            "backgroundcolor": "#E5ECF6",
            "gridcolor": "white",
            "gridwidth": 2,
            "linecolor": "white",
            "showbackground": true,
            "ticks": "",
            "zerolinecolor": "white"
           }
          },
          "shapedefaults": {
           "line": {
            "color": "#2a3f5f"
           }
          },
          "ternary": {
           "aaxis": {
            "gridcolor": "white",
            "linecolor": "white",
            "ticks": ""
           },
           "baxis": {
            "gridcolor": "white",
            "linecolor": "white",
            "ticks": ""
           },
           "bgcolor": "#E5ECF6",
           "caxis": {
            "gridcolor": "white",
            "linecolor": "white",
            "ticks": ""
           }
          },
          "title": {
           "x": 0.05
          },
          "xaxis": {
           "automargin": true,
           "gridcolor": "white",
           "linecolor": "white",
           "ticks": "",
           "title": {
            "standoff": 15
           },
           "zerolinecolor": "white",
           "zerolinewidth": 2
          },
          "yaxis": {
           "automargin": true,
           "gridcolor": "white",
           "linecolor": "white",
           "ticks": "",
           "title": {
            "standoff": 15
           },
           "zerolinecolor": "white",
           "zerolinewidth": 2
          }
         }
        }
       }
      },
      "image/png": "[encoded data removed]",
      "text/html": [
       "<div>                            <div id=\"6200ecf7-deb1-4857-bda7-47a6c36def7e\" class=\"plotly-graph-div\" style=\"height:525px; width:100%;\"></div>            <script type=\"text/javascript\">                require([\"plotly\"], function(Plotly) {                    window.PLOTLYENV=window.PLOTLYENV || {};                                    if (document.getElementById(\"6200ecf7-deb1-4857-bda7-47a6c36def7e\")) {                    Plotly.newPlot(                        \"6200ecf7-deb1-4857-bda7-47a6c36def7e\",                        [{\"hovertemplate\":\"r=%{r}<br>theta=%{theta}<extra></extra>\",\"legendgroup\":\"\",\"line\":{\"color\":\"#636efa\",\"dash\":\"solid\"},\"marker\":{\"symbol\":\"circle\"},\"mode\":\"lines\",\"name\":\"\",\"r\":[32097.43,7168.76,10676.83,32097.43],\"showlegend\":false,\"subplot\":\"polar\",\"theta\":[\"tier 1 hospital\",\"tier 2 hospital\",\"tier 3 hospital\",\"tier 1 hospital\"],\"type\":\"scatterpolar\",\"fill\":\"toself\"}],                        {\"template\":{\"data\":{\"histogram2dcontour\":[{\"type\":\"histogram2dcontour\",\"colorbar\":{\"outlinewidth\":0,\"ticks\":\"\"},\"colorscale\":[[0.0,\"#0d0887\"],[0.1111111111111111,\"#46039f\"],[0.2222222222222222,\"#7201a8\"],[0.3333333333333333,\"#9c179e\"],[0.4444444444444444,\"#bd3786\"],[0.5555555555555556,\"#d8576b\"],[0.6666666666666666,\"#ed7953\"],[0.7777777777777778,\"#fb9f3a\"],[0.8888888888888888,\"#fdca26\"],[1.0,\"#f0f921\"]]}],\"choropleth\":[{\"type\":\"choropleth\",\"colorbar\":{\"outlinewidth\":0,\"ticks\":\"\"}}],\"histogram2d\":[{\"type\":\"histogram2d\",\"colorbar\":{\"outlinewidth\":0,\"ticks\":\"\"},\"colorscale\":[[0.0,\"#0d0887\"],[0.1111111111111111,\"#46039f\"],[0.2222222222222222,\"#7201a8\"],[0.3333333333333333,\"#9c179e\"],[0.4444444444444444,\"#bd3786\"],[0.5555555555555556,\"#d8576b\"],[0.6666666666666666,\"#ed7953\"],[0.7777777777777778,\"#fb9f3a\"],[0.8888888888888888,\"#fdca26\"],[1.0,\"#f0f921\"]]}],\"heatmap\":[{\"type\":\"heatmap\",\"colorbar\":{\"outlinewidth\":0,\"ticks\":\"\"},\"colorscale\":[[0.0,\"#0d0887\"],[0.1111111111111111,\"#46039f\"],[0.2222222222222222,\"#7201a8\"],[0.3333333333333333,\"#9c179e\"],[0.4444444444444444,\"#bd3786\"],[0.5555555555555556,\"#d8576b\"],[0.6666666666666666,\"#ed7953\"],[0.7777777777777778,\"#fb9f3a\"],[0.8888888888888888,\"#fdca26\"],[1.0,\"#f0f921\"]]}],\"heatmapgl\":[{\"type\":\"heatmapgl\",\"colorbar\":{\"outlinewidth\":0,\"ticks\":\"\"},\"colorscale\":[[0.0,\"#0d0887\"],[0.1111111111111111,\"#46039f\"],[0.2222222222222222,\"#7201a8\"],[0.3333333333333333,\"#9c179e\"],[0.4444444444444444,\"#bd3786\"],[0.5555555555555556,\"#d8576b\"],[0.6666666666666666,\"#ed7953\"],[0.7777777777777778,\"#fb9f3a\"],[0.8888888888888888,\"#fdca26\"],[1.0,\"#f0f921\"]]}],\"contourcarpet\":[{\"type\":\"contourcarpet\",\"colorbar\":{\"outlinewidth\":0,\"ticks\":\"\"}}],\"contour\":[{\"type\":\"contour\",\"colorbar\":{\"outlinewidth\":0,\"ticks\":\"\"},\"colorscale\":[[0.0,\"#0d0887\"],[0.1111111111111111,\"#46039f\"],[0.2222222222222222,\"#7201a8\"],[0.3333333333333333,\"#9c179e\"],[0.4444444444444444,\"#bd3786\"],[0.5555555555555556,\"#d8576b\"],[0.6666666666666666,\"#ed7953\"],[0.7777777777777778,\"#fb9f3a\"],[0.8888888888888888,\"#fdca26\"],[1.0,\"#f0f921\"]]}],\"surface\":[{\"type\":\"surface\",\"colorbar\":{\"outlinewidth\":0,\"ticks\":\"\"},\"colorscale\":[[0.0,\"#0d0887\"],[0.1111111111111111,\"#46039f\"],[0.2222222222222222,\"#7201a8\"],[0.3333333333333333,\"#9c179e\"],[0.4444444444444444,\"#bd3786\"],[0.5555555555555556,\"#d8576b\"],[0.6666666666666666,\"#ed7953\"],[0.7777777777777778,\"#fb9f3a\"],[0.8888888888888888,\"#fdca26\"],[1.0,\"#f0f921\"]]}],\"mesh3d\":[{\"type\":\"mesh3d\",\"colorbar\":{\"outlinewidth\":0,\"ticks\":\"\"}}],\"scatter\":[{\"fillpattern\":{\"fillmode\":\"overlay\",\"size\":10,\"solidity\":0.2},\"type\":\"scatter\"}],\"parcoords\":[{\"type\":\"parcoords\",\"line\":{\"colorbar\":{\"outlinewidth\":0,\"ticks\":\"\"}}}],\"scatterpolargl\":[{\"type\":\"scatterpolargl\",\"marker\":{\"colorbar\":{\"outlinewidth\":0,\"ticks\":\"\"}}}],\"bar\":[{\"error_x\":{\"color\":\"#2a3f5f\"},\"error_y\":{\"color\":\"#2a3f5f\"},\"marker\":{\"line\":{\"color\":\"#E5ECF6\",\"width\":0.5},\"pattern\":{\"fillmode\":\"overlay\",\"size\":10,\"solidity\":0.2}},\"type\":\"bar\"}],\"scattergeo\":[{\"type\":\"scattergeo\",\"marker\":{\"colorbar\":{\"outlinewidth\":0,\"ticks\":\"\"}}}],\"scatterpolar\":[{\"type\":\"scatterpolar\",\"marker\":{\"colorbar\":{\"outlinewidth\":0,\"ticks\":\"\"}}}],\"histogram\":[{\"marker\":{\"pattern\":{\"fillmode\":\"overlay\",\"size\":10,\"solidity\":0.2}},\"type\":\"histogram\"}],\"scattergl\":[{\"type\":\"scattergl\",\"marker\":{\"colorbar\":{\"outlinewidth\":0,\"ticks\":\"\"}}}],\"scatter3d\":[{\"type\":\"scatter3d\",\"line\":{\"colorbar\":{\"outlinewidth\":0,\"ticks\":\"\"}},\"marker\":{\"colorbar\":{\"outlinewidth\":0,\"ticks\":\"\"}}}],\"scattermapbox\":[{\"type\":\"scattermapbox\",\"marker\":{\"colorbar\":{\"outlinewidth\":0,\"ticks\":\"\"}}}],\"scatterternary\":[{\"type\":\"scatterternary\",\"marker\":{\"colorbar\":{\"outlinewidth\":0,\"ticks\":\"\"}}}],\"scattercarpet\":[{\"type\":\"scattercarpet\",\"marker\":{\"colorbar\":{\"outlinewidth\":0,\"ticks\":\"\"}}}],\"carpet\":[{\"aaxis\":{\"endlinecolor\":\"#2a3f5f\",\"gridcolor\":\"white\",\"linecolor\":\"white\",\"minorgridcolor\":\"white\",\"startlinecolor\":\"#2a3f5f\"},\"baxis\":{\"endlinecolor\":\"#2a3f5f\",\"gridcolor\":\"white\",\"linecolor\":\"white\",\"minorgridcolor\":\"white\",\"startlinecolor\":\"#2a3f5f\"},\"type\":\"carpet\"}],\"table\":[{\"cells\":{\"fill\":{\"color\":\"#EBF0F8\"},\"line\":{\"color\":\"white\"}},\"header\":{\"fill\":{\"color\":\"#C8D4E3\"},\"line\":{\"color\":\"white\"}},\"type\":\"table\"}],\"barpolar\":[{\"marker\":{\"line\":{\"color\":\"#E5ECF6\",\"width\":0.5},\"pattern\":{\"fillmode\":\"overlay\",\"size\":10,\"solidity\":0.2}},\"type\":\"barpolar\"}],\"pie\":[{\"automargin\":true,\"type\":\"pie\"}]},\"layout\":{\"autotypenumbers\":\"strict\",\"colorway\":[\"#636efa\",\"#EF553B\",\"#00cc96\",\"#ab63fa\",\"#FFA15A\",\"#19d3f3\",\"#FF6692\",\"#B6E880\",\"#FF97FF\",\"#FECB52\"],\"font\":{\"color\":\"#2a3f5f\"},\"hovermode\":\"closest\",\"hoverlabel\":{\"align\":\"left\"},\"paper_bgcolor\":\"white\",\"plot_bgcolor\":\"#E5ECF6\",\"polar\":{\"bgcolor\":\"#E5ECF6\",\"angularaxis\":{\"gridcolor\":\"white\",\"linecolor\":\"white\",\"ticks\":\"\"},\"radialaxis\":{\"gridcolor\":\"white\",\"linecolor\":\"white\",\"ticks\":\"\"}},\"ternary\":{\"bgcolor\":\"#E5ECF6\",\"aaxis\":{\"gridcolor\":\"white\",\"linecolor\":\"white\",\"ticks\":\"\"},\"baxis\":{\"gridcolor\":\"white\",\"linecolor\":\"white\",\"ticks\":\"\"},\"caxis\":{\"gridcolor\":\"white\",\"linecolor\":\"white\",\"ticks\":\"\"}},\"coloraxis\":{\"colorbar\":{\"outlinewidth\":0,\"ticks\":\"\"}},\"colorscale\":{\"sequential\":[[0.0,\"#0d0887\"],[0.1111111111111111,\"#46039f\"],[0.2222222222222222,\"#7201a8\"],[0.3333333333333333,\"#9c179e\"],[0.4444444444444444,\"#bd3786\"],[0.5555555555555556,\"#d8576b\"],[0.6666666666666666,\"#ed7953\"],[0.7777777777777778,\"#fb9f3a\"],[0.8888888888888888,\"#fdca26\"],[1.0,\"#f0f921\"]],\"sequentialminus\":[[0.0,\"#0d0887\"],[0.1111111111111111,\"#46039f\"],[0.2222222222222222,\"#7201a8\"],[0.3333333333333333,\"#9c179e\"],[0.4444444444444444,\"#bd3786\"],[0.5555555555555556,\"#d8576b\"],[0.6666666666666666,\"#ed7953\"],[0.7777777777777778,\"#fb9f3a\"],[0.8888888888888888,\"#fdca26\"],[1.0,\"#f0f921\"]],\"diverging\":[[0,\"#8e0152\"],[0.1,\"#c51b7d\"],[0.2,\"#de77ae\"],[0.3,\"#f1b6da\"],[0.4,\"#fde0ef\"],[0.5,\"#f7f7f7\"],[0.6,\"#e6f5d0\"],[0.7,\"#b8e186\"],[0.8,\"#7fbc41\"],[0.9,\"#4d9221\"],[1,\"#276419\"]]},\"xaxis\":{\"gridcolor\":\"white\",\"linecolor\":\"white\",\"ticks\":\"\",\"title\":{\"standoff\":15},\"zerolinecolor\":\"white\",\"automargin\":true,\"zerolinewidth\":2},\"yaxis\":{\"gridcolor\":\"white\",\"linecolor\":\"white\",\"ticks\":\"\",\"title\":{\"standoff\":15},\"zerolinecolor\":\"white\",\"automargin\":true,\"zerolinewidth\":2},\"scene\":{\"xaxis\":{\"backgroundcolor\":\"#E5ECF6\",\"gridcolor\":\"white\",\"linecolor\":\"white\",\"showbackground\":true,\"ticks\":\"\",\"zerolinecolor\":\"white\",\"gridwidth\":2},\"yaxis\":{\"backgroundcolor\":\"#E5ECF6\",\"gridcolor\":\"white\",\"linecolor\":\"white\",\"showbackground\":true,\"ticks\":\"\",\"zerolinecolor\":\"white\",\"gridwidth\":2},\"zaxis\":{\"backgroundcolor\":\"#E5ECF6\",\"gridcolor\":\"white\",\"linecolor\":\"white\",\"showbackground\":true,\"ticks\":\"\",\"zerolinecolor\":\"white\",\"gridwidth\":2}},\"shapedefaults\":{\"line\":{\"color\":\"#2a3f5f\"}},\"annotationdefaults\":{\"arrowcolor\":\"#2a3f5f\",\"arrowhead\":0,\"arrowwidth\":1},\"geo\":{\"bgcolor\":\"white\",\"landcolor\":\"#E5ECF6\",\"subunitcolor\":\"white\",\"showland\":true,\"showlakes\":true,\"lakecolor\":\"white\"},\"title\":{\"x\":0.05},\"mapbox\":{\"style\":\"light\"}}},\"polar\":{\"domain\":{\"x\":[0.0,1.0],\"y\":[0.0,1.0]},\"angularaxis\":{\"direction\":\"clockwise\",\"rotation\":90}},\"legend\":{\"tracegroupgap\":0},\"margin\":{\"t\":60}},                        {\"responsive\": true}                    ).then(function(){\n",
       "                            \n",
       "var gd = document.getElementById('6200ecf7-deb1-4857-bda7-47a6c36def7e');\n",
       "var x = new MutationObserver(function (mutations, observer) {{\n",
       "        var display = window.getComputedStyle(gd).display;\n",
       "        if (!display || display === 'none') {{\n",
       "            console.log([gd, 'removed!']);\n",
       "            Plotly.purge(gd);\n",
       "            observer.disconnect();\n",
       "        }}\n",
       "}});\n",
       "\n",
       "// Listen for the removal of the full notebook cells\n",
       "var notebookContainer = gd.closest('#notebook-container');\n",
       "if (notebookContainer) {{\n",
       "    x.observe(notebookContainer, {childList: true});\n",
       "}}\n",
       "\n",
       "// Listen for the clearing of the current output cell\n",
       "var outputEl = gd.closest('.output');\n",
       "if (outputEl) {{\n",
       "    x.observe(outputEl, {childList: true});\n",
       "}}\n",
       "\n",
       "                        })                };                });            </script>        </div>"
      ]
     },
     "metadata": {},
     "output_type": "display_data"
    }
   ],
   "source": [
    "import plotly.express as px\n",
    "fig = px.line_polar(df, r='r', theta='theta', line_close=True)\n",
    "fig.update_traces(fill='toself')\n",
    "fig.show()"
   ]
  },
  {
   "cell_type": "markdown",
   "id": "8f6b9a81",
   "metadata": {},
   "source": [
    "### 12. Create a frequency table and a stacked bar chart to visualize the count of people in the different tiers of cities and hospitals"
   ]
  },
  {
   "cell_type": "code",
   "execution_count": 227,
   "id": "1567e902",
   "metadata": {},
   "outputs": [
    {
     "data": {
      "text/plain": [
       "2    1334\n",
       "3     691\n",
       "1     300\n",
       "Name: Hospital tier, dtype: int64"
      ]
     },
     "execution_count": 227,
     "metadata": {},
     "output_type": "execute_result"
    }
   ],
   "source": [
    "# Frequency table for count of the people according to the tier of city and hospitals.\n",
    "final_df[\"Hospital tier\"].value_counts()"
   ]
  },
  {
   "cell_type": "code",
   "execution_count": 228,
   "id": "be7b6ce6",
   "metadata": {},
   "outputs": [],
   "source": [
    "city_freq = final_df[\"City tier\"].value_counts().rename_axis('City&hospital_tier').reset_index(name='city_counts')"
   ]
  },
  {
   "cell_type": "code",
   "execution_count": 229,
   "id": "9daf5e8d",
   "metadata": {},
   "outputs": [],
   "source": [
    "hospital_freq = final_df[\"Hospital tier\"].value_counts().rename_axis('City&hospital_tier').reset_index(name='hospital_counts')"
   ]
  },
  {
   "cell_type": "code",
   "execution_count": 230,
   "id": "d3f63952",
   "metadata": {},
   "outputs": [],
   "source": [
    "df = pd.merge(city_freq, hospital_freq, on = 'City&hospital_tier')"
   ]
  },
  {
   "cell_type": "code",
   "execution_count": 231,
   "id": "a8ed008f",
   "metadata": {},
   "outputs": [
    {
     "data": {
      "text/html": [
       "<div>\n",
       "<style scoped>\n",
       "    .dataframe tbody tr th:only-of-type {\n",
       "        vertical-align: middle;\n",
       "    }\n",
       "\n",
       "    .dataframe tbody tr th {\n",
       "        vertical-align: top;\n",
       "    }\n",
       "\n",
       "    .dataframe thead th {\n",
       "        text-align: right;\n",
       "    }\n",
       "</style>\n",
       "<table border=\"1\" class=\"dataframe\">\n",
       "  <thead>\n",
       "    <tr style=\"text-align: right;\">\n",
       "      <th></th>\n",
       "      <th>City&amp;hospital_tier</th>\n",
       "      <th>city_counts</th>\n",
       "      <th>hospital_counts</th>\n",
       "    </tr>\n",
       "  </thead>\n",
       "  <tbody>\n",
       "    <tr>\n",
       "      <th>0</th>\n",
       "      <td>2</td>\n",
       "      <td>807</td>\n",
       "      <td>1334</td>\n",
       "    </tr>\n",
       "    <tr>\n",
       "      <th>1</th>\n",
       "      <td>3</td>\n",
       "      <td>789</td>\n",
       "      <td>691</td>\n",
       "    </tr>\n",
       "    <tr>\n",
       "      <th>2</th>\n",
       "      <td>1</td>\n",
       "      <td>729</td>\n",
       "      <td>300</td>\n",
       "    </tr>\n",
       "  </tbody>\n",
       "</table>\n",
       "</div>"
      ],
      "text/plain": [
       "   City&hospital_tier  city_counts  hospital_counts\n",
       "0                   2          807             1334\n",
       "1                   3          789              691\n",
       "2                   1          729              300"
      ]
     },
     "execution_count": 231,
     "metadata": {},
     "output_type": "execute_result"
    }
   ],
   "source": [
    "df"
   ]
  },
  {
   "cell_type": "code",
   "execution_count": 232,
   "id": "d509073d",
   "metadata": {},
   "outputs": [
    {
     "data": {
      "image/png": "[encoded data removed]",
      "text/plain": [
       "<Figure size 640x480 with 1 Axes>"
      ]
     },
     "metadata": {},
     "output_type": "display_data"
    }
   ],
   "source": [
    "plt.bar(df[\"City&hospital_tier\"], df[\"city_counts\"], color='r')\n",
    "plt.bar(df[\"City&hospital_tier\"], df[\"hospital_counts\"], bottom=df[\"city_counts\"], color='b')\n",
    "plt.show()"
   ]
  },
  {
   "cell_type": "markdown",
   "id": "ab0039ff",
   "metadata": {},
   "source": [
    "### 13. Test the following null hypotheses:\n",
    "#### a. The average hospitalization costs for the three types of hospitals are not significantly different\n",
    "#### b. The average hospitalization costs for the three types of cities are not significantly different\n",
    "#### c. The average hospitalization cost for smokers is not significantly different from the average cost for nonsmokers\n",
    "#### d. Smoking and heart issues are independent"
   ]
  },
  {
   "cell_type": "code",
   "execution_count": 233,
   "id": "d6b7dd0c",
   "metadata": {},
   "outputs": [],
   "source": [
    "from scipy.stats import ttest_1samp"
   ]
  },
  {
   "cell_type": "code",
   "execution_count": 234,
   "id": "31e5f6c1",
   "metadata": {},
   "outputs": [
    {
     "name": "stdout",
     "output_type": "stream",
     "text": [
      "median cost of tier 1 hospitals: 32097.434999999998\n",
      "median cost of tier 2 hospitals: 7168.76\n",
      "median cost of tier 3 hospitals: 10676.83\n"
     ]
    }
   ],
   "source": [
    "# a. The average hospitalization costs for the three types of hospitals are not significantly different\n",
    "print(\"median cost of tier 1 hospitals:\", final_df[final_df[\"Hospital tier\"]==1].charges.median())\n",
    "print(\"median cost of tier 2 hospitals:\", final_df[final_df[\"Hospital tier\"]==2].charges.median())\n",
    "print(\"median cost of tier 3 hospitals:\", final_df[final_df[\"Hospital tier\"]==3].charges.median())"
   ]
  },
  {
   "cell_type": "markdown",
   "id": "c897cc4a",
   "metadata": {},
   "source": [
    "#### Interpretation\n",
    "#### H0: the distributions of all samples are equal. || H1: the distributions of one or more samples are not equal"
   ]
  },
  {
   "cell_type": "code",
   "execution_count": 235,
   "id": "dad23e87",
   "metadata": {},
   "outputs": [
    {
     "name": "stdout",
     "output_type": "stream",
     "text": [
      "stat=2.000, p=0.368\n",
      "Probably the same distribution\n"
     ]
    }
   ],
   "source": [
    "from scipy.stats import friedmanchisquare\n",
    "data1 = [32097.43]\n",
    "data2 = [7168.76]\n",
    "data3 = [10676.83]\n",
    "stat, p = friedmanchisquare(data1, data2, data3)\n",
    "print('stat=%.3f, p=%.3f' % (stat, p))\n",
    "if p > 0.05:\n",
    "    print('Probably the same distribution')\n",
    "else:\n",
    "    print('Probably different distributions')"
   ]
  },
  {
   "cell_type": "code",
   "execution_count": 236,
   "id": "b6691fa9",
   "metadata": {},
   "outputs": [
    {
     "name": "stdout",
     "output_type": "stream",
     "text": [
      "median cost of tier 1 city: 10027.15\n",
      "median cost of tier 2 city: 8968.33\n",
      "median cost of tier 3 city: 9880.07\n"
     ]
    }
   ],
   "source": [
    "# b. The average hospitalization costs for the three types of cities are not significantly different\n",
    "print(\"median cost of tier 1 city:\", final_df[final_df[\"City tier\"]==1].charges.median())\n",
    "print(\"median cost of tier 2 city:\", final_df[final_df[\"City tier\"]==2].charges.median())\n",
    "print(\"median cost of tier 3 city:\", final_df[final_df[\"City tier\"]==3].charges.median())"
   ]
  },
  {
   "cell_type": "code",
   "execution_count": 237,
   "id": "8b0f6bb3",
   "metadata": {},
   "outputs": [
    {
     "name": "stdout",
     "output_type": "stream",
     "text": [
      "stat=2.000, p=0.368\n",
      "Probably the same distribution\n"
     ]
    }
   ],
   "source": [
    "data1 = [10027.15]\n",
    "data2 = [8968.33]\n",
    "data3 = [9880.07]\n",
    "stat, p = friedmanchisquare(data1, data2, data3)\n",
    "print('stat=%.3f, p=%.3f' % (stat, p))\n",
    "if p > 0.05:\n",
    "    print('Probably the same distribution')\n",
    "else:\n",
    "    print('Probably different distributions')"
   ]
  },
  {
   "cell_type": "code",
   "execution_count": 238,
   "id": "c4fd9fff",
   "metadata": {},
   "outputs": [
    {
     "name": "stdout",
     "output_type": "stream",
     "text": [
      "median cost of smoker: 34125.475\n",
      "median cost of non smoker: 7537.16\n"
     ]
    }
   ],
   "source": [
    "# c. The average hospitalization cost for smokers is not significantly different from the average cost for nonsmokers\n",
    "print(\"median cost of smoker:\", final_df[final_df[\"smoker\"]==1].charges.median())\n",
    "print(\"median cost of non smoker:\", final_df[final_df[\"smoker\"]==0].charges.median())"
   ]
  },
  {
   "cell_type": "code",
   "execution_count": 239,
   "id": "2be3665f",
   "metadata": {},
   "outputs": [
    {
     "name": "stdout",
     "output_type": "stream",
     "text": [
      "stat=1.000, p=0.317\n",
      "Probably the same distribution\n"
     ]
    }
   ],
   "source": [
    "from scipy.stats import kruskal\n",
    "data1 = [34125.475]\n",
    "data2 = [7537.16]\n",
    "stat, p = kruskal(data1, data2)\n",
    "print('stat=%.3f, p=%.3f' % (stat, p))\n",
    "if p > 0.05:\n",
    "    print('Probably the same distribution')\n",
    "else:\n",
    "    print('Probably different distributions')"
   ]
  },
  {
   "cell_type": "markdown",
   "id": "1bc10806",
   "metadata": {},
   "source": [
    "#### Interpretation\n",
    "\n",
    "#### H0: the two samples are independent.   H1: there is a dependency between the samples."
   ]
  },
  {
   "cell_type": "code",
   "execution_count": 240,
   "id": "6661e5b8",
   "metadata": {},
   "outputs": [
    {
     "name": "stdout",
     "output_type": "stream",
     "text": [
      "stat=191.145, p=0.000\n",
      "Probably dependent\n"
     ]
    }
   ],
   "source": [
    "# d. Smoking and heart issues are independent\n",
    "from scipy.stats import chi2_contingency\n",
    "table = [[final_df[\"Heart Issues\"].value_counts()],[final_df[\"smoker\"].value_counts()]]\n",
    "stat, p, dof, expected = chi2_contingency(table)\n",
    "print('stat=%.3f, p=%.3f' % (stat, p))\n",
    "if p > 0.05:\n",
    "    print('Probably independent')\n",
    "else:\n",
    "    print('Probably dependent')"
   ]
  },
  {
   "cell_type": "markdown",
   "id": "795c5a17",
   "metadata": {},
   "source": [
    "## Project Task: Week 2"
   ]
  },
  {
   "cell_type": "markdown",
   "id": "cf40c8e8",
   "metadata": {},
   "source": [
    "### 1. Examine the correlation between predictors to identify highly correlated predictors. Use a heatmap to visualize this."
   ]
  },
  {
   "cell_type": "code",
   "execution_count": 241,
   "id": "a3becefc",
   "metadata": {},
   "outputs": [
    {
     "name": "stdout",
     "output_type": "stream",
     "text": [
      "<class 'pandas.core.frame.DataFrame'>\n",
      "Int64Index: 2325 entries, 0 to 2334\n",
      "Data columns (total 22 columns):\n",
      " #   Column                  Non-Null Count  Dtype         \n",
      "---  ------                  --------------  -----         \n",
      " 0   Customer ID             2325 non-null   object        \n",
      " 1   name                    2325 non-null   object        \n",
      " 2   year                    2325 non-null   int64         \n",
      " 3   month                   2325 non-null   int64         \n",
      " 4   date                    2325 non-null   int64         \n",
      " 5   children                2325 non-null   int64         \n",
      " 6   charges                 2325 non-null   float64       \n",
      " 7   Hospital tier           2325 non-null   int64         \n",
      " 8   City tier               2325 non-null   int64         \n",
      " 9   BMI                     2325 non-null   float64       \n",
      " 10  HBA1C                   2325 non-null   float64       \n",
      " 11  Heart Issues            2325 non-null   int32         \n",
      " 12  Any Transplants         2325 non-null   int32         \n",
      " 13  Cancer history          2325 non-null   int32         \n",
      " 14  NumberOfMajorSurgeries  2325 non-null   int32         \n",
      " 15  smoker                  2325 non-null   int32         \n",
      " 16  State_ID_R1011          2325 non-null   uint8         \n",
      " 17  State_ID_R1012          2325 non-null   uint8         \n",
      " 18  State_ID_R1013          2325 non-null   uint8         \n",
      " 19  DOB                     2325 non-null   datetime64[ns]\n",
      " 20  age                     2325 non-null   int32         \n",
      " 21  gender                  2325 non-null   int64         \n",
      "dtypes: datetime64[ns](1), float64(3), int32(6), int64(7), object(2), uint8(3)\n",
      "memory usage: 315.6+ KB\n"
     ]
    }
   ],
   "source": [
    "final_df.info()"
   ]
  },
  {
   "cell_type": "code",
   "execution_count": 242,
   "id": "a67d7203",
   "metadata": {},
   "outputs": [],
   "source": [
    "# In the data frame same of the column are not usable to model building so lets first drop all.\n",
    "#then indentify the highly corelated predictor.\n",
    "final_df.drop([\"Customer ID\",'name', 'year', 'month', 'date', 'DOB'], inplace=True, axis=1)"
   ]
  },
  {
   "cell_type": "code",
   "execution_count": 243,
   "id": "d4bba387",
   "metadata": {},
   "outputs": [
    {
     "data": {
      "text/plain": [
       "(2325, 16)"
      ]
     },
     "execution_count": 243,
     "metadata": {},
     "output_type": "execute_result"
    }
   ],
   "source": [
    "final_df.shape"
   ]
  },
  {
   "cell_type": "code",
   "execution_count": 244,
   "id": "c01c394b",
   "metadata": {},
   "outputs": [
    {
     "data": {
      "text/html": [
       "<div>\n",
       "<style scoped>\n",
       "    .dataframe tbody tr th:only-of-type {\n",
       "        vertical-align: middle;\n",
       "    }\n",
       "\n",
       "    .dataframe tbody tr th {\n",
       "        vertical-align: top;\n",
       "    }\n",
       "\n",
       "    .dataframe thead th {\n",
       "        text-align: right;\n",
       "    }\n",
       "</style>\n",
       "<table border=\"1\" class=\"dataframe\">\n",
       "  <thead>\n",
       "    <tr style=\"text-align: right;\">\n",
       "      <th></th>\n",
       "      <th>children</th>\n",
       "      <th>charges</th>\n",
       "      <th>Hospital tier</th>\n",
       "      <th>City tier</th>\n",
       "      <th>BMI</th>\n",
       "      <th>HBA1C</th>\n",
       "      <th>Heart Issues</th>\n",
       "      <th>Any Transplants</th>\n",
       "      <th>Cancer history</th>\n",
       "      <th>NumberOfMajorSurgeries</th>\n",
       "      <th>smoker</th>\n",
       "      <th>State_ID_R1011</th>\n",
       "      <th>State_ID_R1012</th>\n",
       "      <th>State_ID_R1013</th>\n",
       "      <th>age</th>\n",
       "      <th>gender</th>\n",
       "    </tr>\n",
       "  </thead>\n",
       "  <tbody>\n",
       "    <tr>\n",
       "      <th>0</th>\n",
       "      <td>0</td>\n",
       "      <td>63770.43</td>\n",
       "      <td>1</td>\n",
       "      <td>3</td>\n",
       "      <td>47.410</td>\n",
       "      <td>7.47</td>\n",
       "      <td>0</td>\n",
       "      <td>0</td>\n",
       "      <td>0</td>\n",
       "      <td>0</td>\n",
       "      <td>1</td>\n",
       "      <td>0</td>\n",
       "      <td>0</td>\n",
       "      <td>1</td>\n",
       "      <td>54</td>\n",
       "      <td>0</td>\n",
       "    </tr>\n",
       "    <tr>\n",
       "      <th>1</th>\n",
       "      <td>0</td>\n",
       "      <td>62592.87</td>\n",
       "      <td>2</td>\n",
       "      <td>3</td>\n",
       "      <td>30.360</td>\n",
       "      <td>5.77</td>\n",
       "      <td>0</td>\n",
       "      <td>0</td>\n",
       "      <td>0</td>\n",
       "      <td>0</td>\n",
       "      <td>1</td>\n",
       "      <td>0</td>\n",
       "      <td>0</td>\n",
       "      <td>1</td>\n",
       "      <td>45</td>\n",
       "      <td>1</td>\n",
       "    </tr>\n",
       "    <tr>\n",
       "      <th>3</th>\n",
       "      <td>1</td>\n",
       "      <td>58571.07</td>\n",
       "      <td>1</td>\n",
       "      <td>3</td>\n",
       "      <td>38.095</td>\n",
       "      <td>6.05</td>\n",
       "      <td>0</td>\n",
       "      <td>0</td>\n",
       "      <td>0</td>\n",
       "      <td>0</td>\n",
       "      <td>1</td>\n",
       "      <td>0</td>\n",
       "      <td>0</td>\n",
       "      <td>0</td>\n",
       "      <td>31</td>\n",
       "      <td>0</td>\n",
       "    </tr>\n",
       "    <tr>\n",
       "      <th>4</th>\n",
       "      <td>0</td>\n",
       "      <td>55135.40</td>\n",
       "      <td>1</td>\n",
       "      <td>2</td>\n",
       "      <td>35.530</td>\n",
       "      <td>5.45</td>\n",
       "      <td>0</td>\n",
       "      <td>0</td>\n",
       "      <td>0</td>\n",
       "      <td>0</td>\n",
       "      <td>1</td>\n",
       "      <td>0</td>\n",
       "      <td>1</td>\n",
       "      <td>0</td>\n",
       "      <td>33</td>\n",
       "      <td>0</td>\n",
       "    </tr>\n",
       "    <tr>\n",
       "      <th>5</th>\n",
       "      <td>0</td>\n",
       "      <td>52590.83</td>\n",
       "      <td>1</td>\n",
       "      <td>3</td>\n",
       "      <td>32.800</td>\n",
       "      <td>6.59</td>\n",
       "      <td>0</td>\n",
       "      <td>0</td>\n",
       "      <td>0</td>\n",
       "      <td>0</td>\n",
       "      <td>1</td>\n",
       "      <td>1</td>\n",
       "      <td>0</td>\n",
       "      <td>0</td>\n",
       "      <td>60</td>\n",
       "      <td>1</td>\n",
       "    </tr>\n",
       "  </tbody>\n",
       "</table>\n",
       "</div>"
      ],
      "text/plain": [
       "   children   charges  Hospital tier  City tier     BMI  HBA1C  Heart Issues  \\\n",
       "0         0  63770.43              1          3  47.410   7.47             0   \n",
       "1         0  62592.87              2          3  30.360   5.77             0   \n",
       "3         1  58571.07              1          3  38.095   6.05             0   \n",
       "4         0  55135.40              1          2  35.530   5.45             0   \n",
       "5         0  52590.83              1          3  32.800   6.59             0   \n",
       "\n",
       "   Any Transplants  Cancer history  NumberOfMajorSurgeries  smoker  \\\n",
       "0                0               0                       0       1   \n",
       "1                0               0                       0       1   \n",
       "3                0               0                       0       1   \n",
       "4                0               0                       0       1   \n",
       "5                0               0                       0       1   \n",
       "\n",
       "   State_ID_R1011  State_ID_R1012  State_ID_R1013  age  gender  \n",
       "0               0               0               1   54       0  \n",
       "1               0               0               1   45       1  \n",
       "3               0               0               0   31       0  \n",
       "4               0               1               0   33       0  \n",
       "5               1               0               0   60       1  "
      ]
     },
     "execution_count": 244,
     "metadata": {},
     "output_type": "execute_result"
    }
   ],
   "source": [
    "final_df.head()"
   ]
  },
  {
   "cell_type": "code",
   "execution_count": 245,
   "id": "c698e3f6",
   "metadata": {},
   "outputs": [
    {
     "data": {
      "text/html": [
       "<div>\n",
       "<style scoped>\n",
       "    .dataframe tbody tr th:only-of-type {\n",
       "        vertical-align: middle;\n",
       "    }\n",
       "\n",
       "    .dataframe tbody tr th {\n",
       "        vertical-align: top;\n",
       "    }\n",
       "\n",
       "    .dataframe thead th {\n",
       "        text-align: right;\n",
       "    }\n",
       "</style>\n",
       "<table border=\"1\" class=\"dataframe\">\n",
       "  <thead>\n",
       "    <tr style=\"text-align: right;\">\n",
       "      <th></th>\n",
       "      <th>children</th>\n",
       "      <th>charges</th>\n",
       "      <th>Hospital tier</th>\n",
       "      <th>City tier</th>\n",
       "      <th>BMI</th>\n",
       "      <th>HBA1C</th>\n",
       "      <th>Heart Issues</th>\n",
       "      <th>Any Transplants</th>\n",
       "      <th>Cancer history</th>\n",
       "      <th>NumberOfMajorSurgeries</th>\n",
       "      <th>smoker</th>\n",
       "      <th>State_ID_R1011</th>\n",
       "      <th>State_ID_R1012</th>\n",
       "      <th>State_ID_R1013</th>\n",
       "      <th>age</th>\n",
       "      <th>gender</th>\n",
       "    </tr>\n",
       "  </thead>\n",
       "  <tbody>\n",
       "    <tr>\n",
       "      <th>children</th>\n",
       "      <td>1.000000</td>\n",
       "      <td>0.055901</td>\n",
       "      <td>-0.052438</td>\n",
       "      <td>-0.015760</td>\n",
       "      <td>-0.005339</td>\n",
       "      <td>-0.101379</td>\n",
       "      <td>0.023984</td>\n",
       "      <td>-0.142040</td>\n",
       "      <td>-0.027880</td>\n",
       "      <td>-0.113161</td>\n",
       "      <td>0.017713</td>\n",
       "      <td>0.011666</td>\n",
       "      <td>0.005247</td>\n",
       "      <td>-0.013834</td>\n",
       "      <td>-0.005457</td>\n",
       "      <td>0.011205</td>\n",
       "    </tr>\n",
       "    <tr>\n",
       "      <th>charges</th>\n",
       "      <td>0.055901</td>\n",
       "      <td>1.000000</td>\n",
       "      <td>-0.446687</td>\n",
       "      <td>0.035300</td>\n",
       "      <td>0.346730</td>\n",
       "      <td>0.139697</td>\n",
       "      <td>0.049299</td>\n",
       "      <td>-0.127028</td>\n",
       "      <td>-0.022522</td>\n",
       "      <td>0.053308</td>\n",
       "      <td>0.838462</td>\n",
       "      <td>0.286956</td>\n",
       "      <td>-0.074636</td>\n",
       "      <td>-0.150634</td>\n",
       "      <td>0.304395</td>\n",
       "      <td>0.034069</td>\n",
       "    </tr>\n",
       "    <tr>\n",
       "      <th>Hospital tier</th>\n",
       "      <td>-0.052438</td>\n",
       "      <td>-0.446687</td>\n",
       "      <td>1.000000</td>\n",
       "      <td>-0.039755</td>\n",
       "      <td>-0.104771</td>\n",
       "      <td>0.057855</td>\n",
       "      <td>0.053376</td>\n",
       "      <td>0.011729</td>\n",
       "      <td>-0.021429</td>\n",
       "      <td>0.033230</td>\n",
       "      <td>-0.474077</td>\n",
       "      <td>-0.114685</td>\n",
       "      <td>0.020272</td>\n",
       "      <td>0.002455</td>\n",
       "      <td>0.133771</td>\n",
       "      <td>0.041261</td>\n",
       "    </tr>\n",
       "    <tr>\n",
       "      <th>City tier</th>\n",
       "      <td>-0.015760</td>\n",
       "      <td>0.035300</td>\n",
       "      <td>-0.039755</td>\n",
       "      <td>1.000000</td>\n",
       "      <td>0.038123</td>\n",
       "      <td>-0.005404</td>\n",
       "      <td>0.023152</td>\n",
       "      <td>0.002970</td>\n",
       "      <td>-0.018639</td>\n",
       "      <td>0.027937</td>\n",
       "      <td>0.032034</td>\n",
       "      <td>0.036049</td>\n",
       "      <td>-0.018253</td>\n",
       "      <td>0.002766</td>\n",
       "      <td>-0.008070</td>\n",
       "      <td>0.054073</td>\n",
       "    </tr>\n",
       "    <tr>\n",
       "      <th>BMI</th>\n",
       "      <td>-0.005339</td>\n",
       "      <td>0.346730</td>\n",
       "      <td>-0.104771</td>\n",
       "      <td>0.038123</td>\n",
       "      <td>1.000000</td>\n",
       "      <td>-0.006920</td>\n",
       "      <td>0.017129</td>\n",
       "      <td>0.015893</td>\n",
       "      <td>-0.020235</td>\n",
       "      <td>0.018851</td>\n",
       "      <td>0.107126</td>\n",
       "      <td>0.115671</td>\n",
       "      <td>0.017939</td>\n",
       "      <td>-0.208744</td>\n",
       "      <td>0.049260</td>\n",
       "      <td>0.079930</td>\n",
       "    </tr>\n",
       "    <tr>\n",
       "      <th>HBA1C</th>\n",
       "      <td>-0.101379</td>\n",
       "      <td>0.139697</td>\n",
       "      <td>0.057855</td>\n",
       "      <td>-0.005404</td>\n",
       "      <td>-0.006920</td>\n",
       "      <td>1.000000</td>\n",
       "      <td>0.007699</td>\n",
       "      <td>-0.159855</td>\n",
       "      <td>-0.170921</td>\n",
       "      <td>-0.091594</td>\n",
       "      <td>0.007257</td>\n",
       "      <td>0.015525</td>\n",
       "      <td>-0.019513</td>\n",
       "      <td>0.033453</td>\n",
       "      <td>0.460558</td>\n",
       "      <td>-0.027339</td>\n",
       "    </tr>\n",
       "    <tr>\n",
       "      <th>Heart Issues</th>\n",
       "      <td>0.023984</td>\n",
       "      <td>0.049299</td>\n",
       "      <td>0.053376</td>\n",
       "      <td>0.023152</td>\n",
       "      <td>0.017129</td>\n",
       "      <td>0.007699</td>\n",
       "      <td>1.000000</td>\n",
       "      <td>-0.140269</td>\n",
       "      <td>0.111190</td>\n",
       "      <td>0.206147</td>\n",
       "      <td>-0.007159</td>\n",
       "      <td>0.005852</td>\n",
       "      <td>0.021770</td>\n",
       "      <td>-0.027967</td>\n",
       "      <td>0.192273</td>\n",
       "      <td>0.010277</td>\n",
       "    </tr>\n",
       "    <tr>\n",
       "      <th>Any Transplants</th>\n",
       "      <td>-0.142040</td>\n",
       "      <td>-0.127028</td>\n",
       "      <td>0.011729</td>\n",
       "      <td>0.002970</td>\n",
       "      <td>0.015893</td>\n",
       "      <td>-0.159855</td>\n",
       "      <td>-0.140269</td>\n",
       "      <td>1.000000</td>\n",
       "      <td>-0.114677</td>\n",
       "      <td>0.158593</td>\n",
       "      <td>-0.025101</td>\n",
       "      <td>-0.058553</td>\n",
       "      <td>-0.066453</td>\n",
       "      <td>0.064563</td>\n",
       "      <td>-0.381084</td>\n",
       "      <td>-0.012737</td>\n",
       "    </tr>\n",
       "    <tr>\n",
       "      <th>Cancer history</th>\n",
       "      <td>-0.027880</td>\n",
       "      <td>-0.022522</td>\n",
       "      <td>-0.021429</td>\n",
       "      <td>-0.018639</td>\n",
       "      <td>-0.020235</td>\n",
       "      <td>-0.170921</td>\n",
       "      <td>0.111190</td>\n",
       "      <td>-0.114677</td>\n",
       "      <td>1.000000</td>\n",
       "      <td>0.204208</td>\n",
       "      <td>0.006415</td>\n",
       "      <td>0.011919</td>\n",
       "      <td>0.058222</td>\n",
       "      <td>-0.066475</td>\n",
       "      <td>-0.101073</td>\n",
       "      <td>0.009359</td>\n",
       "    </tr>\n",
       "    <tr>\n",
       "      <th>NumberOfMajorSurgeries</th>\n",
       "      <td>-0.113161</td>\n",
       "      <td>0.053308</td>\n",
       "      <td>0.033230</td>\n",
       "      <td>0.027937</td>\n",
       "      <td>0.018851</td>\n",
       "      <td>-0.091594</td>\n",
       "      <td>0.206147</td>\n",
       "      <td>0.158593</td>\n",
       "      <td>0.204208</td>\n",
       "      <td>1.000000</td>\n",
       "      <td>0.017199</td>\n",
       "      <td>0.000208</td>\n",
       "      <td>-0.002098</td>\n",
       "      <td>-0.002056</td>\n",
       "      <td>0.151442</td>\n",
       "      <td>-0.003349</td>\n",
       "    </tr>\n",
       "    <tr>\n",
       "      <th>smoker</th>\n",
       "      <td>0.017713</td>\n",
       "      <td>0.838462</td>\n",
       "      <td>-0.474077</td>\n",
       "      <td>0.032034</td>\n",
       "      <td>0.107126</td>\n",
       "      <td>0.007257</td>\n",
       "      <td>-0.007159</td>\n",
       "      <td>-0.025101</td>\n",
       "      <td>0.006415</td>\n",
       "      <td>0.017199</td>\n",
       "      <td>1.000000</td>\n",
       "      <td>0.336112</td>\n",
       "      <td>-0.106998</td>\n",
       "      <td>-0.094547</td>\n",
       "      <td>0.011939</td>\n",
       "      <td>0.020968</td>\n",
       "    </tr>\n",
       "    <tr>\n",
       "      <th>State_ID_R1011</th>\n",
       "      <td>0.011666</td>\n",
       "      <td>0.286956</td>\n",
       "      <td>-0.114685</td>\n",
       "      <td>0.036049</td>\n",
       "      <td>0.115671</td>\n",
       "      <td>0.015525</td>\n",
       "      <td>0.005852</td>\n",
       "      <td>-0.058553</td>\n",
       "      <td>0.011919</td>\n",
       "      <td>0.000208</td>\n",
       "      <td>0.336112</td>\n",
       "      <td>1.000000</td>\n",
       "      <td>-0.327054</td>\n",
       "      <td>-0.341085</td>\n",
       "      <td>0.008022</td>\n",
       "      <td>-0.075234</td>\n",
       "    </tr>\n",
       "    <tr>\n",
       "      <th>State_ID_R1012</th>\n",
       "      <td>0.005247</td>\n",
       "      <td>-0.074636</td>\n",
       "      <td>0.020272</td>\n",
       "      <td>-0.018253</td>\n",
       "      <td>0.017939</td>\n",
       "      <td>-0.019513</td>\n",
       "      <td>0.021770</td>\n",
       "      <td>-0.066453</td>\n",
       "      <td>0.058222</td>\n",
       "      <td>-0.002098</td>\n",
       "      <td>-0.106998</td>\n",
       "      <td>-0.327054</td>\n",
       "      <td>1.000000</td>\n",
       "      <td>-0.340296</td>\n",
       "      <td>-0.005229</td>\n",
       "      <td>-0.077093</td>\n",
       "    </tr>\n",
       "    <tr>\n",
       "      <th>State_ID_R1013</th>\n",
       "      <td>-0.013834</td>\n",
       "      <td>-0.150634</td>\n",
       "      <td>0.002455</td>\n",
       "      <td>0.002766</td>\n",
       "      <td>-0.208744</td>\n",
       "      <td>0.033453</td>\n",
       "      <td>-0.027967</td>\n",
       "      <td>0.064563</td>\n",
       "      <td>-0.066475</td>\n",
       "      <td>-0.002056</td>\n",
       "      <td>-0.094547</td>\n",
       "      <td>-0.341085</td>\n",
       "      <td>-0.340296</td>\n",
       "      <td>1.000000</td>\n",
       "      <td>-0.011926</td>\n",
       "      <td>-0.029639</td>\n",
       "    </tr>\n",
       "    <tr>\n",
       "      <th>age</th>\n",
       "      <td>-0.005457</td>\n",
       "      <td>0.304395</td>\n",
       "      <td>0.133771</td>\n",
       "      <td>-0.008070</td>\n",
       "      <td>0.049260</td>\n",
       "      <td>0.460558</td>\n",
       "      <td>0.192273</td>\n",
       "      <td>-0.381084</td>\n",
       "      <td>-0.101073</td>\n",
       "      <td>0.151442</td>\n",
       "      <td>0.011939</td>\n",
       "      <td>0.008022</td>\n",
       "      <td>-0.005229</td>\n",
       "      <td>-0.011926</td>\n",
       "      <td>1.000000</td>\n",
       "      <td>-0.007350</td>\n",
       "    </tr>\n",
       "    <tr>\n",
       "      <th>gender</th>\n",
       "      <td>0.011205</td>\n",
       "      <td>0.034069</td>\n",
       "      <td>0.041261</td>\n",
       "      <td>0.054073</td>\n",
       "      <td>0.079930</td>\n",
       "      <td>-0.027339</td>\n",
       "      <td>0.010277</td>\n",
       "      <td>-0.012737</td>\n",
       "      <td>0.009359</td>\n",
       "      <td>-0.003349</td>\n",
       "      <td>0.020968</td>\n",
       "      <td>-0.075234</td>\n",
       "      <td>-0.077093</td>\n",
       "      <td>-0.029639</td>\n",
       "      <td>-0.007350</td>\n",
       "      <td>1.000000</td>\n",
       "    </tr>\n",
       "  </tbody>\n",
       "</table>\n",
       "</div>"
      ],
      "text/plain": [
       "                        children   charges  Hospital tier  City tier  \\\n",
       "children                1.000000  0.055901      -0.052438  -0.015760   \n",
       "charges                 0.055901  1.000000      -0.446687   0.035300   \n",
       "Hospital tier          -0.052438 -0.446687       1.000000  -0.039755   \n",
       "City tier              -0.015760  0.035300      -0.039755   1.000000   \n",
       "BMI                    -0.005339  0.346730      -0.104771   0.038123   \n",
       "HBA1C                  -0.101379  0.139697       0.057855  -0.005404   \n",
       "Heart Issues            0.023984  0.049299       0.053376   0.023152   \n",
       "Any Transplants        -0.142040 -0.127028       0.011729   0.002970   \n",
       "Cancer history         -0.027880 -0.022522      -0.021429  -0.018639   \n",
       "NumberOfMajorSurgeries -0.113161  0.053308       0.033230   0.027937   \n",
       "smoker                  0.017713  0.838462      -0.474077   0.032034   \n",
       "State_ID_R1011          0.011666  0.286956      -0.114685   0.036049   \n",
       "State_ID_R1012          0.005247 -0.074636       0.020272  -0.018253   \n",
       "State_ID_R1013         -0.013834 -0.150634       0.002455   0.002766   \n",
       "age                    -0.005457  0.304395       0.133771  -0.008070   \n",
       "gender                  0.011205  0.034069       0.041261   0.054073   \n",
       "\n",
       "                             BMI     HBA1C  Heart Issues  Any Transplants  \\\n",
       "children               -0.005339 -0.101379      0.023984        -0.142040   \n",
       "charges                 0.346730  0.139697      0.049299        -0.127028   \n",
       "Hospital tier          -0.104771  0.057855      0.053376         0.011729   \n",
       "City tier               0.038123 -0.005404      0.023152         0.002970   \n",
       "BMI                     1.000000 -0.006920      0.017129         0.015893   \n",
       "HBA1C                  -0.006920  1.000000      0.007699        -0.159855   \n",
       "Heart Issues            0.017129  0.007699      1.000000        -0.140269   \n",
       "Any Transplants         0.015893 -0.159855     -0.140269         1.000000   \n",
       "Cancer history         -0.020235 -0.170921      0.111190        -0.114677   \n",
       "NumberOfMajorSurgeries  0.018851 -0.091594      0.206147         0.158593   \n",
       "smoker                  0.107126  0.007257     -0.007159        -0.025101   \n",
       "State_ID_R1011          0.115671  0.015525      0.005852        -0.058553   \n",
       "State_ID_R1012          0.017939 -0.019513      0.021770        -0.066453   \n",
       "State_ID_R1013         -0.208744  0.033453     -0.027967         0.064563   \n",
       "age                     0.049260  0.460558      0.192273        -0.381084   \n",
       "gender                  0.079930 -0.027339      0.010277        -0.012737   \n",
       "\n",
       "                        Cancer history  NumberOfMajorSurgeries    smoker  \\\n",
       "children                     -0.027880               -0.113161  0.017713   \n",
       "charges                      -0.022522                0.053308  0.838462   \n",
       "Hospital tier                -0.021429                0.033230 -0.474077   \n",
       "City tier                    -0.018639                0.027937  0.032034   \n",
       "BMI                          -0.020235                0.018851  0.107126   \n",
       "HBA1C                        -0.170921               -0.091594  0.007257   \n",
       "Heart Issues                  0.111190                0.206147 -0.007159   \n",
       "Any Transplants              -0.114677                0.158593 -0.025101   \n",
       "Cancer history                1.000000                0.204208  0.006415   \n",
       "NumberOfMajorSurgeries        0.204208                1.000000  0.017199   \n",
       "smoker                        0.006415                0.017199  1.000000   \n",
       "State_ID_R1011                0.011919                0.000208  0.336112   \n",
       "State_ID_R1012                0.058222               -0.002098 -0.106998   \n",
       "State_ID_R1013               -0.066475               -0.002056 -0.094547   \n",
       "age                          -0.101073                0.151442  0.011939   \n",
       "gender                        0.009359               -0.003349  0.020968   \n",
       "\n",
       "                        State_ID_R1011  State_ID_R1012  State_ID_R1013  \\\n",
       "children                      0.011666        0.005247       -0.013834   \n",
       "charges                       0.286956       -0.074636       -0.150634   \n",
       "Hospital tier                -0.114685        0.020272        0.002455   \n",
       "City tier                     0.036049       -0.018253        0.002766   \n",
       "BMI                           0.115671        0.017939       -0.208744   \n",
       "HBA1C                         0.015525       -0.019513        0.033453   \n",
       "Heart Issues                  0.005852        0.021770       -0.027967   \n",
       "Any Transplants              -0.058553       -0.066453        0.064563   \n",
       "Cancer history                0.011919        0.058222       -0.066475   \n",
       "NumberOfMajorSurgeries        0.000208       -0.002098       -0.002056   \n",
       "smoker                        0.336112       -0.106998       -0.094547   \n",
       "State_ID_R1011                1.000000       -0.327054       -0.341085   \n",
       "State_ID_R1012               -0.327054        1.000000       -0.340296   \n",
       "State_ID_R1013               -0.341085       -0.340296        1.000000   \n",
       "age                           0.008022       -0.005229       -0.011926   \n",
       "gender                       -0.075234       -0.077093       -0.029639   \n",
       "\n",
       "                             age    gender  \n",
       "children               -0.005457  0.011205  \n",
       "charges                 0.304395  0.034069  \n",
       "Hospital tier           0.133771  0.041261  \n",
       "City tier              -0.008070  0.054073  \n",
       "BMI                     0.049260  0.079930  \n",
       "HBA1C                   0.460558 -0.027339  \n",
       "Heart Issues            0.192273  0.010277  \n",
       "Any Transplants        -0.381084 -0.012737  \n",
       "Cancer history         -0.101073  0.009359  \n",
       "NumberOfMajorSurgeries  0.151442 -0.003349  \n",
       "smoker                  0.011939  0.020968  \n",
       "State_ID_R1011          0.008022 -0.075234  \n",
       "State_ID_R1012         -0.005229 -0.077093  \n",
       "State_ID_R1013         -0.011926 -0.029639  \n",
       "age                     1.000000 -0.007350  \n",
       "gender                 -0.007350  1.000000  "
      ]
     },
     "execution_count": 245,
     "metadata": {},
     "output_type": "execute_result"
    }
   ],
   "source": [
    "corr = final_df.corr()\n",
    "corr"
   ]
  },
  {
   "cell_type": "code",
   "execution_count": 246,
   "id": "093ab5b8",
   "metadata": {},
   "outputs": [
    {
     "data": {
      "image/png": "[encoded data removed]",
      "text/plain": [
       "<Figure size 1500x1000 with 2 Axes>"
      ]
     },
     "metadata": {},
     "output_type": "display_data"
    }
   ],
   "source": [
    "plt.figure(figsize=(15,10))\n",
    "sns.heatmap(corr, annot=True, linewidth=.5, cmap=\"crest\")\n",
    "plt.show()"
   ]
  },
  {
   "cell_type": "markdown",
   "id": "18d5c6f5",
   "metadata": {},
   "source": [
    "From the above corelation its clear that somker variable is highly corealted to the output variable."
   ]
  },
  {
   "cell_type": "markdown",
   "id": "ddcf9ba6",
   "metadata": {},
   "source": [
    "### 2. Develop and evaluate the final model using regression with a stochastic gradient descent optimizer. Also, ensure that you apply all the following suggestions:\n",
    "### Note: \n",
    "• Perform the stratified 5-fold cross-validation technique for model building and validation\n",
    " • Use standardization and hyperparameter tuning effectively\n",
    "  • Use sklearn-pipelines\n",
    "   • Use appropriate regularization techniques to address the bias-variance trade-off\n",
    "### a. Create five folds in the data, and introduce a variable to identify the folds\n",
    "### b. For each fold, run a for loop and ensure that 80 percent of the data is used to train the model and the remaining 20 percent is used to validate it in each iteration\n",
    "### c. Develop five distinct models and five distinct validation scores (root mean squared error values)\n",
    "### d. Determine the variable importance scores, and identify the redundant variables\n"
   ]
  },
  {
   "cell_type": "code",
   "execution_count": 247,
   "id": "7ed5ab65",
   "metadata": {},
   "outputs": [],
   "source": [
    "# lets first seperate the input and output data.\n",
    "x = final_df.drop([\"charges\"], axis=1)\n",
    "y = final_df[['charges']]"
   ]
  },
  {
   "cell_type": "code",
   "execution_count": 248,
   "id": "3ff0872e",
   "metadata": {},
   "outputs": [],
   "source": [
    "# Lets split the data set into the training and testing data.\n",
    "from sklearn.model_selection import train_test_split"
   ]
  },
  {
   "cell_type": "code",
   "execution_count": 249,
   "id": "5aa8607c",
   "metadata": {},
   "outputs": [],
   "source": [
    "x_train, x_test, y_train, y_test  = train_test_split(x,y, test_size=.20, random_state=10)"
   ]
  },
  {
   "cell_type": "code",
   "execution_count": 250,
   "id": "1c75d77d",
   "metadata": {},
   "outputs": [],
   "source": [
    "# Now standardize the data.\n",
    "from sklearn.preprocessing import StandardScaler"
   ]
  },
  {
   "cell_type": "code",
   "execution_count": 251,
   "id": "b75447a1",
   "metadata": {},
   "outputs": [],
   "source": [
    "sc = StandardScaler()"
   ]
  },
  {
   "cell_type": "code",
   "execution_count": 252,
   "id": "d0b58b15",
   "metadata": {},
   "outputs": [],
   "source": [
    "x_train = sc.fit_transform(x_train)\n",
    "x_test = sc.fit_transform(x_test)"
   ]
  },
  {
   "cell_type": "code",
   "execution_count": 253,
   "id": "6a58c076",
   "metadata": {},
   "outputs": [],
   "source": [
    "from sklearn.linear_model import SGDRegressor"
   ]
  },
  {
   "cell_type": "code",
   "execution_count": 254,
   "id": "fa10682c",
   "metadata": {},
   "outputs": [
    {
     "name": "stdout",
     "output_type": "stream",
     "text": [
      "Fitting 5 folds for each of 84 candidates, totalling 420 fits\n"
     ]
    },
    {
     "data": {
      "text/plain": [
       "GridSearchCV(cv=5, estimator=SGDRegressor(),\n",
       "             param_grid={'alpha': [0.0001, 0.001, 0.01, 0.05, 0.1, 0.2, 0.3,\n",
       "                                   0.4, 0.5, 0.6, 0.7, 0.8, 0.9, 1.0, 2.0, 3.0,\n",
       "                                   4.0, 5.0, 6.0, 7.0, 8.0, 9.0, 10.0, 20, 50,\n",
       "                                   100, 500, 1000],\n",
       "                         'penalty': ['l2', 'l1', 'elasticnet']},\n",
       "             return_train_score=True, scoring='neg_mean_absolute_error',\n",
       "             verbose=1)"
      ]
     },
     "execution_count": 254,
     "metadata": {},
     "output_type": "execute_result"
    }
   ],
   "source": [
    "from sklearn.model_selection import GridSearchCV\n",
    "\n",
    "params = {'alpha': [0.0001, 0.001, 0.01, 0.05, 0.1, 0.2,0.3,0.4,0.5,\n",
    "                   0.6,0.7,0.8,0.9,1.0,2.0,3.0,4.0,5.0,6.0,7.0,8.0,\n",
    "                   9.0,10.0,20,50,100,500,1000],\n",
    "         'penalty': ['l2', 'l1', 'elasticnet']}\n",
    "\n",
    "sgd = SGDRegressor()\n",
    "\n",
    "# Cross Validation \n",
    "folds = 5\n",
    "model_cv = GridSearchCV(estimator = sgd,\n",
    "                       param_grid = params,\n",
    "                       scoring = 'neg_mean_absolute_error',\n",
    "                       cv = folds,\n",
    "                       return_train_score = True,\n",
    "                       verbose = 1)\n",
    "model_cv.fit(x_train,y_train)"
   ]
  },
  {
   "cell_type": "code",
   "execution_count": 255,
   "id": "fb2ef425",
   "metadata": {},
   "outputs": [
    {
     "data": {
      "text/plain": [
       "{'alpha': 50, 'penalty': 'l1'}"
      ]
     },
     "execution_count": 255,
     "metadata": {},
     "output_type": "execute_result"
    }
   ],
   "source": [
    "model_cv.best_params_"
   ]
  },
  {
   "cell_type": "code",
   "execution_count": 256,
   "id": "a0b01f72",
   "metadata": {},
   "outputs": [],
   "source": [
    "sgd = SGDRegressor(alpha= 100, penalty= 'l1')"
   ]
  },
  {
   "cell_type": "code",
   "execution_count": 257,
   "id": "50cce9c2",
   "metadata": {},
   "outputs": [
    {
     "data": {
      "text/plain": [
       "SGDRegressor(alpha=100, penalty='l1')"
      ]
     },
     "execution_count": 257,
     "metadata": {},
     "output_type": "execute_result"
    }
   ],
   "source": [
    "sgd.fit(x_train, y_train)"
   ]
  },
  {
   "cell_type": "code",
   "execution_count": 258,
   "id": "a069dd9e",
   "metadata": {},
   "outputs": [
    {
     "data": {
      "text/plain": [
       "0.8574058061920549"
      ]
     },
     "execution_count": 258,
     "metadata": {},
     "output_type": "execute_result"
    }
   ],
   "source": [
    "sgd.score(x_test, y_test)"
   ]
  },
  {
   "cell_type": "code",
   "execution_count": 259,
   "id": "6bf428d7",
   "metadata": {},
   "outputs": [],
   "source": [
    "y_pred = sgd.predict(x_test)"
   ]
  },
  {
   "cell_type": "code",
   "execution_count": 260,
   "id": "1ccca4b9",
   "metadata": {},
   "outputs": [],
   "source": [
    "from sklearn.metrics import mean_squared_error, mean_absolute_error"
   ]
  },
  {
   "cell_type": "code",
   "execution_count": 261,
   "id": "bb2402b7",
   "metadata": {},
   "outputs": [],
   "source": [
    "sgd_mae = mean_absolute_error(y_test, y_pred)\n",
    "sgd_mse = mean_squared_error(y_test, y_pred)\n",
    "sgd_rmse = np.sqrt(sgd_mse)"
   ]
  },
  {
   "cell_type": "code",
   "execution_count": 262,
   "id": "40afd3c6",
   "metadata": {},
   "outputs": [
    {
     "name": "stdout",
     "output_type": "stream",
     "text": [
      "MAE: 3145.3196499430524\n",
      "MSE: 23985187.279824603\n",
      "RMSE: 4897.4674353000655\n"
     ]
    }
   ],
   "source": [
    "print(\"MAE:\", sgd_mae)\n",
    "print(\"MSE:\", sgd_mse)\n",
    "print(\"RMSE:\", sgd_rmse)"
   ]
  },
  {
   "cell_type": "code",
   "execution_count": 263,
   "id": "5b47eb88",
   "metadata": {},
   "outputs": [],
   "source": [
    "# d. Determine the variable importance scores, and identify the redundant variables\n",
    "importance = sgd.coef_"
   ]
  },
  {
   "cell_type": "code",
   "execution_count": 264,
   "id": "ebc1e868",
   "metadata": {},
   "outputs": [
    {
     "data": {
      "text/html": [
       "<div>\n",
       "<style scoped>\n",
       "    .dataframe tbody tr th:only-of-type {\n",
       "        vertical-align: middle;\n",
       "    }\n",
       "\n",
       "    .dataframe tbody tr th {\n",
       "        vertical-align: top;\n",
       "    }\n",
       "\n",
       "    .dataframe thead th {\n",
       "        text-align: right;\n",
       "    }\n",
       "</style>\n",
       "<table border=\"1\" class=\"dataframe\">\n",
       "  <thead>\n",
       "    <tr style=\"text-align: right;\">\n",
       "      <th></th>\n",
       "      <th>Feature_imp</th>\n",
       "    </tr>\n",
       "  </thead>\n",
       "  <tbody>\n",
       "    <tr>\n",
       "      <th>children</th>\n",
       "      <td>365.627972</td>\n",
       "    </tr>\n",
       "    <tr>\n",
       "      <th>Hospital tier</th>\n",
       "      <td>-1080.163416</td>\n",
       "    </tr>\n",
       "    <tr>\n",
       "      <th>City tier</th>\n",
       "      <td>0.000000</td>\n",
       "    </tr>\n",
       "    <tr>\n",
       "      <th>BMI</th>\n",
       "      <td>2669.591053</td>\n",
       "    </tr>\n",
       "    <tr>\n",
       "      <th>HBA1C</th>\n",
       "      <td>41.799507</td>\n",
       "    </tr>\n",
       "    <tr>\n",
       "      <th>Heart Issues</th>\n",
       "      <td>0.000000</td>\n",
       "    </tr>\n",
       "    <tr>\n",
       "      <th>Any Transplants</th>\n",
       "      <td>0.000000</td>\n",
       "    </tr>\n",
       "    <tr>\n",
       "      <th>Cancer history</th>\n",
       "      <td>47.258781</td>\n",
       "    </tr>\n",
       "    <tr>\n",
       "      <th>NumberOfMajorSurgeries</th>\n",
       "      <td>0.000000</td>\n",
       "    </tr>\n",
       "    <tr>\n",
       "      <th>smoker</th>\n",
       "      <td>8741.236701</td>\n",
       "    </tr>\n",
       "    <tr>\n",
       "      <th>State_ID_R1011</th>\n",
       "      <td>-150.534783</td>\n",
       "    </tr>\n",
       "    <tr>\n",
       "      <th>State_ID_R1012</th>\n",
       "      <td>0.000000</td>\n",
       "    </tr>\n",
       "    <tr>\n",
       "      <th>State_ID_R1013</th>\n",
       "      <td>-376.626750</td>\n",
       "    </tr>\n",
       "    <tr>\n",
       "      <th>age</th>\n",
       "      <td>3383.403770</td>\n",
       "    </tr>\n",
       "    <tr>\n",
       "      <th>gender</th>\n",
       "      <td>0.000000</td>\n",
       "    </tr>\n",
       "  </tbody>\n",
       "</table>\n",
       "</div>"
      ],
      "text/plain": [
       "                        Feature_imp\n",
       "children                 365.627972\n",
       "Hospital tier          -1080.163416\n",
       "City tier                  0.000000\n",
       "BMI                     2669.591053\n",
       "HBA1C                     41.799507\n",
       "Heart Issues               0.000000\n",
       "Any Transplants            0.000000\n",
       "Cancer history            47.258781\n",
       "NumberOfMajorSurgeries     0.000000\n",
       "smoker                  8741.236701\n",
       "State_ID_R1011          -150.534783\n",
       "State_ID_R1012             0.000000\n",
       "State_ID_R1013          -376.626750\n",
       "age                     3383.403770\n",
       "gender                     0.000000"
      ]
     },
     "execution_count": 264,
     "metadata": {},
     "output_type": "execute_result"
    }
   ],
   "source": [
    "pd.DataFrame(importance, index = x.columns, columns=['Feature_imp'])"
   ]
  },
  {
   "cell_type": "markdown",
   "id": "79dac9f6",
   "metadata": {},
   "source": [
    "### 3. Use random forest and extreme gradient boosting for cost prediction, share your crossvalidation results, and calculate the variable importance scores"
   ]
  },
  {
   "cell_type": "markdown",
   "id": "50bc5a6e",
   "metadata": {},
   "source": [
    "### random forest"
   ]
  },
  {
   "cell_type": "code",
   "execution_count": 265,
   "id": "f67cfc0d",
   "metadata": {},
   "outputs": [],
   "source": [
    "from sklearn.ensemble import RandomForestRegressor"
   ]
  },
  {
   "cell_type": "code",
   "execution_count": 266,
   "id": "f5d1c77a",
   "metadata": {},
   "outputs": [
    {
     "data": {
      "text/plain": [
       "RandomForestRegressor(n_estimators=1000, random_state=42)"
      ]
     },
     "execution_count": 266,
     "metadata": {},
     "output_type": "execute_result"
    }
   ],
   "source": [
    "# Instantiate model with 1000 decision trees\n",
    "rf = RandomForestRegressor(n_estimators = 1000, random_state = 42)\n",
    "\n",
    "# Train the model on training data\n",
    "rf.fit(x_train, y_train)"
   ]
  },
  {
   "cell_type": "code",
   "execution_count": 267,
   "id": "6ba48a84",
   "metadata": {},
   "outputs": [
    {
     "data": {
      "text/plain": [
       "0.9222696338245824"
      ]
     },
     "execution_count": 267,
     "metadata": {},
     "output_type": "execute_result"
    }
   ],
   "source": [
    "score = rf.score(x_test,y_test)\n",
    "score"
   ]
  },
  {
   "cell_type": "code",
   "execution_count": 268,
   "id": "e37bd90c",
   "metadata": {},
   "outputs": [],
   "source": [
    "y_pred = rf.predict(x_test)"
   ]
  },
  {
   "cell_type": "code",
   "execution_count": 269,
   "id": "7e9a88a2",
   "metadata": {},
   "outputs": [],
   "source": [
    "rf_mae = mean_absolute_error(y_test, y_pred)"
   ]
  },
  {
   "cell_type": "code",
   "execution_count": 270,
   "id": "f9a358ee",
   "metadata": {},
   "outputs": [
    {
     "data": {
      "text/plain": [
       "1870.3529629462323"
      ]
     },
     "execution_count": 270,
     "metadata": {},
     "output_type": "execute_result"
    }
   ],
   "source": [
    "rf_mae"
   ]
  },
  {
   "cell_type": "markdown",
   "id": "0b27c6a6",
   "metadata": {},
   "source": [
    "### extreme gradient boosting"
   ]
  },
  {
   "cell_type": "code",
   "execution_count": 271,
   "id": "6664b15b",
   "metadata": {},
   "outputs": [],
   "source": [
    "from sklearn.ensemble import GradientBoostingRegressor"
   ]
  },
  {
   "cell_type": "code",
   "execution_count": 272,
   "id": "288e6d11",
   "metadata": {},
   "outputs": [
    {
     "data": {
      "text/plain": [
       "GradientBoostingRegressor(n_estimators=1000, random_state=42)"
      ]
     },
     "execution_count": 272,
     "metadata": {},
     "output_type": "execute_result"
    }
   ],
   "source": [
    "# Instantiate model with 1000 decision trees\n",
    "gbr = GradientBoostingRegressor(n_estimators = 1000, random_state = 42)\n",
    "\n",
    "# Train the model on training data\n",
    "gbr.fit(x_train, y_train)"
   ]
  },
  {
   "cell_type": "code",
   "execution_count": 273,
   "id": "e37e9113",
   "metadata": {},
   "outputs": [
    {
     "data": {
      "text/plain": [
       "0.9042734212625119"
      ]
     },
     "execution_count": 273,
     "metadata": {},
     "output_type": "execute_result"
    }
   ],
   "source": [
    "score = gbr.score(x_test,y_test)\n",
    "score"
   ]
  },
  {
   "cell_type": "code",
   "execution_count": 274,
   "id": "db873126",
   "metadata": {},
   "outputs": [],
   "source": [
    "y_pred = gbr.predict(x_test)"
   ]
  },
  {
   "cell_type": "code",
   "execution_count": 275,
   "id": "7063dc7e",
   "metadata": {},
   "outputs": [
    {
     "data": {
      "text/plain": [
       "2375.8700944163274"
      ]
     },
     "execution_count": 275,
     "metadata": {},
     "output_type": "execute_result"
    }
   ],
   "source": [
    "gbr_mae = mean_absolute_error(y_test, y_pred)\n",
    "gbr_mae"
   ]
  },
  {
   "cell_type": "markdown",
   "id": "31d141cb",
   "metadata": {},
   "source": [
    "### 4. Case scenario:\n",
    "### Estimate the cost of hospitalization for Christopher, Ms. Jayna (her date of birth is 12/28/1988, height is 170 cm, and weight is 85 kgs). She lives in a tier-1 city and her state’s State ID is R1011. She lives with her partner and two children. She was found to be nondiabetic (HbA1c = 5.8). She smokes but is otherwise healthy. She has had no transplants or major surgeries. Her father died of lung cancer. Hospitalization costs will be estimated using tier-1 hospitals."
   ]
  },
  {
   "cell_type": "code",
   "execution_count": 276,
   "id": "cb11e655",
   "metadata": {},
   "outputs": [
    {
     "data": {
      "text/plain": [
       "datetime.datetime(1988, 12, 28, 0, 0)"
      ]
     },
     "execution_count": 276,
     "metadata": {},
     "output_type": "execute_result"
    }
   ],
   "source": [
    "# First we need to calculate the age of the person.\n",
    "date = \"19881228\"\n",
    "date1 = datetime.strptime(date,\"%Y%m%d\")\n",
    "date1"
   ]
  },
  {
   "cell_type": "code",
   "execution_count": 277,
   "id": "8fe2c1ec",
   "metadata": {},
   "outputs": [
    {
     "data": {
      "text/plain": [
       "datetime.datetime(2023, 3, 1, 22, 56, 36, 990464)"
      ]
     },
     "execution_count": 277,
     "metadata": {},
     "output_type": "execute_result"
    }
   ],
   "source": [
    "current_date = datetime.now()\n",
    "current_date"
   ]
  },
  {
   "cell_type": "code",
   "execution_count": 278,
   "id": "ad0aeccb",
   "metadata": {},
   "outputs": [],
   "source": [
    "age =str((current_date - date1)/365)"
   ]
  },
  {
   "cell_type": "code",
   "execution_count": 279,
   "id": "d2a7b86a",
   "metadata": {},
   "outputs": [
    {
     "name": "stdout",
     "output_type": "stream",
     "text": [
      "Age= 34\n"
     ]
    }
   ],
   "source": [
    "print(\"Age=\",age[:2])"
   ]
  },
  {
   "cell_type": "code",
   "execution_count": 280,
   "id": "50eaabcd",
   "metadata": {},
   "outputs": [
    {
     "data": {
      "text/plain": [
       "29.41"
      ]
     },
     "execution_count": 280,
     "metadata": {},
     "output_type": "execute_result"
    }
   ],
   "source": [
    "# now with the help of height and weight we will calculate the BMI.\n",
    "height_m = 170/100\n",
    "height_sq = height_m*height_m\n",
    "BMI = 85/height_sq\n",
    "np.round(BMI,2)"
   ]
  },
  {
   "cell_type": "code",
   "execution_count": 281,
   "id": "7c17f10f",
   "metadata": {},
   "outputs": [],
   "source": [
    "# Now lets gen\n",
    "list = [[2,1,1,24.41,5.8,0,0,0,0,1,1,0,0,34,0]]"
   ]
  },
  {
   "cell_type": "code",
   "execution_count": 282,
   "id": "dde39152",
   "metadata": {},
   "outputs": [
    {
     "data": {
      "text/html": [
       "<div>\n",
       "<style scoped>\n",
       "    .dataframe tbody tr th:only-of-type {\n",
       "        vertical-align: middle;\n",
       "    }\n",
       "\n",
       "    .dataframe tbody tr th {\n",
       "        vertical-align: top;\n",
       "    }\n",
       "\n",
       "    .dataframe thead th {\n",
       "        text-align: right;\n",
       "    }\n",
       "</style>\n",
       "<table border=\"1\" class=\"dataframe\">\n",
       "  <thead>\n",
       "    <tr style=\"text-align: right;\">\n",
       "      <th></th>\n",
       "      <th>children</th>\n",
       "      <th>Hospital tier</th>\n",
       "      <th>City tier</th>\n",
       "      <th>BMI</th>\n",
       "      <th>HBA1C</th>\n",
       "      <th>Heart Issues</th>\n",
       "      <th>Any Transplants</th>\n",
       "      <th>Cancer history</th>\n",
       "      <th>NumberOfMajorSurgeries</th>\n",
       "      <th>smoker</th>\n",
       "      <th>State_ID_R1011</th>\n",
       "      <th>State_ID_R1012</th>\n",
       "      <th>State_ID_R1013</th>\n",
       "      <th>age</th>\n",
       "      <th>gender</th>\n",
       "    </tr>\n",
       "  </thead>\n",
       "  <tbody>\n",
       "    <tr>\n",
       "      <th>0</th>\n",
       "      <td>2</td>\n",
       "      <td>1</td>\n",
       "      <td>1</td>\n",
       "      <td>24.41</td>\n",
       "      <td>5.8</td>\n",
       "      <td>0</td>\n",
       "      <td>0</td>\n",
       "      <td>0</td>\n",
       "      <td>0</td>\n",
       "      <td>1</td>\n",
       "      <td>1</td>\n",
       "      <td>0</td>\n",
       "      <td>0</td>\n",
       "      <td>34</td>\n",
       "      <td>0</td>\n",
       "    </tr>\n",
       "  </tbody>\n",
       "</table>\n",
       "</div>"
      ],
      "text/plain": [
       "   children  Hospital tier  City tier    BMI  HBA1C  Heart Issues  \\\n",
       "0         2              1          1  24.41    5.8             0   \n",
       "\n",
       "   Any Transplants  Cancer history  NumberOfMajorSurgeries  smoker  \\\n",
       "0                0               0                       0       1   \n",
       "\n",
       "   State_ID_R1011  State_ID_R1012  State_ID_R1013  age  gender  \n",
       "0               1               0               0   34       0  "
      ]
     },
     "execution_count": 282,
     "metadata": {},
     "output_type": "execute_result"
    }
   ],
   "source": [
    "df = pd.DataFrame(list, columns = ['children', 'Hospital tier', 'City tier', 'BMI', 'HBA1C','Heart Issues', 'Any Transplants', \n",
    "                              'Cancer history','NumberOfMajorSurgeries', 'smoker', 'State_ID_R1011', 'State_ID_R1012',\n",
    "                              'State_ID_R1013', 'age', 'gender'] )\n",
    "df"
   ]
  },
  {
   "cell_type": "markdown",
   "id": "bd6bd4f9",
   "metadata": {},
   "source": [
    "### 5. Find the predicted hospitalization cost using all models. The predicted value should be the mean of the five models' predicted values."
   ]
  },
  {
   "cell_type": "code",
   "execution_count": 283,
   "id": "38784b33",
   "metadata": {},
   "outputs": [],
   "source": [
    "Hospital_cost = []"
   ]
  },
  {
   "cell_type": "code",
   "execution_count": 284,
   "id": "1e418249",
   "metadata": {},
   "outputs": [],
   "source": [
    "# Now lets predict the hospitalization cost through SGDRegressor\n",
    "Cost1 = sgd.predict(df)\n",
    "Hospital_cost.append(Cost1)"
   ]
  },
  {
   "cell_type": "code",
   "execution_count": 285,
   "id": "83e9dacd",
   "metadata": {},
   "outputs": [],
   "source": [
    "# Now lets predict the hospitalization cost through Random Forest\n",
    "Cost2 = rf.predict(df)\n",
    "Hospital_cost.append(Cost2)"
   ]
  },
  {
   "cell_type": "code",
   "execution_count": 286,
   "id": "44ab4222",
   "metadata": {},
   "outputs": [],
   "source": [
    "# Now lets predict the hospitalization cost throug Extreme gradient Booster\n",
    "Cost3 = gbr.predict(df)\n",
    "Hospital_cost.append(Cost3)"
   ]
  },
  {
   "cell_type": "code",
   "execution_count": 287,
   "id": "46fd7422",
   "metadata": {},
   "outputs": [
    {
     "data": {
      "text/plain": [
       "103919.51224697009"
      ]
     },
     "execution_count": 287,
     "metadata": {},
     "output_type": "execute_result"
    }
   ],
   "source": [
    "avg_cost = np.mean(Hospital_cost)\n",
    "avg_cost"
   ]
  },
  {
   "cell_type": "markdown",
   "id": "c6818d9b",
   "metadata": {},
   "source": [
    "#### So in the new case the avg predicted hospitalization cost is 103919.51"
   ]
  },
  {
   "cell_type": "code",
   "execution_count": null,
   "id": "ea51c8bc",
   "metadata": {},
   "outputs": [],
   "source": []
  }
 ],
 "metadata": {
  "kernelspec": {
   "display_name": "Python 3 (ipykernel)",
   "language": "python",
   "name": "python3"
  },
  "language_info": {
   "codemirror_mode": {
    "name": "ipython",
    "version": 3
   },
   "file_extension": ".py",
   "mimetype": "text/x-python",
   "name": "python",
   "nbconvert_exporter": "python",
   "pygments_lexer": "ipython3",
   "version": "3.9.13"
  }
 },
 "nbformat": 4,
 "nbformat_minor": 5
}
